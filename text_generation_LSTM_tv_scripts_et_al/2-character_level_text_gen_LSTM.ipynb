{
 "cells": [
  {
   "cell_type": "markdown",
   "metadata": {},
   "source": [
    "# Character-Level LSTM in PyTorch\n",
    "\n",
    "In this notebook, we construct a character-level LSTM with PyTorch. The network will train character by character on some text, then generate new text, character by character. As an example, we will train on Anna Karenina. This model will be able to generate new text based on the text from the book!\n",
    "\n",
    "This network is based off of Andrej Karpathy's [post on RNNs](http://karpathy.github.io/2015/05/21/rnn-effectiveness/) and [implementation in Torch](https://github.com/karpathy/char-rnn). Below is the general architecture of the character-wise RNN.\n",
    "\n",
    "<img src=\"assets/charseq.jpeg\" width=\"500\">"
   ]
  },
  {
   "cell_type": "markdown",
   "metadata": {
    "toc": true
   },
   "source": [
    "<h1>Table of Contents<span class=\"tocSkip\"></span></h1>\n",
    "<div class=\"toc\"><ul class=\"toc-item\"><li><span><a href=\"#Import-libraries-and-load-data\" data-toc-modified-id=\"Import-libraries-and-load-data-1\"><span class=\"toc-item-num\">1&nbsp;&nbsp;</span>Import libraries and load data</a></span><ul class=\"toc-item\"><li><span><a href=\"#Tokenization\" data-toc-modified-id=\"Tokenization-1.1\"><span class=\"toc-item-num\">1.1&nbsp;&nbsp;</span>Tokenization</a></span></li></ul></li><li><span><a href=\"#Pre-processing-the-data\" data-toc-modified-id=\"Pre-processing-the-data-2\"><span class=\"toc-item-num\">2&nbsp;&nbsp;</span>Pre-processing the data</a></span></li><li><span><a href=\"#Making-training-mini-batches\" data-toc-modified-id=\"Making-training-mini-batches-3\"><span class=\"toc-item-num\">3&nbsp;&nbsp;</span>Making training mini-batches</a></span><ul class=\"toc-item\"><li><span><a href=\"#Creating-Batches\" data-toc-modified-id=\"Creating-Batches-3.1\"><span class=\"toc-item-num\">3.1&nbsp;&nbsp;</span>Creating Batches</a></span></li></ul></li><li><span><a href=\"#Define-the-network-with-PyTorch\" data-toc-modified-id=\"Define-the-network-with-PyTorch-4\"><span class=\"toc-item-num\">4&nbsp;&nbsp;</span>Define the network with PyTorch</a></span></li><li><span><a href=\"#Train-the-Network\" data-toc-modified-id=\"Train-the-Network-5\"><span class=\"toc-item-num\">5&nbsp;&nbsp;</span>Train the Network</a></span></li><li><span><a href=\"#Instantiating-the-model\" data-toc-modified-id=\"Instantiating-the-model-6\"><span class=\"toc-item-num\">6&nbsp;&nbsp;</span>Instantiating the model</a></span><ul class=\"toc-item\"><li><span><a href=\"#Set-your-training-hyperparameters!\" data-toc-modified-id=\"Set-your-training-hyperparameters!-6.1\"><span class=\"toc-item-num\">6.1&nbsp;&nbsp;</span>Set your training hyperparameters!</a></span></li></ul></li><li><span><a href=\"#Checkpoint\" data-toc-modified-id=\"Checkpoint-7\"><span class=\"toc-item-num\">7&nbsp;&nbsp;</span>Checkpoint</a></span></li><li><span><a href=\"#Making-Predictions\" data-toc-modified-id=\"Making-Predictions-8\"><span class=\"toc-item-num\">8&nbsp;&nbsp;</span>Making Predictions</a></span><ul class=\"toc-item\"><li><span><a href=\"#Top-K-sampling\" data-toc-modified-id=\"Top-K-sampling-8.1\"><span class=\"toc-item-num\">8.1&nbsp;&nbsp;</span>Top K sampling</a></span></li><li><span><a href=\"#Priming-and-generating-text\" data-toc-modified-id=\"Priming-and-generating-text-8.2\"><span class=\"toc-item-num\">8.2&nbsp;&nbsp;</span>Priming and generating text</a></span></li></ul></li><li><span><a href=\"#Loading-a-checkpoint\" data-toc-modified-id=\"Loading-a-checkpoint-9\"><span class=\"toc-item-num\">9&nbsp;&nbsp;</span>Loading a checkpoint</a></span></li></ul></div>"
   ]
  },
  {
   "cell_type": "markdown",
   "metadata": {},
   "source": [
    "## Import libraries and load data"
   ]
  },
  {
   "cell_type": "code",
   "execution_count": 1,
   "metadata": {},
   "outputs": [],
   "source": [
    "import numpy as np\n",
    "import torch\n",
    "from torch import nn\n",
    "import torch.nn.functional as F"
   ]
  },
  {
   "cell_type": "code",
   "execution_count": 2,
   "metadata": {},
   "outputs": [],
   "source": [
    "# open text file and read in data as `text`\n",
    "with open('data/anna.txt', 'r') as f:\n",
    "    text = f.read()"
   ]
  },
  {
   "cell_type": "markdown",
   "metadata": {},
   "source": [
    "Let's check out the first 100 characters, make sure everything is peachy. According to the [American Book Review](http://americanbookreview.org/100bestlines.asp), this is the 6th best first line of a book ever."
   ]
  },
  {
   "cell_type": "code",
   "execution_count": 3,
   "metadata": {},
   "outputs": [
    {
     "data": {
      "text/plain": [
       "'Chapter 1\\n\\n\\nHappy families are all alike; every unhappy family is unhappy in its own\\nway.\\n\\nEverythin'"
      ]
     },
     "execution_count": 3,
     "metadata": {},
     "output_type": "execute_result"
    }
   ],
   "source": [
    "text[:100]"
   ]
  },
  {
   "cell_type": "markdown",
   "metadata": {},
   "source": [
    "### Tokenization\n",
    "\n",
    "In the cells, below, we create a couple **dictionaries** to convert the characters to and from integers, for better use as input in the network."
   ]
  },
  {
   "cell_type": "code",
   "execution_count": 4,
   "metadata": {},
   "outputs": [],
   "source": [
    "# Encode the text and map each character to an integer and vice versa\n",
    "\n",
    "# Create two dictionaries:\n",
    "chars = tuple(set(text))\n",
    "int2char = dict(enumerate(chars))  # maps integers to characters\n",
    "char2int = {ch: ii for ii, ch in int2char.items()}  # maps characters to unique integers\n",
    "\n",
    "# Encode the text\n",
    "encoded = np.array([char2int[ch] for ch in text])"
   ]
  },
  {
   "cell_type": "markdown",
   "metadata": {},
   "source": [
    "And we can see those same characters from above, encoded as integers."
   ]
  },
  {
   "cell_type": "code",
   "execution_count": 5,
   "metadata": {},
   "outputs": [
    {
     "data": {
      "text/plain": [
       "array([82, 79, 44, 38, 22, 65, 47,  2, 74, 63, 63, 63, 23, 44, 38, 38,  8,\n",
       "        2,  3, 44, 24, 61, 40, 61, 65,  9,  2, 44, 47, 65,  2, 44, 40, 40,\n",
       "        2, 44, 40, 61, 72, 65, 17,  2, 65, 66, 65, 47,  8,  2, 50, 45, 79,\n",
       "       44, 38, 38,  8,  2,  3, 44, 24, 61, 40,  8,  2, 61,  9,  2, 50, 45,\n",
       "       79, 44, 38, 38,  8,  2, 61, 45,  2, 61, 22,  9,  2, 52, 77, 45, 63,\n",
       "       77, 44,  8, 26, 63, 63,  4, 66, 65, 47,  8, 22, 79, 61, 45])"
      ]
     },
     "execution_count": 5,
     "metadata": {},
     "output_type": "execute_result"
    }
   ],
   "source": [
    "encoded[:100]"
   ]
  },
  {
   "cell_type": "markdown",
   "metadata": {},
   "source": [
    "## Pre-processing the data\n",
    "\n",
    "As you can see in our char-RNN image above, our LSTM expects an input that is **one-hot encoded** meaning that each character is converted into an integer (via our created dictionary) and *then* converted into a column vector where only it's corresponding integer index will have the value of 1 and the rest of the vector will be filled with 0's. Since we're one-hot encoding the data, let's make a function to do that!\n"
   ]
  },
  {
   "cell_type": "code",
   "execution_count": 6,
   "metadata": {},
   "outputs": [],
   "source": [
    "def one_hot_encode(arr, n_labels):\n",
    "    \n",
    "    # Initialize the the encoded array\n",
    "    one_hot = np.zeros((np.multiply(*arr.shape), n_labels), dtype=np.float32)\n",
    "    \n",
    "    # Fill the appropriate elements with ones\n",
    "    one_hot[np.arange(one_hot.shape[0]), arr.flatten()] = 1.\n",
    "    \n",
    "    # Finally reshape it to get back to the original array\n",
    "    one_hot = one_hot.reshape((*arr.shape, n_labels))\n",
    "    \n",
    "    return one_hot"
   ]
  },
  {
   "cell_type": "code",
   "execution_count": 7,
   "metadata": {},
   "outputs": [
    {
     "name": "stdout",
     "output_type": "stream",
     "text": [
      "[[[ 0.  0.  0.  1.  0.  0.  0.  0.]\n",
      "  [ 0.  0.  0.  0.  0.  1.  0.  0.]\n",
      "  [ 0.  1.  0.  0.  0.  0.  0.  0.]]]\n"
     ]
    }
   ],
   "source": [
    "# Check that the function works as expected\n",
    "test_seq = np.array([[3, 5, 1]])\n",
    "one_hot = one_hot_encode(test_seq, 8)\n",
    "\n",
    "print(one_hot)"
   ]
  },
  {
   "cell_type": "markdown",
   "metadata": {},
   "source": [
    "## Making training mini-batches\n",
    "\n",
    "\n",
    "To train on this data, we also want to create mini-batches for training. Remember that we want our batches to be multiple sequences of some desired number of sequence steps. Considering a simple example, our batches would look like this:\n",
    "\n",
    "<img src=\"assets/sequence_batching@1x.png\" width=500px>\n",
    "\n",
    "\n",
    "<br>\n",
    "\n",
    "In this example, we'll take the encoded characters (passed in as the `arr` parameter) and split them into multiple sequences, given by `batch_size`. Each of our sequences will be `seq_length` long.\n",
    "\n",
    "### Creating Batches\n",
    "\n",
    "**1. The first thing we need to do is discard some of the text so we only have completely full mini-batches. **\n",
    "\n",
    "Each batch contains $N \\times M$ characters, where $N$ is the batch size (the number of sequences in a batch) and $M$ is the seq_length or number of time steps in a sequence. Then, to get the total number of batches, $K$, that we can make from the array `arr`, you divide the length of `arr` by the number of characters per batch. Once you know the number of batches, you can get the total number of characters to keep from `arr`, $N * M * K$.\n",
    "\n",
    "**2. After that, we need to split `arr` into $N$ batches. ** \n",
    "\n",
    "You can do this using `arr.reshape(size)` where `size` is a tuple containing the dimensions sizes of the reshaped array. We know we want $N$ sequences in a batch, so let's make that the size of the first dimension. For the second dimension, you can use `-1` as a placeholder in the size, it'll fill up the array with the appropriate data for you. After this, you should have an array that is $N \\times (M * K)$.\n",
    "\n",
    "**3. Now that we have this array, we can iterate through it to get our mini-batches. **\n",
    "\n",
    "The idea is each batch is a $N \\times M$ window on the $N \\times (M * K)$ array. For each subsequent batch, the window moves over by `seq_length`. We also want to create both the input and target arrays. Remember that the targets are just the inputs shifted over by one character. The way I like to do this window is use `range` to take steps of size `n_steps` from $0$ to `arr.shape[1]`, the total number of tokens in each sequence. That way, the integers you get from `range` always point to the start of a batch, and each window is `seq_length` wide.\n",
    "\n",
    "> **TODO:** Write the code for creating batches in the function below. The exercises in this notebook _will not be easy_. I've provided a notebook with solutions alongside this notebook. If you get stuck, checkout the solutions. The most important thing is that you don't copy and paste the code into here, **type out the solution code yourself.**"
   ]
  },
  {
   "cell_type": "code",
   "execution_count": 8,
   "metadata": {},
   "outputs": [],
   "source": [
    "def get_batches(arr, batch_size, seq_length):\n",
    "    '''Create a generator that returns batches of size\n",
    "       batch_size x seq_length from arr.\n",
    "       \n",
    "       Arguments\n",
    "       ---------\n",
    "       arr: Array you want to make batches from\n",
    "       batch_size: Batch size, the number of sequences per batch\n",
    "       seq_length: Number of encoded chars in a sequence\n",
    "    '''\n",
    "    \n",
    "    batch_size_total = batch_size * seq_length\n",
    "    # total number of batches we can make\n",
    "    n_batches = len(arr)//batch_size_total  # NOTE: // = int-division, rounding down\n",
    "    \n",
    "    # Keep only enough characters to make full batches\n",
    "    arr = arr[:n_batches * batch_size_total]\n",
    "    # Reshape into batch_size rows\n",
    "    arr = arr.reshape((batch_size, -1))\n",
    "    \n",
    "    # iterate through the array, one sequence at a time\n",
    "    for n in range(0, arr.shape[1], seq_length):\n",
    "        # The features\n",
    "        x = arr[:, n:n+seq_length]\n",
    "        # The targets, shifted by one\n",
    "        y = np.zeros_like(x)\n",
    "        try:\n",
    "            y[:, :-1], y[:, -1] = x[:, 1:], arr[:, n+seq_length]\n",
    "        except IndexError:\n",
    "            # if we are at the end of the batch we simply twist arr around to the start\n",
    "            y[:, :-1], y[:, -1] = x[:, 1:], arr[:, 0]\n",
    "        \n",
    "        yield x, y"
   ]
  },
  {
   "cell_type": "markdown",
   "metadata": {},
   "source": [
    "For testing now we make some data sets and we can check out what's going on as we batch data. Here, as an example, I'm going to use a batch size of 8 and 50 sequence steps."
   ]
  },
  {
   "cell_type": "code",
   "execution_count": 9,
   "metadata": {},
   "outputs": [],
   "source": [
    "batches = get_batches(encoded, 8, 50)\n",
    "x, y = next(batches)"
   ]
  },
  {
   "cell_type": "code",
   "execution_count": 10,
   "metadata": {},
   "outputs": [
    {
     "name": "stdout",
     "output_type": "stream",
     "text": [
      "x\n",
      " [[82 79 44 38 22 65 47  2 74 63]\n",
      " [ 9 52 45  2 22 79 44 22  2 44]\n",
      " [65 45 27  2 52 47  2 44  2  3]\n",
      " [ 9  2 22 79 65  2 11 79 61 65]\n",
      " [ 2  9 44 77  2 79 65 47  2 22]\n",
      " [11 50  9  9 61 52 45  2 44 45]\n",
      " [ 2 39 45 45 44  2 79 44 27  2]\n",
      " [46  5 40 52 45  9 72  8 26  2]]\n",
      "\n",
      "y\n",
      " [[79 44 38 22 65 47  2 74 63 63]\n",
      " [52 45  2 22 79 44 22  2 44 22]\n",
      " [45 27  2 52 47  2 44  2  3 52]\n",
      " [ 2 22 79 65  2 11 79 61 65  3]\n",
      " [ 9 44 77  2 79 65 47  2 22 65]\n",
      " [50  9  9 61 52 45  2 44 45 27]\n",
      " [39 45 45 44  2 79 44 27  2  9]\n",
      " [ 5 40 52 45  9 72  8 26  2 70]]\n"
     ]
    }
   ],
   "source": [
    "# Print out the first 10 items in a sequence\n",
    "print('x\\n', x[:10, :10])\n",
    "print('\\ny\\n', y[:10, :10])"
   ]
  },
  {
   "cell_type": "markdown",
   "metadata": {},
   "source": [
    "---\n",
    "## Define the network with PyTorch\n",
    "\n",
    "<img src=\"assets/charRNN.png\" width=500px>\n",
    "\n",
    "Next, you'll use PyTorch to define the architecture of the network. We start by defining the layers and operations we want. Then, define a method for the forward pass. You've also been given a method for predicting characters."
   ]
  },
  {
   "cell_type": "markdown",
   "metadata": {},
   "source": [
    "**Model Structure**\n",
    "\n",
    "In `__init__` the suggested structure is as follows:\n",
    "* Create and store the necessary dictionaries\n",
    "* Define an LSTM layer that takes as params: an input size (the number of characters), a hidden layer size `n_hidden`, a number of layers `n_layers`, a dropout probability `drop_prob`, and a batch_first boolean (True, since we are batching)\n",
    "* Define a dropout layer with `dropout_prob`\n",
    "* Define a fully-connected layer with params: input size `n_hidden` and output size (the number of characters)\n",
    "* Finally, initialize the weights"
   ]
  },
  {
   "cell_type": "markdown",
   "metadata": {},
   "source": [
    "**LSTM Inputs/Outputs**\n",
    "\n",
    "You can create a basic [LSTM layer](https://pytorch.org/docs/stable/nn.html#lstm) as follows\n",
    "\n",
    "```python\n",
    "self.lstm = nn.LSTM(input_size, n_hidden, n_layers, \n",
    "                            dropout=drop_prob, batch_first=True)\n",
    "```\n",
    "\n",
    "where `input_size` is the number of characters this cell expects to see as sequential input, and `n_hidden` is the number of units in the hidden layers in the cell. And we can add dropout by adding a dropout parameter with a specified probability; this will automatically add dropout to the inputs or outputs. Finally, in the `forward` function, we can stack up the LSTM cells into layers using `.view`. With this, you pass in a list of cells and it will send the output of one cell into the next cell.\n",
    "\n",
    "We also need to create an initial hidden state of all zeros. This is done like so\n",
    "\n",
    "```python\n",
    "self.init_hidden()\n",
    "```"
   ]
  },
  {
   "cell_type": "code",
   "execution_count": 11,
   "metadata": {},
   "outputs": [
    {
     "name": "stdout",
     "output_type": "stream",
     "text": [
      "Training on GPU!\n"
     ]
    }
   ],
   "source": [
    "# check if GPU is available\n",
    "train_on_gpu = torch.cuda.is_available()\n",
    "if(train_on_gpu):\n",
    "    print('Training on GPU!')\n",
    "else: \n",
    "    print('No GPU available, training on CPU; consider making n_epochs very small.')"
   ]
  },
  {
   "cell_type": "code",
   "execution_count": 12,
   "metadata": {},
   "outputs": [],
   "source": [
    "class CharRNN(nn.Module):\n",
    "    \n",
    "    def __init__(self, tokens, n_hidden=256, n_layers=2,\n",
    "                               drop_prob=0.5, lr=0.001):\n",
    "        super().__init__()\n",
    "        self.drop_prob = drop_prob\n",
    "        self.n_layers = n_layers\n",
    "        self.n_hidden = n_hidden\n",
    "        self.lr = lr\n",
    "        \n",
    "        # Creating character dictionaries\n",
    "        self.chars = tokens  # this is our vocabulary\n",
    "        self.int2char = dict(enumerate(self.chars))\n",
    "        self.char2int = {ch: ii for ii, ch in self.int2char.items()}\n",
    "        \n",
    "        # Define the layers of the model\n",
    "        self.lstm = nn.LSTM(len(self.chars), n_hidden, n_layers, \n",
    "                            dropout=drop_prob, batch_first=True)\n",
    "        \n",
    "        self.dropout = nn.Dropout(p=drop_prob)\n",
    "        \n",
    "        self.fc = nn.Linear(n_hidden, len(self.chars))\n",
    "    \n",
    "    def forward(self, x, hidden):\n",
    "        ''' Forward pass through the network. \n",
    "            These inputs are x, and the hidden/cell state `hidden`. '''\n",
    "                \n",
    "        # Get the outputs and the new hidden state from the lstm\n",
    "        r_output, hidden = self.lstm(x, hidden)\n",
    "        out = self.dropout(r_output)\n",
    "        \n",
    "        # Stack up LSTM outputs\n",
    "        # you may need to use contiguous to reshape the output !\n",
    "        out = out.contiguous().view(-1, self.n_hidden)\n",
    "        out = self.fc(out)\n",
    "        \n",
    "        return out, hidden\n",
    "    \n",
    "    \n",
    "    def init_hidden(self, batch_size):\n",
    "        ''' Initializes hidden state '''\n",
    "        # Create two new tensors with sizes n_layers x batch_size x n_hidden,\n",
    "        # initialized to zero, for hidden state and cell state of LSTM\n",
    "        weight = next(self.parameters()).data\n",
    "        \n",
    "        if (train_on_gpu):\n",
    "            hidden = (weight.new(self.n_layers, batch_size, self.n_hidden).zero_().cuda(),\n",
    "                  weight.new(self.n_layers, batch_size, self.n_hidden).zero_().cuda())\n",
    "        else:\n",
    "            hidden = (weight.new(self.n_layers, batch_size, self.n_hidden).zero_(),\n",
    "                      weight.new(self.n_layers, batch_size, self.n_hidden).zero_())\n",
    "        \n",
    "        return hidden\n",
    "        "
   ]
  },
  {
   "cell_type": "markdown",
   "metadata": {},
   "source": [
    "## Train the Network\n",
    "\n",
    "The train function gives us the ability to set the number of epochs, the learning rate, and other parameters.\n",
    "\n",
    "Below we're using an Adam optimizer and cross entropy loss since we are looking at character class scores as output. We calculate the loss and perform backpropagation, as usual!\n",
    "\n",
    "A couple of details about training: \n",
    ">* Within the batch loop, we detach the hidden state from its history; this time setting it equal to a new *tuple* variable because an LSTM has a hidden state that is a tuple of the hidden and cell states.\n",
    "* We use [`clip_grad_norm_`](https://pytorch.org/docs/stable/_modules/torch/nn/utils/clip_grad.html) to help prevent exploding gradients."
   ]
  },
  {
   "cell_type": "code",
   "execution_count": 13,
   "metadata": {},
   "outputs": [],
   "source": [
    "def train(net, data, epochs=10, batch_size=10, seq_length=50, lr=0.001, clip=5, val_frac=0.1, print_every=10):\n",
    "    ''' Training a network \n",
    "    \n",
    "        Arguments\n",
    "        ---------\n",
    "        \n",
    "        net: CharRNN network\n",
    "        data: text data to train the network\n",
    "        epochs: Number of epochs to train\n",
    "        batch_size: Number of mini-sequences per mini-batch, aka batch size\n",
    "        seq_length: Number of character steps per mini-batch\n",
    "        lr: learning rate\n",
    "        clip: gradient clipping\n",
    "        val_frac: Fraction of data to hold out for validation\n",
    "        print_every: Number of steps for printing training and validation loss\n",
    "    \n",
    "    '''\n",
    "    net.train()\n",
    "    \n",
    "    opt = torch.optim.Adam(net.parameters(), lr=lr)\n",
    "    criterion = nn.CrossEntropyLoss()\n",
    "    \n",
    "    # create training and validation data\n",
    "    val_idx = int(len(data)*(1-val_frac))\n",
    "    data, val_data = data[:val_idx], data[val_idx:]\n",
    "    \n",
    "    if(train_on_gpu):\n",
    "        net.cuda()\n",
    "    \n",
    "    counter = 0\n",
    "    n_chars = len(net.chars)\n",
    "    for e in range(epochs):\n",
    "        # initialize hidden state\n",
    "        h = net.init_hidden(batch_size)\n",
    "        \n",
    "        for x, y in get_batches(data, batch_size, seq_length):\n",
    "            counter += 1\n",
    "            \n",
    "            # One-hot encode our data and make them Torch tensors\n",
    "            x = one_hot_encode(x, n_chars)\n",
    "            inputs, targets = torch.from_numpy(x), torch.from_numpy(y)\n",
    "            \n",
    "            if(train_on_gpu):\n",
    "                inputs, targets = inputs.cuda(), targets.cuda()\n",
    "\n",
    "            # Creating new variables for the hidden state, otherwise\n",
    "            # we'd backprop through the entire training history\n",
    "            h = tuple([each.data for each in h])\n",
    "\n",
    "            # zero accumulated gradients\n",
    "            net.zero_grad()\n",
    "            \n",
    "            # get the output from the model\n",
    "            output, h = net(inputs, h)\n",
    "            \n",
    "            # calculate the loss and perform backprop\n",
    "            loss = criterion(output, targets.view(batch_size*seq_length))\n",
    "            loss.backward()\n",
    "            # `clip_grad_norm` helps prevent the exploding gradient problem in RNNs / LSTMs.\n",
    "            nn.utils.clip_grad_norm_(net.parameters(), clip)\n",
    "            opt.step()\n",
    "            \n",
    "            # loss stats\n",
    "            if counter % print_every == 0:\n",
    "                # Get validation loss\n",
    "                val_h = net.init_hidden(batch_size)\n",
    "                val_losses = []\n",
    "                net.eval()\n",
    "                for x, y in get_batches(val_data, batch_size, seq_length):\n",
    "                    # One-hot encode our data and make them Torch tensors\n",
    "                    x = one_hot_encode(x, n_chars)\n",
    "                    x, y = torch.from_numpy(x), torch.from_numpy(y)\n",
    "                    \n",
    "                    # Creating new variables for the hidden state, otherwise\n",
    "                    # we'd backprop through the entire training history\n",
    "                    val_h = tuple([each.data for each in val_h])\n",
    "                    \n",
    "                    inputs, targets = x, y\n",
    "                    if(train_on_gpu):\n",
    "                        inputs, targets = inputs.cuda(), targets.cuda()\n",
    "\n",
    "                    output, val_h = net(inputs, val_h)\n",
    "                    val_loss = criterion(output, targets.view(batch_size*seq_length))\n",
    "                \n",
    "                    val_losses.append(val_loss.item())\n",
    "                \n",
    "                net.train() # reset to train mode after iterationg through validation data\n",
    "                \n",
    "                print(\"Epoch: {}/{}...\".format(e+1, epochs),\n",
    "                      \"Step: {}...\".format(counter),\n",
    "                      \"Loss: {:.4f}...\".format(loss.item()),\n",
    "                      \"Val Loss: {:.4f}\".format(np.mean(val_losses)))"
   ]
  },
  {
   "cell_type": "markdown",
   "metadata": {},
   "source": [
    "### Instantiating the model\n",
    "\n",
    "Now we can actually train the network. First we'll create the network itself, with some given hyperparameters. Then, define the mini-batches sizes, and start training!"
   ]
  },
  {
   "cell_type": "code",
   "execution_count": 14,
   "metadata": {
    "scrolled": true
   },
   "outputs": [
    {
     "name": "stdout",
     "output_type": "stream",
     "text": [
      "CharRNN(\n",
      "  (lstm): LSTM(83, 512, num_layers=2, batch_first=True, dropout=0.5)\n",
      "  (dropout): Dropout(p=0.5)\n",
      "  (fc): Linear(in_features=512, out_features=83, bias=True)\n",
      ")\n"
     ]
    }
   ],
   "source": [
    "# Set the model hyperparameters\n",
    "n_hidden= 512\n",
    "n_layers= 2\n",
    "\n",
    "# Define and print the net\n",
    "net = CharRNN(chars, n_hidden, n_layers)\n",
    "print(net)"
   ]
  },
  {
   "cell_type": "markdown",
   "metadata": {},
   "source": [
    "### Set training hyperparameters"
   ]
  },
  {
   "cell_type": "code",
   "execution_count": 15,
   "metadata": {
    "scrolled": true
   },
   "outputs": [
    {
     "name": "stdout",
     "output_type": "stream",
     "text": [
      "Epoch: 1/15... Step: 10... Loss: 3.2560... Val Loss: 3.2109\n",
      "Epoch: 1/15... Step: 20... Loss: 3.1469... Val Loss: 3.1377\n",
      "Epoch: 1/15... Step: 30... Loss: 3.1410... Val Loss: 3.1247\n",
      "Epoch: 1/15... Step: 40... Loss: 3.1135... Val Loss: 3.1188\n",
      "Epoch: 1/15... Step: 50... Loss: 3.1377... Val Loss: 3.1169\n",
      "Epoch: 1/15... Step: 60... Loss: 3.1200... Val Loss: 3.1144\n",
      "Epoch: 1/15... Step: 70... Loss: 3.1049... Val Loss: 3.1116\n",
      "Epoch: 1/15... Step: 80... Loss: 3.1170... Val Loss: 3.1035\n",
      "Epoch: 1/15... Step: 90... Loss: 3.0994... Val Loss: 3.0837\n",
      "Epoch: 1/15... Step: 100... Loss: 3.0583... Val Loss: 3.0422\n",
      "Epoch: 1/15... Step: 110... Loss: 3.0259... Val Loss: 3.0047\n",
      "Epoch: 1/15... Step: 120... Loss: 2.8956... Val Loss: 2.8908\n",
      "Epoch: 1/15... Step: 130... Loss: 2.7937... Val Loss: 2.7472\n",
      "Epoch: 2/15... Step: 140... Loss: 2.7005... Val Loss: 2.6366\n",
      "Epoch: 2/15... Step: 150... Loss: 2.6063... Val Loss: 2.5651\n",
      "Epoch: 2/15... Step: 160... Loss: 2.5452... Val Loss: 2.5057\n",
      "Epoch: 2/15... Step: 170... Loss: 2.4719... Val Loss: 2.4599\n",
      "Epoch: 2/15... Step: 180... Loss: 2.4447... Val Loss: 2.4238\n",
      "Epoch: 2/15... Step: 190... Loss: 2.4011... Val Loss: 2.4017\n",
      "Epoch: 2/15... Step: 200... Loss: 2.3977... Val Loss: 2.3691\n",
      "Epoch: 2/15... Step: 210... Loss: 2.3611... Val Loss: 2.3361\n",
      "Epoch: 2/15... Step: 220... Loss: 2.3232... Val Loss: 2.3029\n",
      "Epoch: 2/15... Step: 230... Loss: 2.3041... Val Loss: 2.2745\n",
      "Epoch: 2/15... Step: 240... Loss: 2.2870... Val Loss: 2.2507\n",
      "Epoch: 2/15... Step: 250... Loss: 2.2190... Val Loss: 2.2232\n",
      "Epoch: 2/15... Step: 260... Loss: 2.1948... Val Loss: 2.1949\n",
      "Epoch: 2/15... Step: 270... Loss: 2.1958... Val Loss: 2.1695\n",
      "Epoch: 3/15... Step: 280... Loss: 2.1875... Val Loss: 2.1437\n",
      "Epoch: 3/15... Step: 290... Loss: 2.1538... Val Loss: 2.1189\n",
      "Epoch: 3/15... Step: 300... Loss: 2.1278... Val Loss: 2.0962\n",
      "Epoch: 3/15... Step: 310... Loss: 2.1008... Val Loss: 2.0765\n",
      "Epoch: 3/15... Step: 320... Loss: 2.0564... Val Loss: 2.0489\n",
      "Epoch: 3/15... Step: 330... Loss: 2.0404... Val Loss: 2.0353\n",
      "Epoch: 3/15... Step: 340... Loss: 2.0591... Val Loss: 2.0150\n",
      "Epoch: 3/15... Step: 350... Loss: 2.0292... Val Loss: 1.9944\n",
      "Epoch: 3/15... Step: 360... Loss: 1.9635... Val Loss: 1.9773\n",
      "Epoch: 3/15... Step: 370... Loss: 1.9942... Val Loss: 1.9579\n",
      "Epoch: 3/15... Step: 380... Loss: 1.9681... Val Loss: 1.9403\n",
      "Epoch: 3/15... Step: 390... Loss: 1.9360... Val Loss: 1.9231\n",
      "Epoch: 3/15... Step: 400... Loss: 1.9109... Val Loss: 1.9133\n",
      "Epoch: 3/15... Step: 410... Loss: 1.9264... Val Loss: 1.8939\n",
      "Epoch: 4/15... Step: 420... Loss: 1.9204... Val Loss: 1.8806\n",
      "Epoch: 4/15... Step: 430... Loss: 1.9023... Val Loss: 1.8642\n",
      "Epoch: 4/15... Step: 440... Loss: 1.8856... Val Loss: 1.8559\n",
      "Epoch: 4/15... Step: 450... Loss: 1.8269... Val Loss: 1.8393\n",
      "Epoch: 4/15... Step: 460... Loss: 1.8199... Val Loss: 1.8320\n",
      "Epoch: 4/15... Step: 470... Loss: 1.8563... Val Loss: 1.8192\n",
      "Epoch: 4/15... Step: 480... Loss: 1.8308... Val Loss: 1.8089\n",
      "Epoch: 4/15... Step: 490... Loss: 1.8327... Val Loss: 1.7978\n",
      "Epoch: 4/15... Step: 500... Loss: 1.8292... Val Loss: 1.7910\n",
      "Epoch: 4/15... Step: 510... Loss: 1.7979... Val Loss: 1.7783\n",
      "Epoch: 4/15... Step: 520... Loss: 1.8206... Val Loss: 1.7673\n",
      "Epoch: 4/15... Step: 530... Loss: 1.7721... Val Loss: 1.7572\n",
      "Epoch: 4/15... Step: 540... Loss: 1.7391... Val Loss: 1.7464\n",
      "Epoch: 4/15... Step: 550... Loss: 1.7829... Val Loss: 1.7363\n",
      "Epoch: 5/15... Step: 560... Loss: 1.7565... Val Loss: 1.7288\n",
      "Epoch: 5/15... Step: 570... Loss: 1.7308... Val Loss: 1.7184\n",
      "Epoch: 5/15... Step: 580... Loss: 1.7214... Val Loss: 1.7124\n",
      "Epoch: 5/15... Step: 590... Loss: 1.7133... Val Loss: 1.7011\n",
      "Epoch: 5/15... Step: 600... Loss: 1.7161... Val Loss: 1.6954\n",
      "Epoch: 5/15... Step: 610... Loss: 1.6905... Val Loss: 1.6881\n",
      "Epoch: 5/15... Step: 620... Loss: 1.6986... Val Loss: 1.6792\n",
      "Epoch: 5/15... Step: 630... Loss: 1.7196... Val Loss: 1.6753\n",
      "Epoch: 5/15... Step: 640... Loss: 1.6829... Val Loss: 1.6715\n",
      "Epoch: 5/15... Step: 650... Loss: 1.6721... Val Loss: 1.6615\n",
      "Epoch: 5/15... Step: 660... Loss: 1.6485... Val Loss: 1.6548\n",
      "Epoch: 5/15... Step: 670... Loss: 1.6735... Val Loss: 1.6499\n",
      "Epoch: 5/15... Step: 680... Loss: 1.6653... Val Loss: 1.6423\n",
      "Epoch: 5/15... Step: 690... Loss: 1.6514... Val Loss: 1.6366\n",
      "Epoch: 6/15... Step: 700... Loss: 1.6524... Val Loss: 1.6273\n",
      "Epoch: 6/15... Step: 710... Loss: 1.6372... Val Loss: 1.6225\n",
      "Epoch: 6/15... Step: 720... Loss: 1.6206... Val Loss: 1.6189\n",
      "Epoch: 6/15... Step: 730... Loss: 1.6340... Val Loss: 1.6066\n",
      "Epoch: 6/15... Step: 740... Loss: 1.6047... Val Loss: 1.6089\n",
      "Epoch: 6/15... Step: 750... Loss: 1.5880... Val Loss: 1.6027\n",
      "Epoch: 6/15... Step: 760... Loss: 1.6264... Val Loss: 1.5950\n",
      "Epoch: 6/15... Step: 770... Loss: 1.6074... Val Loss: 1.5919\n",
      "Epoch: 6/15... Step: 780... Loss: 1.5904... Val Loss: 1.5883\n",
      "Epoch: 6/15... Step: 790... Loss: 1.5817... Val Loss: 1.5865\n",
      "Epoch: 6/15... Step: 800... Loss: 1.6090... Val Loss: 1.5845\n",
      "Epoch: 6/15... Step: 810... Loss: 1.5844... Val Loss: 1.5762\n",
      "Epoch: 6/15... Step: 820... Loss: 1.5458... Val Loss: 1.5680\n",
      "Epoch: 6/15... Step: 830... Loss: 1.5820... Val Loss: 1.5643\n",
      "Epoch: 7/15... Step: 840... Loss: 1.5446... Val Loss: 1.5602\n",
      "Epoch: 7/15... Step: 850... Loss: 1.5567... Val Loss: 1.5564\n",
      "Epoch: 7/15... Step: 860... Loss: 1.5509... Val Loss: 1.5526\n",
      "Epoch: 7/15... Step: 870... Loss: 1.5549... Val Loss: 1.5433\n",
      "Epoch: 7/15... Step: 880... Loss: 1.5523... Val Loss: 1.5462\n",
      "Epoch: 7/15... Step: 890... Loss: 1.5550... Val Loss: 1.5391\n",
      "Epoch: 7/15... Step: 900... Loss: 1.5304... Val Loss: 1.5365\n",
      "Epoch: 7/15... Step: 910... Loss: 1.5029... Val Loss: 1.5339\n",
      "Epoch: 7/15... Step: 920... Loss: 1.5323... Val Loss: 1.5321\n",
      "Epoch: 7/15... Step: 930... Loss: 1.5164... Val Loss: 1.5257\n",
      "Epoch: 7/15... Step: 940... Loss: 1.5173... Val Loss: 1.5210\n",
      "Epoch: 7/15... Step: 950... Loss: 1.5336... Val Loss: 1.5180\n",
      "Epoch: 7/15... Step: 960... Loss: 1.5319... Val Loss: 1.5179\n",
      "Epoch: 7/15... Step: 970... Loss: 1.5328... Val Loss: 1.5118\n",
      "Epoch: 8/15... Step: 980... Loss: 1.5118... Val Loss: 1.5084\n",
      "Epoch: 8/15... Step: 990... Loss: 1.5173... Val Loss: 1.5030\n",
      "Epoch: 8/15... Step: 1000... Loss: 1.4976... Val Loss: 1.5008\n",
      "Epoch: 8/15... Step: 1010... Loss: 1.5287... Val Loss: 1.4967\n",
      "Epoch: 8/15... Step: 1020... Loss: 1.4999... Val Loss: 1.4959\n",
      "Epoch: 8/15... Step: 1030... Loss: 1.4869... Val Loss: 1.4919\n",
      "Epoch: 8/15... Step: 1040... Loss: 1.5041... Val Loss: 1.4921\n",
      "Epoch: 8/15... Step: 1050... Loss: 1.4823... Val Loss: 1.4866\n",
      "Epoch: 8/15... Step: 1060... Loss: 1.4751... Val Loss: 1.4853\n",
      "Epoch: 8/15... Step: 1070... Loss: 1.4863... Val Loss: 1.4818\n",
      "Epoch: 8/15... Step: 1080... Loss: 1.4821... Val Loss: 1.4791\n",
      "Epoch: 8/15... Step: 1090... Loss: 1.4642... Val Loss: 1.4763\n",
      "Epoch: 8/15... Step: 1100... Loss: 1.4595... Val Loss: 1.4751\n",
      "Epoch: 8/15... Step: 1110... Loss: 1.4677... Val Loss: 1.4714\n",
      "Epoch: 9/15... Step: 1120... Loss: 1.4742... Val Loss: 1.4649\n",
      "Epoch: 9/15... Step: 1130... Loss: 1.4773... Val Loss: 1.4613\n",
      "Epoch: 9/15... Step: 1140... Loss: 1.4720... Val Loss: 1.4607\n",
      "Epoch: 9/15... Step: 1150... Loss: 1.4856... Val Loss: 1.4590\n",
      "Epoch: 9/15... Step: 1160... Loss: 1.4454... Val Loss: 1.4566\n",
      "Epoch: 9/15... Step: 1170... Loss: 1.4553... Val Loss: 1.4531\n",
      "Epoch: 9/15... Step: 1180... Loss: 1.4475... Val Loss: 1.4542\n",
      "Epoch: 9/15... Step: 1190... Loss: 1.4737... Val Loss: 1.4530\n",
      "Epoch: 9/15... Step: 1200... Loss: 1.4239... Val Loss: 1.4484\n",
      "Epoch: 9/15... Step: 1210... Loss: 1.4392... Val Loss: 1.4446\n",
      "Epoch: 9/15... Step: 1220... Loss: 1.4336... Val Loss: 1.4436\n",
      "Epoch: 9/15... Step: 1230... Loss: 1.4197... Val Loss: 1.4442\n",
      "Epoch: 9/15... Step: 1240... Loss: 1.4265... Val Loss: 1.4409\n",
      "Epoch: 9/15... Step: 1250... Loss: 1.4357... Val Loss: 1.4366\n",
      "Epoch: 10/15... Step: 1260... Loss: 1.4385... Val Loss: 1.4421\n",
      "Epoch: 10/15... Step: 1270... Loss: 1.4344... Val Loss: 1.4328\n",
      "Epoch: 10/15... Step: 1280... Loss: 1.4400... Val Loss: 1.4294\n",
      "Epoch: 10/15... Step: 1290... Loss: 1.4401... Val Loss: 1.4291\n",
      "Epoch: 10/15... Step: 1300... Loss: 1.4232... Val Loss: 1.4282\n",
      "Epoch: 10/15... Step: 1310... Loss: 1.4285... Val Loss: 1.4229\n",
      "Epoch: 10/15... Step: 1320... Loss: 1.3944... Val Loss: 1.4251\n",
      "Epoch: 10/15... Step: 1330... Loss: 1.4010... Val Loss: 1.4236\n",
      "Epoch: 10/15... Step: 1340... Loss: 1.3854... Val Loss: 1.4171\n",
      "Epoch: 10/15... Step: 1350... Loss: 1.3826... Val Loss: 1.4181\n",
      "Epoch: 10/15... Step: 1360... Loss: 1.3932... Val Loss: 1.4179\n",
      "Epoch: 10/15... Step: 1370... Loss: 1.3799... Val Loss: 1.4150\n",
      "Epoch: 10/15... Step: 1380... Loss: 1.4224... Val Loss: 1.4106\n",
      "Epoch: 10/15... Step: 1390... Loss: 1.4245... Val Loss: 1.4092\n",
      "Epoch: 11/15... Step: 1400... Loss: 1.4205... Val Loss: 1.4099\n",
      "Epoch: 11/15... Step: 1410... Loss: 1.4341... Val Loss: 1.4042\n",
      "Epoch: 11/15... Step: 1420... Loss: 1.4205... Val Loss: 1.4022\n",
      "Epoch: 11/15... Step: 1430... Loss: 1.3964... Val Loss: 1.4051\n",
      "Epoch: 11/15... Step: 1440... Loss: 1.4208... Val Loss: 1.4031\n",
      "Epoch: 11/15... Step: 1450... Loss: 1.3465... Val Loss: 1.4016\n",
      "Epoch: 11/15... Step: 1460... Loss: 1.3887... Val Loss: 1.4004\n",
      "Epoch: 11/15... Step: 1470... Loss: 1.3657... Val Loss: 1.3991\n",
      "Epoch: 11/15... Step: 1480... Loss: 1.3834... Val Loss: 1.3952\n",
      "Epoch: 11/15... Step: 1490... Loss: 1.3734... Val Loss: 1.3950\n",
      "Epoch: 11/15... Step: 1500... Loss: 1.3621... Val Loss: 1.3943\n",
      "Epoch: 11/15... Step: 1510... Loss: 1.3422... Val Loss: 1.3945\n",
      "Epoch: 11/15... Step: 1520... Loss: 1.3838... Val Loss: 1.3929\n",
      "Epoch: 12/15... Step: 1530... Loss: 1.4336... Val Loss: 1.3861\n",
      "Epoch: 12/15... Step: 1540... Loss: 1.3836... Val Loss: 1.3883\n",
      "Epoch: 12/15... Step: 1550... Loss: 1.3908... Val Loss: 1.3857\n",
      "Epoch: 12/15... Step: 1560... Loss: 1.3967... Val Loss: 1.3834\n",
      "Epoch: 12/15... Step: 1570... Loss: 1.3529... Val Loss: 1.3851\n",
      "Epoch: 12/15... Step: 1580... Loss: 1.3235... Val Loss: 1.3833\n",
      "Epoch: 12/15... Step: 1590... Loss: 1.3320... Val Loss: 1.3820\n",
      "Epoch: 12/15... Step: 1600... Loss: 1.3501... Val Loss: 1.3859\n",
      "Epoch: 12/15... Step: 1610... Loss: 1.3370... Val Loss: 1.3813\n",
      "Epoch: 12/15... Step: 1620... Loss: 1.3446... Val Loss: 1.3750\n",
      "Epoch: 12/15... Step: 1630... Loss: 1.3682... Val Loss: 1.3728\n",
      "Epoch: 12/15... Step: 1640... Loss: 1.3481... Val Loss: 1.3777\n",
      "Epoch: 12/15... Step: 1650... Loss: 1.3123... Val Loss: 1.3746\n",
      "Epoch: 12/15... Step: 1660... Loss: 1.3721... Val Loss: 1.3701\n",
      "Epoch: 13/15... Step: 1670... Loss: 1.3502... Val Loss: 1.3761\n",
      "Epoch: 13/15... Step: 1680... Loss: 1.3559... Val Loss: 1.3720\n",
      "Epoch: 13/15... Step: 1690... Loss: 1.3301... Val Loss: 1.3668\n",
      "Epoch: 13/15... Step: 1700... Loss: 1.3321... Val Loss: 1.3672\n",
      "Epoch: 13/15... Step: 1710... Loss: 1.3200... Val Loss: 1.3689\n",
      "Epoch: 13/15... Step: 1720... Loss: 1.3201... Val Loss: 1.3608\n",
      "Epoch: 13/15... Step: 1730... Loss: 1.3578... Val Loss: 1.3673\n",
      "Epoch: 13/15... Step: 1740... Loss: 1.3318... Val Loss: 1.3708\n",
      "Epoch: 13/15... Step: 1750... Loss: 1.3045... Val Loss: 1.3694\n",
      "Epoch: 13/15... Step: 1760... Loss: 1.3251... Val Loss: 1.3638\n",
      "Epoch: 13/15... Step: 1770... Loss: 1.3510... Val Loss: 1.3636\n",
      "Epoch: 13/15... Step: 1780... Loss: 1.3212... Val Loss: 1.3622\n",
      "Epoch: 13/15... Step: 1790... Loss: 1.3032... Val Loss: 1.3614\n",
      "Epoch: 13/15... Step: 1800... Loss: 1.3425... Val Loss: 1.3610\n",
      "Epoch: 14/15... Step: 1810... Loss: 1.3397... Val Loss: 1.3628\n",
      "Epoch: 14/15... Step: 1820... Loss: 1.3198... Val Loss: 1.3561\n",
      "Epoch: 14/15... Step: 1830... Loss: 1.3453... Val Loss: 1.3531\n",
      "Epoch: 14/15... Step: 1840... Loss: 1.2902... Val Loss: 1.3515\n",
      "Epoch: 14/15... Step: 1850... Loss: 1.2720... Val Loss: 1.3547\n",
      "Epoch: 14/15... Step: 1860... Loss: 1.3300... Val Loss: 1.3543\n",
      "Epoch: 14/15... Step: 1870... Loss: 1.3430... Val Loss: 1.3494\n",
      "Epoch: 14/15... Step: 1880... Loss: 1.3237... Val Loss: 1.3551\n",
      "Epoch: 14/15... Step: 1890... Loss: 1.3436... Val Loss: 1.3498\n",
      "Epoch: 14/15... Step: 1900... Loss: 1.3173... Val Loss: 1.3455\n",
      "Epoch: 14/15... Step: 1910... Loss: 1.3169... Val Loss: 1.3475\n",
      "Epoch: 14/15... Step: 1920... Loss: 1.3079... Val Loss: 1.3473\n",
      "Epoch: 14/15... Step: 1930... Loss: 1.2714... Val Loss: 1.3424\n",
      "Epoch: 14/15... Step: 1940... Loss: 1.3416... Val Loss: 1.3460\n",
      "Epoch: 15/15... Step: 1950... Loss: 1.3064... Val Loss: 1.3459\n",
      "Epoch: 15/15... Step: 1960... Loss: 1.3158... Val Loss: 1.3387\n",
      "Epoch: 15/15... Step: 1970... Loss: 1.3030... Val Loss: 1.3378\n",
      "Epoch: 15/15... Step: 1980... Loss: 1.2863... Val Loss: 1.3432\n",
      "Epoch: 15/15... Step: 1990... Loss: 1.2994... Val Loss: 1.3396\n",
      "Epoch: 15/15... Step: 2000... Loss: 1.2729... Val Loss: 1.3388\n",
      "Epoch: 15/15... Step: 2010... Loss: 1.3010... Val Loss: 1.3359\n",
      "Epoch: 15/15... Step: 2020... Loss: 1.3194... Val Loss: 1.3396\n",
      "Epoch: 15/15... Step: 2030... Loss: 1.2938... Val Loss: 1.3407\n",
      "Epoch: 15/15... Step: 2040... Loss: 1.3033... Val Loss: 1.3325\n",
      "Epoch: 15/15... Step: 2050... Loss: 1.2837... Val Loss: 1.3334\n",
      "Epoch: 15/15... Step: 2060... Loss: 1.2945... Val Loss: 1.3326\n",
      "Epoch: 15/15... Step: 2070... Loss: 1.3067... Val Loss: 1.3331\n",
      "Epoch: 15/15... Step: 2080... Loss: 1.2936... Val Loss: 1.3340\n"
     ]
    }
   ],
   "source": [
    "batch_size = 128\n",
    "seq_length = 100\n",
    "n_epochs =  15\n",
    "\n",
    "# train the model\n",
    "train(net, encoded, epochs=n_epochs, batch_size=batch_size, seq_length=seq_length, lr=0.001, print_every=10)"
   ]
  },
  {
   "cell_type": "markdown",
   "metadata": {},
   "source": [
    "# Getting the best model\n",
    "\n",
    "To set your hyperparameters to get the best performance, you'll want to watch the training and validation losses. If your training loss is much lower than the validation loss, you're overfitting. Increase regularization (more dropout) or use a smaller network. If the training and validation losses are close, you're underfitting so you can increase the size of the network."
   ]
  },
  {
   "cell_type": "markdown",
   "metadata": {},
   "source": [
    "**Hyperparameters**\n",
    "\n",
    "Here are the hyperparameters for the network.\n",
    "\n",
    "In defining the model:\n",
    "* `n_hidden` - The number of units in the hidden layers.\n",
    "* `n_layers` - Number of hidden LSTM layers to use.\n",
    "\n",
    "We assume that dropout probability and learning rate will be kept at the default, in this example.\n",
    "\n",
    "And in training:\n",
    "* `batch_size` - Number of sequences running through the network in one pass.\n",
    "* `seq_length` - Number of characters in the sequence the network is trained on. Larger is better typically, the network will learn more long range dependencies. But it takes longer to train. 100 is typically a good number here.\n",
    "* `lr` - Learning rate for training\n",
    "\n",
    "Here's some good advice from Andrej Karpathy on training the network. I'm going to copy it in here for your benefit, but also link to [where it originally came from](https://github.com/karpathy/char-rnn#tips-and-tricks).\n",
    "\n",
    "> **Tips and Tricks**\n",
    "\n",
    ">**Monitoring Validation Loss vs. Training Loss**\n",
    ">If you're somewhat new to Machine Learning or Neural Networks it can take a bit of expertise to get good models. The most important quantity to keep track of is the difference between your training loss (printed during training) and the validation loss (printed once in a while when the RNN is run on the validation data (by default every 1000 iterations)). In particular:\n",
    "\n",
    "> - If your training loss is much lower than validation loss then this means the network might be **overfitting**. Solutions to this are to decrease your network size, or to increase dropout. For example you could try dropout of 0.5 and so on.\n",
    "> - If your training/validation loss are about equal then your model is **underfitting**. Increase the size of your model (either number of layers or the raw number of neurons per layer)\n",
    "\n",
    "> **Approximate number of parameters**\n",
    "\n",
    "> The two most important parameters that control the model are `n_hidden` and `n_layers`. I would advise that you always use `n_layers` of either 2/3. The `n_hidden` can be adjusted based on how much data you have. The two important quantities to keep track of here are:\n",
    "\n",
    "> - The number of parameters in your model. This is printed when you start training.\n",
    "> - The size of your dataset. 1MB file is approximately 1 million characters.\n",
    "\n",
    ">These two should be about the same order of magnitude. It's a little tricky to tell. Here are some examples:\n",
    "\n",
    "> - I have a 100MB dataset and I'm using the default parameter settings (which currently print 150K parameters). My data size is significantly larger (100 mil >> 0.15 mil), so I expect to heavily underfit. I am thinking I can comfortably afford to make `n_hidden` larger.\n",
    "> - I have a 10MB dataset and running a 10 million parameter model. I'm slightly nervous and I'm carefully monitoring my validation loss. If it's larger than my training loss then I may want to try to increase dropout a bit and see if that helps the validation loss.\n",
    "\n",
    "> **Best models strategy**\n",
    "\n",
    ">The winning strategy to obtaining very good models (if you have the compute time) is to always err on making the network larger (as large as you're willing to wait for it to compute) and then try different dropout values (between 0,1). Whatever model has the best validation performance (the loss, written in the checkpoint filename, low is good) is the one you should use in the end.\n",
    "\n",
    ">It is very common in deep learning to run many different models with many different hyperparameter settings, and in the end take whatever checkpoint gave the best validation performance.\n",
    "\n",
    ">By the way, the size of your training and validation splits are also parameters. Make sure you have a decent amount of data in your validation set or otherwise the validation performance will be noisy and not very informative."
   ]
  },
  {
   "cell_type": "markdown",
   "metadata": {},
   "source": [
    "## Checkpoint\n",
    "\n",
    "After training, we'll save the model so we can load it again later if we need too. Here I'm saving the parameters needed to create the same architecture, the hidden layer hyperparameters and the text characters."
   ]
  },
  {
   "cell_type": "code",
   "execution_count": 16,
   "metadata": {},
   "outputs": [],
   "source": [
    "# change the name, for saving multiple files\n",
    "model_name = 'rnn_x_epoch.net'\n",
    "\n",
    "checkpoint = {'n_hidden': net.n_hidden,\n",
    "              'n_layers': net.n_layers,\n",
    "              'state_dict': net.state_dict(),\n",
    "              'tokens': net.chars}\n",
    "\n",
    "with open(model_name, 'wb') as f:\n",
    "    torch.save(checkpoint, f)"
   ]
  },
  {
   "cell_type": "markdown",
   "metadata": {},
   "source": [
    "---\n",
    "## Making Predictions\n",
    "\n",
    "Now that the model is trained, we'll want to _sample from it_ to make predictions about next characters. To sample, we pass in a character and have the network predict the next character. Then we take that character, pass it back in, and get another predicted character. Just keep doing this and you'll generate a bunch of text!\n",
    "\n",
    "**A note on the `predict` function:** The output of our RNN is from a fully-connected layer and it outputs a **distribution of next-character scores**. To actually get the next character, we apply a softmax function, which gives us a *probability* distribution that we can then sample to predict the next character.\n",
    "\n",
    "### Top K sampling\n",
    "\n",
    "Our predictions come from a categorical probability distribution over all the possible characters. We can make the sample text and make it more reasonable to handle (with less variables) by only considering some $K$ most probable characters. This will prevent the network from giving us completely absurd characters while allowing it to introduce some noise and randomness into the sampled text. Read more about [topk, here](https://pytorch.org/docs/stable/torch.html#torch.topk).\n"
   ]
  },
  {
   "cell_type": "code",
   "execution_count": 18,
   "metadata": {},
   "outputs": [],
   "source": [
    "def predict(net, char, h=None, top_k=None):\n",
    "        ''' Given a character, predict the next character.\n",
    "            Returns the predicted character and the hidden state.\n",
    "        '''\n",
    "        \n",
    "        # Tensor inputs\n",
    "        x = np.array([[net.char2int[char]]])\n",
    "        x = one_hot_encode(x, len(net.chars))\n",
    "        inputs = torch.from_numpy(x)\n",
    "        \n",
    "        if(train_on_gpu):\n",
    "            inputs = inputs.cuda()\n",
    "        \n",
    "        # Detach hidden state from history\n",
    "        h = tuple([each.data for each in h])\n",
    "        # get the output of the model\n",
    "        out, h = net(inputs, h)\n",
    "\n",
    "        # Get the character probabilities\n",
    "        p = F.softmax(out, dim=1).data\n",
    "        if(train_on_gpu):\n",
    "            p = p.cpu() # move to cpu\n",
    "        \n",
    "        # Get top characters\n",
    "        if top_k is None:\n",
    "            top_ch = np.arange(len(net.chars))\n",
    "        else:\n",
    "            p, top_ch = p.topk(top_k)\n",
    "            top_ch = top_ch.numpy().squeeze()\n",
    "        \n",
    "        # Select the likely next character with some element of randomness\n",
    "        p = p.numpy().squeeze()\n",
    "        char = np.random.choice(top_ch, p=p/p.sum())\n",
    "        \n",
    "        # Return the encoded value of the predicted char and the hidden state\n",
    "        return net.int2char[char], h"
   ]
  },
  {
   "cell_type": "markdown",
   "metadata": {},
   "source": [
    "### Priming and generating text \n",
    "\n",
    "Typically you'll want to prime the network so you can build up a hidden state. Otherwise the network will start out generating characters at random. In general the first bunch of characters will be a little rough since it hasn't built up a long history of characters to predict from."
   ]
  },
  {
   "cell_type": "code",
   "execution_count": 19,
   "metadata": {},
   "outputs": [],
   "source": [
    "def sample(net, size, prime='The', top_k=None):\n",
    "        \n",
    "    if(train_on_gpu):\n",
    "        net.cuda()\n",
    "    else:\n",
    "        net.cpu()\n",
    "    \n",
    "    net.eval() # eval mode\n",
    "    \n",
    "    # First off, run through the prime characters\n",
    "    chars = [ch for ch in prime]\n",
    "    h = net.init_hidden(1)\n",
    "    for ch in prime:\n",
    "        char, h = predict(net, ch, h, top_k=top_k)\n",
    "\n",
    "    chars.append(char)\n",
    "    \n",
    "    # Now pass in the previous character and get a new one\n",
    "    for ii in range(size):\n",
    "        char, h = predict(net, chars[-1], h, top_k=top_k)\n",
    "        chars.append(char)\n",
    "\n",
    "    return ''.join(chars)"
   ]
  },
  {
   "cell_type": "code",
   "execution_count": 20,
   "metadata": {},
   "outputs": [
    {
     "name": "stdout",
     "output_type": "stream",
     "text": [
      "Anna had been a glass of\n",
      "the country\n",
      "to give up the conscience we consequenlly him in a following from the princess and talking abone, and a single secont arm sholt on his shoulders.\n",
      "\n",
      "\"Well, there's the princess she did not at him, but to say that you are to do to the seas.\"\n",
      "\n",
      "\"You\n",
      "can tell you to make you to the steet? I'm allowed have, when I had no subject in home. How convession, the concession,\" said\n",
      "Alexey Alexandrovitch, \"I have been made to home, but all to see\n",
      "anything as it where\n",
      "is into some to me them at once that\n",
      "I change terrible as the peacant always, and sense that the back in when her to the suddance and some of\n",
      "his boy to him.\n",
      "\n",
      "In the stupid his brother\n",
      "wished, he would be to great her shoulders to him the promining that has\n",
      "beauting her his brother's and\n",
      "he said the peasant who\n",
      "set their mind. The destrated time she\n",
      "stall, the conversation, who\n",
      "would not see his heart, as though this department of horse or which had been thinking in him as though his conversation was the b\n"
     ]
    }
   ],
   "source": [
    "print(sample(net, 1000, prime='Anna', top_k=5))"
   ]
  },
  {
   "cell_type": "markdown",
   "metadata": {},
   "source": [
    "## Loading a checkpoint"
   ]
  },
  {
   "cell_type": "code",
   "execution_count": 21,
   "metadata": {},
   "outputs": [],
   "source": [
    "# Here we have loaded in a model that trained over 20 epochs `rnn_20_epoch.net`\n",
    "with open('rnn_x_epoch.net', 'rb') as f:\n",
    "    checkpoint = torch.load(f)\n",
    "    \n",
    "loaded = CharRNN(checkpoint['tokens'], n_hidden=checkpoint['n_hidden'], n_layers=checkpoint['n_layers'])\n",
    "loaded.load_state_dict(checkpoint['state_dict'])"
   ]
  },
  {
   "cell_type": "code",
   "execution_count": 22,
   "metadata": {},
   "outputs": [
    {
     "name": "stdout",
     "output_type": "stream",
     "text": [
      "And Levin said to her.\n",
      "\n",
      "\"Well anyway, you won't be done?\"\n",
      "\n",
      "\"I should have all the\n",
      "point of my\n",
      "son sighs of the presence of all, and I came along.\"\n",
      "\n",
      "An everyone was\n",
      "not to be a continuance in tear to\n",
      "always before, but he would have settled him in hind the summer\n",
      "of a life in that storm, the country wishout the children, that\n",
      "the mother. She did not hear alone, but the possessed tears and talk, and all still\n",
      "said, and that there, and start of the point were not\n",
      "failing\n",
      "it. And the streets of conversations he was being the\n",
      "past of\n",
      "him, and the man she creating her hustances and to try to say,\n",
      "and this parts, saying\n",
      "him in and so standing her, and with his bouts, he was seet his\n",
      "father to a mushroom.\n",
      "\n",
      "\"Well, as I have been a luster of too mind. It's a life, and that is if the second to me as it was talking. I do standing to set on the matter of handsome. I don't believe if I've cale to her. Thene\n",
      "is this\n",
      "infecest of my, stands...\" he seat his head.\n",
      "\n",
      "\"I don't talk at you to be and to be in hurring. They dail, I don't give you. That's she haven't have been a street\n",
      "mister attented best to make a street or time.\"\n",
      "\n",
      "\"What do you know, to talk in the same some sunden and talk for, that I sunder the party all of the menters were now\n",
      "to be to\n",
      "but\n",
      "any conversation,\" she said, with\n",
      "try before... \"I'm a mushandrous,\n",
      "and there's\n",
      "something single,\" he said, looking took the different as the samo who had asked him\n",
      "a man, who were saying to the same tight at once. \"I have been and\n",
      "come to see,\" he said, winting at once hands. He had still as he said, smiling. The conversations of the country were not true to assere that he had set on a few\n",
      "words in an entry ang offer and all that she had told him, and already attomed the\n",
      "conversation, and had\n",
      "been suppiridy to her, and at himself how happy\n",
      "from his fired that he cauted all the place of hostess.\n",
      "\n",
      "\"I can, and this it is a sign of the sumple of the\n",
      "persons on the pation of her husband to her. If I say. A fact when so my friends,\" said Anna, and he was\n"
     ]
    }
   ],
   "source": [
    "# Sample using a loaded model\n",
    "print(sample(loaded, 2000, top_k=5, prime=\"And Levin said\"))"
   ]
  },
  {
   "cell_type": "markdown",
   "metadata": {
    "collapsed": true
   },
   "source": [
    "---"
   ]
  }
 ],
 "metadata": {
  "hide_input": false,
  "kernelspec": {
   "display_name": "Python 3",
   "language": "python",
   "name": "python3"
  },
  "language_info": {
   "codemirror_mode": {
    "name": "ipython",
    "version": 3
   },
   "file_extension": ".py",
   "mimetype": "text/x-python",
   "name": "python",
   "nbconvert_exporter": "python",
   "pygments_lexer": "ipython3",
   "version": "3.7.3"
  },
  "toc": {
   "base_numbering": 1,
   "nav_menu": {},
   "number_sections": true,
   "sideBar": false,
   "skip_h1_title": true,
   "title_cell": "Table of Contents",
   "title_sidebar": "Contents",
   "toc_cell": true,
   "toc_position": {},
   "toc_section_display": true,
   "toc_window_display": false
  }
 },
 "nbformat": 4,
 "nbformat_minor": 2
}
