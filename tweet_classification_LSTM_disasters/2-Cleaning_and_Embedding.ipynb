{
 "cells": [
  {
   "cell_type": "markdown",
   "metadata": {},
   "source": [
    "# EDA\n",
    "\n",
    "In this notebook the raw text data is cleaned and word embeddings are generated with an LSTM.\n",
    "\n",
    "**Data Sources:**\n",
    "\n",
    "- `data/raw/train.csv`: labelled data for approx. 7'600 tweets\n",
    "- `data/raw/test.csv`: test data for approx. 3'400 tweets\n",
    "\n",
    "**Data Output:**\n",
    "\n",
    "- `xxx.csv`: blablabla\n",
    "\n",
    "**Changes**\n",
    "\n",
    "- 2020-01-07: Start notebook, complete preprocessing\n",
    "\n",
    "___\n",
    "\n",
    "_**Open Questions / Things to check out for the future:**_\n",
    "- Import pre-trained embedding (FastText, GloVe), see this [MLM post](https://machinelearningmastery.com/develop-word-embeddings-python-gensim/) and the appendix\n",
    "- Preprocessing with removal of stop-words and / or punctuation"
   ]
  },
  {
   "cell_type": "markdown",
   "metadata": {
    "toc": true
   },
   "source": [
    "<h1>Table of Contents<span class=\"tocSkip\"></span></h1>\n",
    "<div class=\"toc\"><ul class=\"toc-item\"><li><span><a href=\"#Import-libraries,-load-data\" data-toc-modified-id=\"Import-libraries,-load-data-1\"><span class=\"toc-item-num\">1&nbsp;&nbsp;</span>Import libraries, load data</a></span></li><li><span><a href=\"#Preprocess-text\" data-toc-modified-id=\"Preprocess-text-2\"><span class=\"toc-item-num\">2&nbsp;&nbsp;</span>Preprocess text</a></span><ul class=\"toc-item\"><li><span><a href=\"#Clean\" data-toc-modified-id=\"Clean-2.1\"><span class=\"toc-item-num\">2.1&nbsp;&nbsp;</span>Clean</a></span></li><li><span><a href=\"#Encode\" data-toc-modified-id=\"Encode-2.2\"><span class=\"toc-item-num\">2.2&nbsp;&nbsp;</span>Encode</a></span></li><li><span><a href=\"#Subsample\" data-toc-modified-id=\"Subsample-2.3\"><span class=\"toc-item-num\">2.3&nbsp;&nbsp;</span>Subsample</a></span></li><li><span><a href=\"#Create-batches¶\" data-toc-modified-id=\"Create-batches¶-2.4\"><span class=\"toc-item-num\">2.4&nbsp;&nbsp;</span>Create batches¶</a></span></li></ul></li><li><span><a href=\"#Build-NN-for-Word2Vec-Embedding\" data-toc-modified-id=\"Build-NN-for-Word2Vec-Embedding-3\"><span class=\"toc-item-num\">3&nbsp;&nbsp;</span>Build NN for Word2Vec Embedding</a></span><ul class=\"toc-item\"><li><span><a href=\"#Define-Model-Architecture-and-Loss-Function\" data-toc-modified-id=\"Define-Model-Architecture-and-Loss-Function-3.1\"><span class=\"toc-item-num\">3.1&nbsp;&nbsp;</span>Define Model Architecture and Loss Function</a></span></li><li><span><a href=\"#Define-validation-function\" data-toc-modified-id=\"Define-validation-function-3.2\"><span class=\"toc-item-num\">3.2&nbsp;&nbsp;</span>Define validation function</a></span></li></ul></li><li><span><a href=\"#Training-NN\" data-toc-modified-id=\"Training-NN-4\"><span class=\"toc-item-num\">4&nbsp;&nbsp;</span>Training NN</a></span><ul class=\"toc-item\"><li><span><a href=\"#Save-/-Re-Load-Model\" data-toc-modified-id=\"Save-/-Re-Load-Model-4.1\"><span class=\"toc-item-num\">4.1&nbsp;&nbsp;</span>Save / Re-Load Model</a></span></li></ul></li><li><span><a href=\"#Use-Embeddings\" data-toc-modified-id=\"Use-Embeddings-5\"><span class=\"toc-item-num\">5&nbsp;&nbsp;</span>Use Embeddings</a></span></li><li><span><a href=\"#4.-Embeddings-&amp;-Text-Cleaning\" data-toc-modified-id=\"4.-Embeddings-&amp;-Text-Cleaning-6\"><span class=\"toc-item-num\">6&nbsp;&nbsp;</span><strong>4. Embeddings &amp; Text Cleaning</strong></a></span><ul class=\"toc-item\"><li><span><a href=\"#4.1-Embedding-Coverage\" data-toc-modified-id=\"4.1-Embedding-Coverage-6.1\"><span class=\"toc-item-num\">6.1&nbsp;&nbsp;</span><strong>4.1 Embedding Coverage</strong></a></span></li><li><span><a href=\"#4.2-Text-Cleaning-(Not-Finished)\" data-toc-modified-id=\"4.2-Text-Cleaning-(Not-Finished)-6.2\"><span class=\"toc-item-num\">6.2&nbsp;&nbsp;</span><strong>4.2 Text Cleaning (Not Finished)</strong></a></span></li></ul></li><li><span><a href=\"#5.-Test-Set-Labels\" data-toc-modified-id=\"5.-Test-Set-Labels-7\"><span class=\"toc-item-num\">7&nbsp;&nbsp;</span><strong>5. Test Set Labels</strong></a></span></li></ul></div>"
   ]
  },
  {
   "cell_type": "code",
   "execution_count": 1,
   "metadata": {
    "ExecuteTime": {
     "end_time": "2020-01-07T20:08:37.147007Z",
     "start_time": "2020-01-07T20:08:37.136745Z"
    },
    "_cell_guid": "b1076dfc-b9ad-4769-8c92-a6c4dae69d19",
    "_kg_hide-input": true,
    "_uuid": "8f2839f25d086af736a60e9eeb907d3b93b6e0e5"
   },
   "outputs": [],
   "source": [
    "# import gc\n",
    "# import re\n",
    "# import string\n",
    "# import operator\n",
    "# from collections import defaultdict\n",
    "\n",
    "\n",
    "# pd.set_option('display.max_rows', 500)\n",
    "# pd.set_option('display.max_columns', 500)\n",
    "# pd.set_option('display.width', 1000)\n",
    "\n",
    "# import matplotlib.pyplot as plt\n",
    "# import seaborn as sns\n",
    "\n",
    "# from wordcloud import STOPWORDS\n",
    "# import tensorflow_hub as hub\n",
    "\n",
    "SEED = 42"
   ]
  },
  {
   "cell_type": "markdown",
   "metadata": {},
   "source": [
    "## Import libraries, load data"
   ]
  },
  {
   "cell_type": "code",
   "execution_count": 2,
   "metadata": {
    "ExecuteTime": {
     "end_time": "2020-01-07T20:08:39.445139Z",
     "start_time": "2020-01-07T20:08:37.150736Z"
    }
   },
   "outputs": [],
   "source": [
    "from collections import Counter\n",
    "from string import punctuation\n",
    "from random import sample, random\n",
    "\n",
    "import numpy as np\n",
    "import pandas as pd\n",
    "\n",
    "import torch\n",
    "from torch import nn\n",
    "import torch.optim as optim\n",
    "\n",
    "# Visualization\n",
    "%matplotlib inline\n",
    "import matplotlib.pyplot as plt\n",
    "import seaborn as sns \n",
    "sns.set_style('whitegrid')\n",
    "col1, col2 = 'rebeccapurple', 'yellow'\n",
    "\n",
    "# Display settings\n",
    "from IPython.display import display\n",
    "pd.options.display.max_columns = 100"
   ]
  },
  {
   "cell_type": "code",
   "execution_count": 3,
   "metadata": {
    "ExecuteTime": {
     "end_time": "2020-01-07T20:08:39.643681Z",
     "start_time": "2020-01-07T20:08:39.460244Z"
    },
    "_cell_guid": "79c7e3d0-c299-4dcb-8224-4455121ee9b0",
    "_uuid": "d629ff2d2480ee46fbb7e2d37f6b5fab8052498a"
   },
   "outputs": [
    {
     "name": "stdout",
     "output_type": "stream",
     "text": [
      "Training Set Shape = (7613, 5)\n",
      "Training Set Memory Usage = 0.20 MB\n",
      "Test Set Shape = (3263, 4)\n",
      "Test Set Memory Usage = 0.08 MB\n"
     ]
    }
   ],
   "source": [
    "df_train = pd.read_csv('data/raw/train.csv', dtype={'id': np.int16, 'target': np.int8})\n",
    "df_test = pd.read_csv('data/raw/test.csv', dtype={'id': np.int16})\n",
    "\n",
    "print(f'Training Set Shape = {df_train.shape}')\n",
    "print(f'Training Set Memory Usage = {df_train.memory_usage().sum() / 1024**2:.2f} MB')\n",
    "print(f'Test Set Shape = {df_test.shape}')\n",
    "print(f'Test Set Memory Usage = {df_test.memory_usage().sum() / 1024**2:.2f} MB')"
   ]
  },
  {
   "cell_type": "code",
   "execution_count": 4,
   "metadata": {
    "ExecuteTime": {
     "end_time": "2020-01-07T20:08:39.693565Z",
     "start_time": "2020-01-07T20:08:39.646974Z"
    }
   },
   "outputs": [
    {
     "data": {
      "text/html": [
       "<div>\n",
       "<style scoped>\n",
       "    .dataframe tbody tr th:only-of-type {\n",
       "        vertical-align: middle;\n",
       "    }\n",
       "\n",
       "    .dataframe tbody tr th {\n",
       "        vertical-align: top;\n",
       "    }\n",
       "\n",
       "    .dataframe thead th {\n",
       "        text-align: right;\n",
       "    }\n",
       "</style>\n",
       "<table border=\"1\" class=\"dataframe\">\n",
       "  <thead>\n",
       "    <tr style=\"text-align: right;\">\n",
       "      <th></th>\n",
       "      <th>id</th>\n",
       "      <th>keyword</th>\n",
       "      <th>location</th>\n",
       "      <th>text</th>\n",
       "      <th>target</th>\n",
       "    </tr>\n",
       "  </thead>\n",
       "  <tbody>\n",
       "    <tr>\n",
       "      <th>0</th>\n",
       "      <td>1</td>\n",
       "      <td>NaN</td>\n",
       "      <td>NaN</td>\n",
       "      <td>Our Deeds are the Reason of this #earthquake M...</td>\n",
       "      <td>1</td>\n",
       "    </tr>\n",
       "    <tr>\n",
       "      <th>1</th>\n",
       "      <td>4</td>\n",
       "      <td>NaN</td>\n",
       "      <td>NaN</td>\n",
       "      <td>Forest fire near La Ronge Sask. Canada</td>\n",
       "      <td>1</td>\n",
       "    </tr>\n",
       "  </tbody>\n",
       "</table>\n",
       "</div>"
      ],
      "text/plain": [
       "   id keyword location                                               text  \\\n",
       "0   1     NaN      NaN  Our Deeds are the Reason of this #earthquake M...   \n",
       "1   4     NaN      NaN             Forest fire near La Ronge Sask. Canada   \n",
       "\n",
       "   target  \n",
       "0       1  \n",
       "1       1  "
      ]
     },
     "metadata": {},
     "output_type": "display_data"
    },
    {
     "data": {
      "text/html": [
       "<div>\n",
       "<style scoped>\n",
       "    .dataframe tbody tr th:only-of-type {\n",
       "        vertical-align: middle;\n",
       "    }\n",
       "\n",
       "    .dataframe tbody tr th {\n",
       "        vertical-align: top;\n",
       "    }\n",
       "\n",
       "    .dataframe thead th {\n",
       "        text-align: right;\n",
       "    }\n",
       "</style>\n",
       "<table border=\"1\" class=\"dataframe\">\n",
       "  <thead>\n",
       "    <tr style=\"text-align: right;\">\n",
       "      <th></th>\n",
       "      <th>id</th>\n",
       "      <th>keyword</th>\n",
       "      <th>location</th>\n",
       "      <th>text</th>\n",
       "    </tr>\n",
       "  </thead>\n",
       "  <tbody>\n",
       "    <tr>\n",
       "      <th>0</th>\n",
       "      <td>0</td>\n",
       "      <td>NaN</td>\n",
       "      <td>NaN</td>\n",
       "      <td>Just happened a terrible car crash</td>\n",
       "    </tr>\n",
       "    <tr>\n",
       "      <th>1</th>\n",
       "      <td>2</td>\n",
       "      <td>NaN</td>\n",
       "      <td>NaN</td>\n",
       "      <td>Heard about #earthquake is different cities, s...</td>\n",
       "    </tr>\n",
       "  </tbody>\n",
       "</table>\n",
       "</div>"
      ],
      "text/plain": [
       "   id keyword location                                               text\n",
       "0   0     NaN      NaN                 Just happened a terrible car crash\n",
       "1   2     NaN      NaN  Heard about #earthquake is different cities, s..."
      ]
     },
     "metadata": {},
     "output_type": "display_data"
    }
   ],
   "source": [
    "display(df_train.head(2))\n",
    "display(df_test.head(2))"
   ]
  },
  {
   "cell_type": "markdown",
   "metadata": {},
   "source": [
    "## Preprocess text"
   ]
  },
  {
   "cell_type": "markdown",
   "metadata": {
    "ExecuteTime": {
     "end_time": "2020-01-07T15:39:12.605913Z",
     "start_time": "2020-01-07T15:39:12.565971Z"
    }
   },
   "source": [
    "### Clean"
   ]
  },
  {
   "cell_type": "code",
   "execution_count": 5,
   "metadata": {
    "ExecuteTime": {
     "end_time": "2020-01-07T20:08:39.728065Z",
     "start_time": "2020-01-07T20:08:39.699255Z"
    }
   },
   "outputs": [],
   "source": [
    "# Define cleaning function\n",
    "\n",
    "def clean_text(text_list, trim_threshold=5):\n",
    "    \"\"\"Clean the input text (replace punctuation, remove unfrequent words) \n",
    "    Return cleaned text as list of tweets and as one large string.\n",
    "    \n",
    "    Arguments:\n",
    "    ----------\n",
    "    - text_list: iterable of strings\n",
    "    - trim_threshold: int, all words with <= this frequency will be removed\n",
    "    \n",
    "    Returns:\n",
    "    --------\n",
    "    - text_complete: str, cleaned text \n",
    "    - text_list: list of strings, cleaned text split into individual tweets\n",
    "    \"\"\"\n",
    "    \n",
    "    # Concatenate tweets into one large string for further cleaning\n",
    "    text = \"\"\n",
    "    for item in text_list:\n",
    "        text = text + item + \" || \"\n",
    "    \n",
    "    # Replace punctuation with tokens so we can use them in our model\n",
    "    text = text.lower()\n",
    "    text = text.replace('.', ' <PERIOD> ')  \n",
    "    text = text.replace(',', ' <COMMA> ')\n",
    "    text = text.replace('\"', ' <QUOTATION_Double> ')\n",
    "    text = text.replace(\"'\", ' <QUOTATION> ')\n",
    "    text = text.replace(';', ' <SEMICOLON> ')\n",
    "    text = text.replace('!', ' <EXCLAMATION_MARK> ')\n",
    "    text = text.replace('?', ' <QUESTION_MARK> ')\n",
    "    text = text.replace('(', ' <LEFT_PAREN> ')\n",
    "    text = text.replace(')', ' <RIGHT_PAREN> ')\n",
    "    text = text.replace('--', ' <HYPHENS> ')\n",
    "    text = text.replace('?', ' <QUESTION_MARK> ')\n",
    "#     text = text.replace('\\n', ' <NEW_LINE> ')  # watch whitespaces\n",
    "    text = text.replace(':', ' <COLON> ')\n",
    "    text = text.replace('#', ' <HASHTAG> ')\n",
    "    text = text.replace('@', ' <MENTION> ')\n",
    "    \n",
    "      \n",
    "    # Remove all words with x or fewer occurences\n",
    "    words_all = text.split(\" \")\n",
    "    word_counts = Counter(words_all)\n",
    "    words_trimmed = [word for word in words_all if word_counts[word] > trim_threshold]\n",
    "    text_trimmed = ' '.join([word for word in words_trimmed])\n",
    "\n",
    "    # Split by new lines, reassemble \n",
    "    text_list = text_trimmed.split(' || ')[:-1] # last item is empty\n",
    "    text_complete = ' '.join(text_list)  \n",
    "\n",
    "    return text_complete, text_list"
   ]
  },
  {
   "cell_type": "code",
   "execution_count": 6,
   "metadata": {
    "ExecuteTime": {
     "end_time": "2020-01-07T20:08:40.127443Z",
     "start_time": "2020-01-07T20:08:39.732480Z"
    }
   },
   "outputs": [
    {
     "name": "stdout",
     "output_type": "stream",
     "text": [
      "Number of tweets: 7613\n",
      "Number of unique words in text_complete: 3489\n"
     ]
    }
   ],
   "source": [
    "text_complete, tweets_train = clean_text(df_train['text'], 3)\n",
    "\n",
    "vocab_list = list(set(text_complete.split()))\n",
    "print(f\"Number of tweets: {len(tweets_train)}\")\n",
    "print(f\"Number of unique words in text_complete: {len(vocab_list)}\")"
   ]
  },
  {
   "cell_type": "markdown",
   "metadata": {},
   "source": [
    "### Encode\n",
    "Create 2 dicts mapping words in vocabulary to integers and vice-versa.\n",
    "-  sure that most frequent words get lowest int representation\n",
    "- DON'T leave pos [0] for padding (see next section) yet"
   ]
  },
  {
   "cell_type": "code",
   "execution_count": 7,
   "metadata": {
    "ExecuteTime": {
     "end_time": "2020-01-07T20:08:40.142872Z",
     "start_time": "2020-01-07T20:08:40.131264Z"
    }
   },
   "outputs": [],
   "source": [
    "def encode_text(text, start_pos=0):\n",
    "    \"\"\"Encode words to integers (and vice versa), so that most frequent words\n",
    "    get lowest int representations. Return two mapping dictionaries.\n",
    "    \n",
    "    Arguments:\n",
    "    ----------\n",
    "    - text: string, input text with words delimited by whitespaces\n",
    "    - start_pos: int, value for first integer representation (default=0)\n",
    "    \n",
    "    Returns:\n",
    "    --------\n",
    "    - vocab_to_int: dict, mapping of words to ints (most frequent comes first)\n",
    "    - int_to_vocab: dict, mapping of ints to words\n",
    "    \"\"\"\n",
    "\n",
    "    word_count_dict = Counter(text.split())\n",
    "    vocab = sorted(word_count_dict, key=word_count_dict.get, reverse=True)\n",
    "    vocab_to_int = {word: i for i, word in enumerate(vocab, start_pos)}\n",
    "    int_to_vocab = {i: word for i, word in enumerate(vocab, start_pos)}\n",
    "\n",
    "    return vocab_to_int, int_to_vocab"
   ]
  },
  {
   "cell_type": "code",
   "execution_count": 8,
   "metadata": {
    "ExecuteTime": {
     "end_time": "2020-01-07T20:08:40.194469Z",
     "start_time": "2020-01-07T20:08:40.145790Z"
    }
   },
   "outputs": [],
   "source": [
    "vocab_to_int, int_to_vocab = encode_text(text_complete, start_pos=0)"
   ]
  },
  {
   "cell_type": "code",
   "execution_count": 9,
   "metadata": {
    "ExecuteTime": {
     "end_time": "2020-01-07T20:08:40.306500Z",
     "start_time": "2020-01-07T20:08:40.200760Z"
    }
   },
   "outputs": [
    {
     "name": "stdout",
     "output_type": "stream",
     "text": [
      "Unique words:  3489\n",
      "[('<PERIOD>', 0), ('<COLON>', 1), ('//t', 2), ('http', 3), ('<HASHTAG>', 4), ('the', 5), ('<QUOTATION>', 6)]\n",
      "[(0, '<PERIOD>'), (1, '<COLON>'), (2, '//t'), (3, 'http'), (4, '<HASHTAG>'), (5, 'the'), (6, '<QUOTATION>')]\n"
     ]
    }
   ],
   "source": [
    "# Check results\n",
    "print('Unique words: ', len((vocab_to_int)))\n",
    "assert len(vocab_to_int) == len(vocab_list)\n",
    "print(list(vocab_to_int.items())[:7])\n",
    "print(list(int_to_vocab.items())[:7])"
   ]
  },
  {
   "cell_type": "markdown",
   "metadata": {},
   "source": [
    "### Subsample\n",
    "Discard some high-frequent words from our data and in return get faster training and better representations (noise reduction). (According to [Neural Information Processing Systems, paper](http://papers.nips.cc/paper/5021-distributed-representations-of-words-and-phrases-and-their-compositionality.pdf), Mikolov et al.)\n",
    "\n"
   ]
  },
  {
   "cell_type": "code",
   "execution_count": 10,
   "metadata": {
    "ExecuteTime": {
     "end_time": "2020-01-07T20:08:40.352990Z",
     "start_time": "2020-01-07T20:08:40.321609Z"
    }
   },
   "outputs": [],
   "source": [
    "def subsample(text, vocab_to_int, threshold=1e-5):\n",
    "    \"\"\"Discard some frequent words, according to the subsampling equation.\n",
    "    Return a new (reduced) list of words for training. \n",
    "    \n",
    "    Arguments:\n",
    "    ----------\n",
    "    - text: string, dict, mapping of words to ints (most frequent come first)\n",
    "    - vocab_to_int: int, value for first integer representation (default=0)\n",
    "    - threshold: float, threshold for 'random discarding' a word (default=1e-5)\n",
    "    \n",
    "    Returns:\n",
    "    --------\n",
    "    - words_train: list, subsampled text represented in ints instead of words\n",
    "    \"\"\" \n",
    "    \n",
    "    # Encode the whole text into a list of ints using a mapping dict\n",
    "    int_words = [vocab_to_int[word] for word in text.split()]\n",
    "    # Create dictionary of int_words, showing their frequencies\n",
    "    word_counts = Counter(int_words)  \n",
    "    \n",
    "    total_count = len(int_words)\n",
    "    freqs = {word: count / total_count for word, count in word_counts.items()}\n",
    "    p_drop = {word: 1 - np.sqrt(threshold / freqs[word]) for word in word_counts}\n",
    "\n",
    "    words_train = [word for word in int_words if random() < (1 - p_drop[word])]\n",
    "    \n",
    "    return words_train"
   ]
  },
  {
   "cell_type": "code",
   "execution_count": 11,
   "metadata": {
    "ExecuteTime": {
     "end_time": "2020-01-07T20:08:40.606266Z",
     "start_time": "2020-01-07T20:08:40.356505Z"
    }
   },
   "outputs": [],
   "source": [
    "words_train = subsample(text_complete, vocab_to_int)"
   ]
  },
  {
   "cell_type": "code",
   "execution_count": 12,
   "metadata": {
    "ExecuteTime": {
     "end_time": "2020-01-07T20:08:40.668692Z",
     "start_time": "2020-01-07T20:08:40.614191Z"
    }
   },
   "outputs": [
    {
     "name": "stdout",
     "output_type": "stream",
     "text": [
      "Length train text: 16245\n",
      "Length initial text: 134102\n",
      "[126, 148, 1588, 2107, 1716, 1374, 845, 1471, 109, 1195]\n"
     ]
    }
   ],
   "source": [
    "# Check results\n",
    "print(\"Length train text:\", len(words_train))\n",
    "print(\"Length initial text:\", len(text_complete.split()))\n",
    "print(words_train[:10])"
   ]
  },
  {
   "cell_type": "markdown",
   "metadata": {},
   "source": [
    "### Create batches¶ \n",
    "\"Since the more distant words are usually less related to the current word than those close to it, we give less weight to the distant words by sampling less from those words in our training examples... If we choose , for each training word we will select randomly a number  in range , and then use  words from history and  words from the future of the current word as correct labels.\"\n",
    "(According to original [Word2Vec paper](https://arxiv.org/pdf/1301.3781.pdf) from Mikolov et al.)"
   ]
  },
  {
   "cell_type": "code",
   "execution_count": 13,
   "metadata": {
    "ExecuteTime": {
     "end_time": "2020-01-07T20:08:40.684430Z",
     "start_time": "2020-01-07T20:08:40.672796Z"
    }
   },
   "outputs": [],
   "source": [
    "# This function will be called within the next function\n",
    "\n",
    "def get_target(words, idx, window_size=5):\n",
    "    \"\"\" Get a random-length list of target words (ints) in a window around \n",
    "    an input index (the input word).\n",
    "    \n",
    "    Arguments:\n",
    "    ----------\n",
    "    - words: list, text represented as list of words / ints\n",
    "    - idx: int, the index of the input word in words\n",
    "    - window_size: max window to and from idx to get target words\n",
    "    \n",
    "    Returns:\n",
    "    --------\n",
    "    - target: list, of words near the idx, the 'label' four our input\n",
    "    \n",
    "    \"\"\"\n",
    "    \n",
    "    R = np.random.randint(1, window_size+1)\n",
    "    min_val = np.max([idx-R, 0])  # make sure no neg index occurs, not necessary for values at end\n",
    "    target = words[min_val : idx] + words[idx+1 : idx+R+1]\n",
    "    \n",
    "    return target"
   ]
  },
  {
   "cell_type": "code",
   "execution_count": 14,
   "metadata": {
    "ExecuteTime": {
     "end_time": "2020-01-07T20:08:40.701514Z",
     "start_time": "2020-01-07T20:08:40.686650Z"
    }
   },
   "outputs": [],
   "source": [
    "def get_batches(words, batch_size, window_size=5):\n",
    "    \"\"\"Create a generator of word batches as a tuple (inputs, targets). It\n",
    "    grabs `batch_size` words from a words list. Then for each of those \n",
    "    batches, it gets the target words in a window.\n",
    "    \n",
    "    Arguments:\n",
    "    ----------\n",
    "    - words: list, text represented as list of words / ints\n",
    "    - batch size: int, number of inputs to form one batch\n",
    "    - window_size: max window to and from idx to get target words\n",
    "    \n",
    "    Returns:\n",
    "    --------\n",
    "    - x, y: lists, inputs und corresponding labels for one batch at a time\n",
    "    \n",
    "    \"\"\"\n",
    "    \n",
    "    n_batches = len(words)//batch_size\n",
    "    \n",
    "    # only full batches\n",
    "    words = words[:n_batches*batch_size]\n",
    "    \n",
    "    for idx in range(0, len(words), batch_size):\n",
    "        x, y = [], []\n",
    "        batch = words[idx : idx+batch_size]\n",
    "        for ii in range(len(batch)):\n",
    "            batch_x = batch[ii]\n",
    "            batch_y = get_target(batch, ii, window_size)\n",
    "            y.extend(batch_y)  # each batch x and y will be one row of values\n",
    "            x.extend([batch_x]*len(batch_y))\n",
    "        yield x, y"
   ]
  },
  {
   "cell_type": "code",
   "execution_count": 15,
   "metadata": {
    "ExecuteTime": {
     "end_time": "2020-01-07T20:08:40.746930Z",
     "start_time": "2020-01-07T20:08:40.706138Z"
    }
   },
   "outputs": [
    {
     "name": "stdout",
     "output_type": "stream",
     "text": [
      "x\n",
      " ['A', 'B', 'B', 'C', 'C', 'C', 'D', 'D']\n",
      "y\n",
      " ['B', 'A', 'C', 'A', 'B', 'D', 'B', 'C']\n"
     ]
    }
   ],
   "source": [
    "# Check results\n",
    "test_text = ['A', 'B', 'C', 'D', 'E', 'F', 'G']\n",
    "x, y = next(get_batches(test_text, batch_size=4, window_size=5))\n",
    "\n",
    "print('x\\n', x)\n",
    "print('y\\n', y)"
   ]
  },
  {
   "cell_type": "markdown",
   "metadata": {},
   "source": [
    "## Build NN for Word2Vec Embedding\n",
    "\n",
    "### Define Model Architecture and Loss Function"
   ]
  },
  {
   "cell_type": "code",
   "execution_count": 16,
   "metadata": {
    "ExecuteTime": {
     "end_time": "2020-01-07T20:08:40.793933Z",
     "start_time": "2020-01-07T20:08:40.754833Z"
    }
   },
   "outputs": [],
   "source": [
    "class SkipGramNeg(nn.Module):\n",
    "    def __init__(self, n_vocab, n_embed, noise_dist=None):\n",
    "        super().__init__()\n",
    "        \n",
    "        self.n_vocab = n_vocab\n",
    "        self.n_embed = n_embed\n",
    "        self.noise_dist = noise_dist\n",
    "        \n",
    "        # Define embedding layers for input and output words\n",
    "        self.in_embed = nn.Embedding(n_vocab, n_embed)\n",
    "        self.out_embed = nn.Embedding(n_vocab, n_embed)\n",
    "        \n",
    "        # Initialize both embedding tables with uniform distribution\n",
    "        # (this may help with convergence)\n",
    "        self.in_embed.weight.data.uniform_(-1, 1)\n",
    "        self.out_embed.weight.data.uniform_(-1, 1)\n",
    "        \n",
    "    def forward_input(self, input_words):\n",
    "        input_vectors = self.in_embed(input_words)\n",
    "        return input_vectors\n",
    "    \n",
    "    def forward_output(self, output_words):\n",
    "        output_vectors = self.out_embed(output_words)\n",
    "        return output_vectors\n",
    "    \n",
    "    def forward_noise(self, batch_size, n_samples):\n",
    "        \"\"\" Generate noise vectors with shape (batch_size, n_samples, n_embed)\"\"\"\n",
    "        if self.noise_dist is None:\n",
    "            # Sample words uniformly\n",
    "            noise_dist = torch.ones(self.n_vocab)\n",
    "        else:\n",
    "            noise_dist = self.noise_dist\n",
    "            \n",
    "        # Sample words from our noise distribution\n",
    "        noise_words = torch.multinomial(noise_dist,\n",
    "                                        batch_size * n_samples,\n",
    "                                        replacement=True)\n",
    "        \n",
    "        device = \"cuda\" if self.out_embed.weight.is_cuda else \"cpu\"\n",
    "        noise_words = noise_words.to(device)\n",
    "        noise_vectors = self.out_embed(noise_words).view(batch_size, n_samples, self.n_embed)      \n",
    "        \n",
    "        return noise_vectors"
   ]
  },
  {
   "cell_type": "code",
   "execution_count": 17,
   "metadata": {
    "ExecuteTime": {
     "end_time": "2020-01-07T20:08:40.844101Z",
     "start_time": "2020-01-07T20:08:40.806422Z"
    }
   },
   "outputs": [],
   "source": [
    "class NegativeSamplingLoss(nn.Module):\n",
    "    def __init__(self):\n",
    "        super().__init__()\n",
    "\n",
    "    def forward(self, input_vectors, output_vectors, noise_vectors):\n",
    "        \n",
    "        batch_size, embed_size = input_vectors.shape\n",
    "        \n",
    "        # Input vectors should be a batch of column vectors\n",
    "        input_vectors = input_vectors.view(batch_size, embed_size, 1)\n",
    "        \n",
    "        # Output vectors should be a batch of row vectors\n",
    "        output_vectors = output_vectors.view(batch_size, 1, embed_size)\n",
    "        \n",
    "        # bmm = batch matrix multiplication\n",
    "        # Correct log-sigmoid loss\n",
    "        out_loss = torch.bmm(output_vectors, input_vectors).sigmoid().log()\n",
    "        out_loss = out_loss.squeeze()\n",
    "        \n",
    "        # Incorrect log-sigmoid loss\n",
    "        noise_loss = torch.bmm(noise_vectors.neg(), input_vectors).sigmoid().log()\n",
    "        noise_loss = noise_loss.squeeze().sum(1)  # sum the losses over the sample of noise vectors\n",
    "\n",
    "        # Negate and sum correct and noisy log-sigmoid losses\n",
    "        # Return average batch loss\n",
    "        return -(out_loss + noise_loss).mean()"
   ]
  },
  {
   "cell_type": "markdown",
   "metadata": {},
   "source": [
    "### Define validation function\n",
    "This function helps observing the model during training. It will print out the closest words to some input words using the _cosine similarity_. We will input a mix of a few common words and a few uncommon words.\n",
    "\n",
    "We can encode the validation words as vectors using the embedding table, then calculate the similarity with each word vector  in the embedding table. With the similarities, we can print out the validation words and words in our embedding table semantically similar to those words."
   ]
  },
  {
   "cell_type": "code",
   "execution_count": 18,
   "metadata": {
    "ExecuteTime": {
     "end_time": "2020-01-07T20:08:40.875235Z",
     "start_time": "2020-01-07T20:08:40.853416Z"
    }
   },
   "outputs": [],
   "source": [
    "def cosine_similarity(embedding, valid_size=16, valid_window=100, device='cpu'):\n",
    "    \"\"\" Returns the cosine similarity of validation words with words in the \n",
    "    embedding matrix.\n",
    "    \n",
    "    Arguments:\n",
    "    ----------\n",
    "    - embedding: a PyTorch embedding module\n",
    "    - ...    \n",
    "    \"\"\"\n",
    "    \n",
    "    # Calculate the cosine similarity between some random words and the embedding vectors. \n",
    "    # With the similarities, we can look at what words are close to our random words.\n",
    "    # sim = (a . b) / |a||b|\n",
    "    \n",
    "    embed_vectors = embedding.weight\n",
    "    \n",
    "    # Calculate magnitude of embedding vectors, |b|\n",
    "    magnitudes = embed_vectors.pow(2).sum(dim=1).sqrt().unsqueeze(0)\n",
    "    \n",
    "    # Pick N words from our ranges (0, window) and (1000, 1000+window). \n",
    "    # lower id implies more frequent words, higher id more uncommon words\n",
    "    valid_examples = np.array(sample(range(valid_window), valid_size//2))\n",
    "    valid_examples = np.append(valid_examples,\n",
    "                               sample(range(1000, 1000+valid_window), valid_size//2))\n",
    "    valid_examples = torch.LongTensor(valid_examples).to(device)\n",
    "    \n",
    "    valid_vectors = embedding(valid_examples)\n",
    "    similarities = torch.mm(valid_vectors, embed_vectors.t()) / magnitudes\n",
    "        \n",
    "    return valid_examples, similarities"
   ]
  },
  {
   "cell_type": "markdown",
   "metadata": {
    "ExecuteTime": {
     "end_time": "2020-01-07T16:10:03.728573Z",
     "start_time": "2020-01-07T16:10:03.712943Z"
    }
   },
   "source": [
    "## Train NN\n",
    "(Training on GPU recommended, if available.)"
   ]
  },
  {
   "cell_type": "code",
   "execution_count": 19,
   "metadata": {
    "ExecuteTime": {
     "end_time": "2020-01-07T20:08:40.911122Z",
     "start_time": "2020-01-07T20:08:40.881437Z"
    }
   },
   "outputs": [
    {
     "name": "stdout",
     "output_type": "stream",
     "text": [
      "No GPU found. Please use a GPU to train your neural network.\n"
     ]
    }
   ],
   "source": [
    "# Check for a GPU\n",
    "device = 'cuda' if torch.cuda.is_available() else 'cpu'\n",
    "if not torch.cuda.is_available():\n",
    "    print('No GPU found. Please use a GPU to train your neural network.')"
   ]
  },
  {
   "cell_type": "code",
   "execution_count": 20,
   "metadata": {
    "ExecuteTime": {
     "end_time": "2020-01-07T20:08:40.958586Z",
     "start_time": "2020-01-07T20:08:40.917395Z"
    }
   },
   "outputs": [],
   "source": [
    "def train_w2v(model, words, batch_size, optimizer, criterion, epochs, print_every=1500):\n",
    "    \"\"\"Train loop with forward and backward propagation, \"\"\"\n",
    "    \n",
    "    model.train()\n",
    "    steps = 0\n",
    "    for e in range(epochs):\n",
    "\n",
    "        # Get our input, target batches\n",
    "        for input_words, target_words in get_batches(words, batch_size):\n",
    "            steps += 1\n",
    "            inputs, targets = torch.LongTensor(input_words), \\\n",
    "                              torch.LongTensor(target_words)\n",
    "            inputs, targets = inputs.to(device), targets.to(device)\n",
    "\n",
    "            # input, outpt, and noise vectors\n",
    "            input_vectors = model.forward_input(inputs)\n",
    "            output_vectors = model.forward_output(targets)\n",
    "            noise_vectors = model.forward_noise(inputs.shape[0], 5)\n",
    "\n",
    "            # negative sampling loss\n",
    "            loss = criterion(input_vectors, output_vectors, noise_vectors)\n",
    "\n",
    "            optimizer.zero_grad()\n",
    "            loss.backward()\n",
    "            optimizer.step()\n",
    "\n",
    "            # loss stats\n",
    "            if steps % print_every == 0:\n",
    "                print(\"Epoch: {}/{}\".format(e + 1, epochs))\n",
    "                print(\"Loss: \", loss.item()) # avg batch loss at this point\n",
    "                valid_examples, valid_similarities = cosine_similarity(\n",
    "                        model.in_embed, device=device)\n",
    "                _, closest_idxs = valid_similarities.topk(6)\n",
    "\n",
    "                valid_examples, closest_idxs = valid_examples.to('cpu'), \\\n",
    "                                               closest_idxs.to('cpu')\n",
    "                for ii, valid_idx in enumerate(valid_examples):\n",
    "                    closest_words = [int_to_vocab[idx.item()] \\\n",
    "                                     for idx in closest_idxs[ii]][1:]\n",
    "                    print(int_to_vocab[valid_idx.item()] \\\n",
    "                          + \" | \" + ', '.join(closest_words))\n",
    "                print(\"...\\n\")\n",
    "    \n",
    "    # Return trained model\n",
    "    return model"
   ]
  },
  {
   "cell_type": "code",
   "execution_count": 21,
   "metadata": {
    "ExecuteTime": {
     "end_time": "2020-01-07T20:08:40.990711Z",
     "start_time": "2020-01-07T20:08:40.965661Z"
    }
   },
   "outputs": [],
   "source": [
    "# Get noise distribution\n",
    "\n",
    "# Calculate new freqs after subsampling - this was not done in orig Udacity project!\n",
    "word_counts = Counter(words_train)\n",
    "total_count = len(words_train)\n",
    "freqs = {word: count / total_count for word, count in word_counts.items()}\n",
    "word_freqs = np.array(sorted(freqs.values(), reverse=True))\n",
    "unigram_dist = word_freqs / word_freqs.sum()\n",
    "noise_dist = torch.from_numpy(unigram_dist**(0.75)/np.sum(unigram_dist**(0.75)))"
   ]
  },
  {
   "cell_type": "code",
   "execution_count": 22,
   "metadata": {
    "ExecuteTime": {
     "end_time": "2020-01-07T20:08:41.078674Z",
     "start_time": "2020-01-07T20:08:40.996694Z"
    }
   },
   "outputs": [],
   "source": [
    "# Set net parameters\n",
    "embedding_dim = 300\n",
    "\n",
    "# Instantiate model and move to GPU if available\n",
    "w2v_net = SkipGramNeg(len(vocab_to_int), embedding_dim, noise_dist=noise_dist)\n",
    "w2v_net.to(device)\n",
    "\n",
    "# Set training parameters\n",
    "print_every = 500\n",
    "batch_size = 64\n",
    "epochs = 20\n",
    "\n",
    "criterion = NegativeSamplingLoss() \n",
    "optimizer = optim.Adam(w2v_net.parameters(), lr=0.003)"
   ]
  },
  {
   "cell_type": "code",
   "execution_count": 24,
   "metadata": {
    "ExecuteTime": {
     "end_time": "2020-01-07T20:18:16.179141Z",
     "start_time": "2020-01-07T20:10:03.068579Z"
    }
   },
   "outputs": [
    {
     "name": "stdout",
     "output_type": "stream",
     "text": [
      "Epoch: 2/20\n",
      "Loss:  11.828439712524414\n",
      "out | cigarette, things, gets, <RIGHT_PAREN>, fort\n",
      "after | steve, dust, lost, 911, riots\n",
      "up | error, da, advance, accidentally, crack\n",
      "us | omg, radar, persons, crews, club\n",
      "like | app, max, stage, price, many\n",
      "with | militant, signs, trucks, fights, debate\n",
      "her | game, room, cbc, million, spend\n",
      "a | moments, dust, saved, night, eight\n",
      "expected | would, *, 300w, person, hearing\n",
      "tree | am, these, smithsonian, because, color\n",
      "ancient | speaking, look, opened, added, usually\n",
      "camp | spaceship, how, thunderstorm, simple, nowplaying\n",
      "pradesh | didn, rescued, how, ride, nearby\n",
      "pamela | coastal, festival, seeing, co/rqwuoy1fm4, ultimate\n",
      "sounds | title, good, grow, vine, saudi\n",
      "nigerian | seconds, survivors, exchanging, region, earners\n",
      "...\n",
      "\n",
      "Epoch: 4/20\n",
      "Loss:  7.595999717712402\n",
      "they | 09, 5km, womens, repatriated, åê\n",
      "<RIGHT_PAREN> | out, john, reading, hours, fine\n",
      "how | people, trapmusic, http, pradesh, stage\n",
      "now | normal, between, in, 21, <QUESTION_MARK>\n",
      "s | blue, civilians, wake, 10, dear\n",
      "via | future, neighbour, sixth, 101, wars\n",
      "so | the, maybe, self-image, interview, un\n",
      "who | dead, thus, muslims, triple, bestnaijamade\n",
      "ancient | look, speaking, usually, added, felt\n",
      "ave | ain, favorite, method, iû_, support\n",
      "70th | co/lvlh3w3awo, un, rescued, issue, minutes\n",
      "turned | thats, energy, tho, move, statement\n",
      "camp | spaceship, how, simple, nowplaying, o784\n",
      "dies | freedom, decision, player, kept, policy\n",
      "turn | stand-user, info, associated, use, obliteration\n",
      "guess | collection, victory, dan, muscle, nearly\n",
      "...\n",
      "\n",
      "Epoch: 6/20\n",
      "Loss:  4.683511257171631\n",
      "<PERIOD> | children, gave, stage, imagine, do\n",
      "just | strike, test, life, //t, tweets\n",
      "some | okay, breaking, wants, actual, perfect\n",
      "out | things, cigarette, gets, wrong, <RIGHT_PAREN>\n",
      "were | &lt, main, jacksonville, parts, tomorrow\n",
      "the | so, pulled, joy, actions, c\n",
      "has | died, springs, costs, crash, acts\n",
      "do | bit, help, <PERIOD>, washington, property\n",
      "middle | avoiding, seat, sparked, us, arabian\n",
      "sad | blk, yourself, off, brooklyn, ebola\n",
      "led | offroad, map, across, goes, nasahurricane\n",
      "turn | stand-user, use, info, obliteration, associated\n",
      "bayelsa | aircraft, peanut, activated, may, but\n",
      "upon | list, kit, bell, bigger, slanglucci\n",
      "70th | co/lvlh3w3awo, rescued, un, minutes, emergency\n",
      "ain | ave, gems, calif, winston, under\n",
      "...\n",
      "\n",
      "Epoch: 8/20\n",
      "Loss:  3.7124435901641846\n",
      "new | star, was, career, quarantine, print\n",
      "police | river, minister, bring, american, shares\n",
      "has | springs, died, acts, costs, dozens\n",
      "will | eruption, flat, guide, downtown, civilian\n",
      "for | aid, charity, are, centipede, missing\n",
      "his | common, extra, half, chaos, tote\n",
      "like | app, max, stage, afternoon, many\n",
      "don | blown, aug, camp, exchange, cruz\n",
      "ancient | look, speaking, usually, opened, felt\n",
      "working | wet, siren, internal, åè, marians\n",
      "former | averted, michael, larger, landslide, weekend\n",
      "started | trafford, promises, old, silence, r\n",
      "nws | wake, even, loud, upset, flames\n",
      "[black | **trfc, own, sort, positive, became\n",
      "risk | arson, hunters, zone, dance, even\n",
      "ppl | fights, 32, marvel, huffman, 18w\n",
      "...\n",
      "\n",
      "Epoch: 10/20\n",
      "Loss:  2.306771755218506\n",
      "if | day, seek, trolley, residents, disaster\n",
      "so | the, interview, camp, round, sister\n",
      "<PERIOD> | children, stage, missing, time2015-08-05, gave\n",
      "<MENTION> | burning, guys, compliant, earrings, express\n",
      "into | audio, calories, play, //t, approaches\n",
      "over | colorado, dtn, smh, trapmusic, 500\n",
      "get | usa, report, pregnant, di, technology\n",
      "about | pandemonium, c, fbi, watching, dear\n",
      "outrage | solution, owner, fallen, devastated, give\n",
      "2015] | sittwe, energy, mph, coast, hour\n",
      "york | eyes, yrs, mum, max, words\n",
      "pamela | thus, ultimate, democracy, coastal, aid\n",
      "awesome | sprinter, youngheroesid, galactic, mad, rule\n",
      "ppl | fights, 32, marvel, huffman, santa\n",
      "parole | survived, evil, these, losses, fr\n",
      "upon | list, slanglucci, bigger, season, bell\n",
      "...\n",
      "\n",
      "Epoch: 12/20\n",
      "Loss:  1.8955596685409546\n",
      "don | blown, exchange, japì_n, cruz, sandstorm\n",
      "this | holland, 80, humanity, recipes, picture\n",
      "for | aid, are, charity, missing, every\n",
      "all | videos, arsonist, residents, edt, survived\n",
      "about | pandemonium, fbi, mentions, kinda, anything\n",
      "<RIGHT_PAREN> | hours, singing, john, hijacking, nasahurricane\n",
      "<QUESTION_MARK> | disaster, together, spirit, 13, structural\n",
      "news | mosque, injured, mini, co/viwxy1xdyk, instagram\n",
      "subreddits | landfall, effect, upheaval, warned, none\n",
      "france | gps, mad, trucks, 4x4, 8\n",
      "upon | list, slanglucci, season, bigger, bell\n",
      "mode | around, occasion, updated, airplane, cancer\n",
      "told | iger, lowndes, solar, heaven, together\n",
      "expected | approaches, would, 300w, hurt, nu\n",
      "holding | county, before, dramatic, crime, cia\n",
      "gave | totally, faan, morning, wall, fallen\n",
      "...\n",
      "\n",
      "Epoch: 14/20\n",
      "Loss:  1.488968849182129\n",
      "has | springs, died, acts, calls, stuck\n",
      "into | audio, calories, thank, play, act\n",
      "| | rohingya, devastated, realized, [ir], mexico\n",
      "<MENTION> | compliant, considering, guys, burning, earrings\n",
      "new | star, investigation, hills, edinburgh, bjp\n",
      "an | moment, owner, sports, lunch, out\n",
      "<PERIOD> | children, stage, missing, gave, survivors\n",
      "was | terror, george, kurdish, gunfire, migrants\n",
      "subreddits | landfall, effect, upheaval, ebola, possible\n",
      "sad | yourself, blk, safer, rules, ebola\n",
      "lamp | coastal, homeless, national, rohingya, chocolate\n",
      "shots | computer, 19, surface, <HYPHENS>, shipping\n",
      "pradesh | derailment, didn, youth, nearby, driver\n",
      "room | alps, afraid, ablaze, political, <HYPHENS>\n",
      "thinking | shell, 16, hail, usgs, shoulder\n",
      "ave | from, method, support, spring, question\n",
      "...\n",
      "\n",
      "Epoch: 16/20\n",
      "Loss:  1.1972320079803467\n",
      "fire | previous, truck, claim, toll, jonathan\n",
      "has | acts, calls, levels, springs, costs\n",
      "body | reasons, purse, bag, ring, 02\n",
      "<QUOTATION> | weight, meet, all, pray, stop\n",
      "police | minister, shares, goes, hellfire, stabbing\n",
      "been | blazing, firefighters, calamity, somehow, fires\n",
      "be | others, insane, oc, i-77, shoulder\n",
      "who | pretty, trees, hated, dead, bff\n",
      "2015] | sittwe, hat, energy, start, mph\n",
      "bed | explode, region, 39, unsafe, weed\n",
      "militants | lake, center, cream, florida, sky\n",
      "awesome | sprinter, youngheroesid, mad, galactic, rule\n",
      "rock | nasty, hotel, reported, guide, liked\n",
      "uk | asia, hiroshima, weekend, fwy, action\n",
      "niggas | only, hwy, bears, invoices, believe\n",
      "working | wet, siren, entertainment, horses, ignition\n",
      "...\n",
      "\n",
      "Epoch: 18/20\n",
      "Loss:  0.9164138436317444\n",
      "s | civilians, crushed, forgot, darude, activated\n",
      "into | play, audio, thank, calories, called\n",
      "fire | truck, claim, previous, township, cream\n",
      "he | medical, auth, rescue, wht, petition\n",
      "<SEMICOLON> | holland, lab, stop, jackson, want\n",
      "of | terrorist, wash, i, anthrax, cuz\n",
      "like | afternoon, max, app, many, adult\n",
      "were | rocky, out, parts, pretty, drought\n",
      "told | lowndes, iger, round, solar, heaven\n",
      "dies | decision, kept, fashion, emotional, freedom\n",
      "london | sexual, crack, cinema, wounds, texas\n",
      "tried | worried, guardian, epilepsy, simple, economy\n",
      "bed | explode, weed, wreckage, 39, unsafe\n",
      "pradesh | derailment, didn, youth, fine, offer\n",
      "patience | jonathan, hijack, tons, no, richard\n",
      "ain | gems, nowplaying, kidnapped, under, winston\n",
      "...\n",
      "\n",
      "Epoch: 20/20\n",
      "Loss:  0.9665044546127319\n",
      "from | ave, too, practice, august, singing\n",
      "a | leads, replacing, saved, cinema, 17\n",
      "after | dust, steve, 911, vintage, riots\n",
      "all | videos, arsonist, residents, survived, streets\n",
      "get | pregnant, di, usa, claim, report\n",
      "has | acts, levels, inundated, computers, date\n",
      "<EXCLAMATION_MARK> | financial, fully, fun, yesterday, driver\n",
      "been | appreciate, felt, blazing, somehow, firefighters\n",
      "gave | fell, morning, restore, fallen, content\n",
      "reported | efforts, spain, advance, rock, channel\n",
      "niggas | only, bears, believe, zone, hwy\n",
      "dad | remember, blast, wound, source, female\n",
      "turn | info, gang, stand-user, uganda, isis\n",
      "expected | approaches, super, saipan, 300w, nu\n",
      "gems | ain, chinaûªs, bargain, chinese, survival\n",
      "started | promises, trafford, makes, when, lol\n",
      "...\n",
      "\n"
     ]
    }
   ],
   "source": [
    "# Train model\n",
    "trained_w2v_net = train_w2v(w2v_net, words_train, batch_size, \n",
    "                            optimizer, criterion, epochs, print_every)"
   ]
  },
  {
   "cell_type": "markdown",
   "metadata": {},
   "source": [
    "**Observation:** Altough the loss decreases nicely the similarities don't give too much sense, probably due to the very limited size of the training set / vocabulary."
   ]
  },
  {
   "cell_type": "markdown",
   "metadata": {
    "ExecuteTime": {
     "end_time": "2020-01-07T20:18:16.194821Z",
     "start_time": "2020-01-07T20:18:16.187612Z"
    }
   },
   "source": [
    "### Save / Re-Load Model"
   ]
  },
  {
   "cell_type": "code",
   "execution_count": 32,
   "metadata": {
    "ExecuteTime": {
     "end_time": "2020-01-07T20:26:08.580775Z",
     "start_time": "2020-01-07T20:26:08.539138Z"
    },
    "scrolled": true
   },
   "outputs": [
    {
     "name": "stdout",
     "output_type": "stream",
     "text": [
      "SkipGramNeg(\n",
      "  (in_embed): Embedding(3489, 300)\n",
      "  (out_embed): Embedding(3489, 300)\n",
      ")\n"
     ]
    }
   ],
   "source": [
    "torch.save(w2v_net.state_dict(), 'models/w2v_net.pth')\n",
    "\n",
    "state_dict = torch.load('models/w2v_net.pth')\n",
    "w2v_net.load_state_dict(state_dict)\n",
    "\n",
    "print(w2v_net)"
   ]
  },
  {
   "cell_type": "markdown",
   "metadata": {},
   "source": [
    "## Use Embeddings"
   ]
  },
  {
   "cell_type": "code",
   "execution_count": 33,
   "metadata": {
    "ExecuteTime": {
     "end_time": "2020-01-07T20:30:11.509955Z",
     "start_time": "2020-01-07T20:30:00.458230Z"
    }
   },
   "outputs": [
    {
     "data": {
      "image/png": "[encoded data removed]",
      "text/plain": [
       "<Figure size 1152x1152 with 1 Axes>"
      ]
     },
     "metadata": {
      "needs_background": "light"
     },
     "output_type": "display_data"
    }
   ],
   "source": [
    "# Visualize\n",
    "\n",
    "# Get embeddings from the embedding layer of our model, by name\n",
    "embeddings = w2v_net.in_embed.weight.to('cpu').data.numpy()\n",
    "\n",
    "viz_words = 300\n",
    "tsne = TSNE()\n",
    "embed_tsne = tsne.fit_transform(embeddings[:viz_words, :])\n",
    "\n",
    "fig, ax = plt.subplots(figsize=(16, 16))\n",
    "for idx in range(viz_words):\n",
    "    plt.scatter(*embed_tsne[idx, :], color=col1)\n",
    "    plt.annotate(int_to_vocab[idx], (embed_tsne[idx, 0], embed_tsne[idx, 1]), alpha=0.7)"
   ]
  },
  {
   "cell_type": "code",
   "execution_count": 50,
   "metadata": {
    "ExecuteTime": {
     "end_time": "2020-01-07T20:55:23.731066Z",
     "start_time": "2020-01-07T20:55:23.698338Z"
    }
   },
   "outputs": [
    {
     "name": "stdout",
     "output_type": "stream",
     "text": [
      "torch.FloatTensor\n",
      "torch.Size([3489, 300])\n"
     ]
    }
   ],
   "source": [
    "# Save for later use\n",
    "embeddings = w2v_net.in_embed.weight\n",
    "print(embeddings.type())\n",
    "print(embeddings.shape)\n",
    "\n",
    "# Save\n",
    "file_embeddings = open('embeddings.pkl', 'wb') \n",
    "pickle.dump(embeddings, file_embeddings)"
   ]
  },
  {
   "cell_type": "code",
   "execution_count": 52,
   "metadata": {
    "ExecuteTime": {
     "end_time": "2020-01-07T20:56:00.494727Z",
     "start_time": "2020-01-07T20:56:00.457200Z"
    }
   },
   "outputs": [
    {
     "name": "stdout",
     "output_type": "stream",
     "text": [
      "torch.FloatTensor\n",
      "torch.Size([3489, 300])\n"
     ]
    }
   ],
   "source": [
    "# Reload for test purpose\n",
    "\n",
    "file_embeddings_r = open('embeddings.pkl', 'rb') \n",
    "embeddings_test = pickle.load(file_embeddings_r)\n",
    "\n",
    "print(embeddings_test.type())\n",
    "print(embeddings_test.shape)"
   ]
  },
  {
   "cell_type": "code",
   "execution_count": null,
   "metadata": {},
   "outputs": [],
   "source": []
  },
  {
   "cell_type": "code",
   "execution_count": null,
   "metadata": {},
   "outputs": [],
   "source": []
  },
  {
   "cell_type": "code",
   "execution_count": null,
   "metadata": {},
   "outputs": [],
   "source": []
  },
  {
   "cell_type": "markdown",
   "metadata": {},
   "source": [
    "## **4. Embeddings & Text Cleaning**"
   ]
  },
  {
   "cell_type": "markdown",
   "metadata": {},
   "source": [
    "### **4.1 Embedding Coverage**\n",
    "* When you have pre-trained embeddings, doing standard preprocessing steps  might not be a good idea because some of the valuable information can be lost. It is better to get vocabulary as close to embeddings as possible. In order to do that, `train_vocab` and `test_vocab` are created by counting the words in tweets."
   ]
  },
  {
   "cell_type": "code",
   "execution_count": null,
   "metadata": {
    "ExecuteTime": {
     "end_time": "2020-01-07T20:08:41.660794Z",
     "start_time": "2020-01-07T20:08:37.437Z"
    }
   },
   "outputs": [],
   "source": [
    "def build_vocab(tweets):\n",
    "    vocab = {}        \n",
    "    for tweet in tweets:\n",
    "        for word in tweet:\n",
    "            try:\n",
    "                vocab[word] += 1\n",
    "            except KeyError:\n",
    "                vocab[word] = 1\n",
    "    return vocab\n",
    "\n",
    "train_tweets = df_train['text'].apply(lambda s: s.split()).values\n",
    "train_vocab = build_vocab(train_tweets)\n",
    "test_tweets = df_test['text'].apply(lambda s: s.split()).values\n",
    "test_vocab = build_vocab(test_tweets)"
   ]
  },
  {
   "cell_type": "markdown",
   "metadata": {},
   "source": [
    "Embeddings used for text cleaning are:\n",
    "* GloVe-300d-840B\n",
    "* FastText-Crawl-300d-2M"
   ]
  },
  {
   "cell_type": "code",
   "execution_count": null,
   "metadata": {
    "ExecuteTime": {
     "end_time": "2020-01-07T20:08:41.668314Z",
     "start_time": "2020-01-07T20:08:37.452Z"
    }
   },
   "outputs": [],
   "source": [
    "embeddings_glove = np.load('../input/pickled-glove840b300d-for-10sec-loading/glove.840B.300d.pkl', allow_pickle=True)\n",
    "embeddings_fasttext = np.load('../input/pickled-crawl300d2m-for-kernel-competitions/crawl-300d-2M.pkl', allow_pickle=True)"
   ]
  },
  {
   "cell_type": "markdown",
   "metadata": {},
   "source": [
    "Words in intersection of vocab and embeddings are stored in `covered` along with their counts. Words in vocab that don't exist in embeddings are stored in `oov` along with their counts. `n_covered` and `n_oov` are total number of counts and they are used for calculating coverage percentages.\n",
    "\n",
    "Both GloVe and FastText embeddings have more than **50%** vocab and **80%** text coverage without cleaning. GloVe and FastText coverage are very close but GloVe has slightly higher coverage."
   ]
  },
  {
   "cell_type": "code",
   "execution_count": null,
   "metadata": {
    "ExecuteTime": {
     "end_time": "2020-01-07T20:08:41.672106Z",
     "start_time": "2020-01-07T20:08:37.462Z"
    }
   },
   "outputs": [],
   "source": [
    "def check_coverage(vocab, embeddings, embeddings_name, dataset_name):\n",
    "    covered = {}\n",
    "    oov = {}    \n",
    "    n_covered = 0\n",
    "    n_oov = 0\n",
    "    \n",
    "    for word in vocab:\n",
    "        try:\n",
    "            covered[word] = embeddings[word]\n",
    "            n_covered += vocab[word]\n",
    "        except:\n",
    "            oov[word] = vocab[word]\n",
    "            n_oov += vocab[word]\n",
    "            \n",
    "    vocab_coverage = len(covered) / len(vocab)\n",
    "    text_coverage = (n_covered / (n_covered + n_oov))\n",
    "    print('{} Embeddings cover {:.2%} of {} vocab'.format(embeddings_name, vocab_coverage, dataset_name))\n",
    "    print('{} Embeddings cover {:.2%} of {} text'.format(embeddings_name, text_coverage, dataset_name))\n",
    "    \n",
    "    sorted_oov = sorted(oov.items(), key=operator.itemgetter(1))[::-1]\n",
    "    return sorted_oov\n",
    "\n",
    "train_oov_glove = check_coverage(train_vocab, embeddings_glove, 'GloVe', 'Training')\n",
    "test_oov_glove = check_coverage(test_vocab, embeddings_glove, 'GloVe', 'Test')\n",
    "train_oov_fasttext = check_coverage(train_vocab, embeddings_fasttext, 'FastText', 'Training')\n",
    "test_oov_fasttext = check_coverage(test_vocab, embeddings_fasttext, 'FastText', 'Test')"
   ]
  },
  {
   "cell_type": "markdown",
   "metadata": {},
   "source": [
    "### **4.2 Text Cleaning (Not Finished)**\n",
    "* The most common type of words in oov have punctuations at the start or end. Those words doesn't have embeddings because of those trailing punctuations. `#@!?()[]*%...'` are separated from words.\n",
    "* There are special characters in tweets and some of them are attached to words. They are removed completely.\n",
    "* Contractions are expanded.\n",
    "* Character entity references are replaced with their actual symbols.\n",
    "* Typos and slang are corrected, and informal abbreviations are written in their long forms.\n",
    "* Hashtags and usernames are expanded."
   ]
  },
  {
   "cell_type": "code",
   "execution_count": null,
   "metadata": {
    "ExecuteTime": {
     "end_time": "2020-01-07T20:08:41.675086Z",
     "start_time": "2020-01-07T20:08:37.474Z"
    }
   },
   "outputs": [],
   "source": [
    "def clean(tweet):    \n",
    "    # Punctuations at the start or end of words    \n",
    "    for punctuation in \"#@!?()[]*%\":\n",
    "        tweet = tweet.replace(punctuation, f' {punctuation} ').strip()\n",
    "    tweet = tweet.replace('...', ' ... ').strip()\n",
    "    tweet = tweet.replace(\"'\", \" ' \").strip()        \n",
    "    \n",
    "    # Special characters\n",
    "    tweet = re.sub(r\"\\x89Û_\", \"\", tweet)\n",
    "    tweet = re.sub(r\"\\x89ÛÒ\", \"\", tweet)\n",
    "    tweet = re.sub(r\"\\x89ÛÓ\", \"\", tweet)\n",
    "    tweet = re.sub(r\"\\x89ÛÏWhen\", \"When\", tweet)\n",
    "    tweet = re.sub(r\"\\x89ÛÏ\", \"\", tweet)\n",
    "    tweet = re.sub(r\"China\\x89Ûªs\", \"China's\", tweet)\n",
    "    tweet = re.sub(r\"let\\x89Ûªs\", \"let's\", tweet)\n",
    "    tweet = re.sub(r\"\\x89Û÷\", \"\", tweet)\n",
    "    tweet = re.sub(r\"\\x89Ûª\", \"\", tweet)\n",
    "    tweet = re.sub(r\"\\x89Û\\x9d\", \"\", tweet)\n",
    "    tweet = re.sub(r\"å_\", \"\", tweet)\n",
    "    tweet = re.sub(r\"\\x89Û¢\", \"\", tweet)\n",
    "    tweet = re.sub(r\"\\x89Û¢åÊ\", \"\", tweet)\n",
    "    tweet = re.sub(r\"fromåÊwounds\", \"from wounds\", tweet)\n",
    "    tweet = re.sub(r\"åÊ\", \"\", tweet)\n",
    "    tweet = re.sub(r\"åÈ\", \"\", tweet)\n",
    "    tweet = re.sub(r\"JapÌ_n\", \"Japan\", tweet)    \n",
    "    \n",
    "    # Contractions\n",
    "    tweet = re.sub(r\"he's\", \"he is\", tweet)\n",
    "    tweet = re.sub(r\"there's\", \"there is\", tweet)\n",
    "    tweet = re.sub(r\"We're\", \"We are\", tweet)\n",
    "    tweet = re.sub(r\"That's\", \"That is\", tweet)\n",
    "    tweet = re.sub(r\"won't\", \"will not\", tweet)\n",
    "    tweet = re.sub(r\"they're\", \"they are\", tweet)\n",
    "    tweet = re.sub(r\"Can't\", \"Cannot\", tweet)\n",
    "    tweet = re.sub(r\"wasn't\", \"was not\", tweet)\n",
    "    tweet = re.sub(r\"don\\x89Ûªt\", \"do not\", tweet)\n",
    "    tweet = re.sub(r\"aren't\", \"are not\", tweet)\n",
    "    tweet = re.sub(r\"isn't\", \"is not\", tweet)\n",
    "    tweet = re.sub(r\"What's\", \"What is\", tweet)\n",
    "    tweet = re.sub(r\"haven't\", \"have not\", tweet)\n",
    "    tweet = re.sub(r\"hasn't\", \"has not\", tweet)\n",
    "    tweet = re.sub(r\"There's\", \"There is\", tweet)\n",
    "    tweet = re.sub(r\"He's\", \"He is\", tweet)\n",
    "    tweet = re.sub(r\"It's\", \"It is\", tweet)\n",
    "    tweet = re.sub(r\"You're\", \"You are\", tweet)\n",
    "    tweet = re.sub(r\"I'M\", \"I am\", tweet)\n",
    "    tweet = re.sub(r\"shouldn't\", \"should not\", tweet)\n",
    "    tweet = re.sub(r\"wouldn't\", \"would not\", tweet)\n",
    "    tweet = re.sub(r\"i'm\", \"I am\", tweet)\n",
    "    tweet = re.sub(r\"I\\x89Ûªm\", \"I am\", tweet)\n",
    "    tweet = re.sub(r\"I'm\", \"I am\", tweet)\n",
    "    tweet = re.sub(r\"Isn't\", \"is not\", tweet)\n",
    "    tweet = re.sub(r\"Here's\", \"Here is\", tweet)\n",
    "    tweet = re.sub(r\"you've\", \"you have\", tweet)\n",
    "    tweet = re.sub(r\"you\\x89Ûªve\", \"you have\", tweet)\n",
    "    tweet = re.sub(r\"we're\", \"we are\", tweet)\n",
    "    tweet = re.sub(r\"what's\", \"what is\", tweet)\n",
    "    tweet = re.sub(r\"couldn't\", \"could not\", tweet)\n",
    "    tweet = re.sub(r\"we've\", \"we have\", tweet)\n",
    "    tweet = re.sub(r\"it\\x89Ûªs\", \"it is\", tweet)\n",
    "    tweet = re.sub(r\"doesn\\x89Ûªt\", \"does not\", tweet)\n",
    "    tweet = re.sub(r\"It\\x89Ûªs\", \"It is\", tweet)\n",
    "    tweet = re.sub(r\"Here\\x89Ûªs\", \"Here is\", tweet)\n",
    "    tweet = re.sub(r\"who's\", \"who is\", tweet)\n",
    "    tweet = re.sub(r\"I\\x89Ûªve\", \"I have\", tweet)\n",
    "    tweet = re.sub(r\"y'all\", \"you all\", tweet)\n",
    "    tweet = re.sub(r\"can\\x89Ûªt\", \"cannot\", tweet)\n",
    "    tweet = re.sub(r\"would've\", \"would have\", tweet)\n",
    "    tweet = re.sub(r\"it'll\", \"it will\", tweet)\n",
    "    tweet = re.sub(r\"we'll\", \"we will\", tweet)\n",
    "    tweet = re.sub(r\"wouldn\\x89Ûªt\", \"would not\", tweet)\n",
    "    tweet = re.sub(r\"We've\", \"We have\", tweet)\n",
    "    tweet = re.sub(r\"he'll\", \"he will\", tweet)\n",
    "    tweet = re.sub(r\"Y'all\", \"You all\", tweet)\n",
    "    tweet = re.sub(r\"Weren't\", \"Were not\", tweet)\n",
    "    tweet = re.sub(r\"Didn't\", \"Did not\", tweet)\n",
    "    tweet = re.sub(r\"they'll\", \"they will\", tweet)\n",
    "    tweet = re.sub(r\"they'd\", \"they would\", tweet)\n",
    "    tweet = re.sub(r\"DON'T\", \"DO NOT\", tweet)\n",
    "    tweet = re.sub(r\"That\\x89Ûªs\", \"That is\", tweet)\n",
    "    tweet = re.sub(r\"they've\", \"they have\", tweet)\n",
    "    tweet = re.sub(r\"i'd\", \"I would\", tweet)\n",
    "    tweet = re.sub(r\"should've\", \"should have\", tweet)\n",
    "    tweet = re.sub(r\"You\\x89Ûªre\", \"You are\", tweet)\n",
    "    tweet = re.sub(r\"where's\", \"where is\", tweet)\n",
    "    tweet = re.sub(r\"Don\\x89Ûªt\", \"Do not\", tweet)\n",
    "    tweet = re.sub(r\"we'd\", \"we would\", tweet)\n",
    "    tweet = re.sub(r\"i'll\", \"I will\", tweet)\n",
    "    tweet = re.sub(r\"weren't\", \"were not\", tweet)\n",
    "    tweet = re.sub(r\"They're\", \"They are\", tweet)\n",
    "    tweet = re.sub(r\"Can\\x89Ûªt\", \"Cannot\", tweet)\n",
    "    tweet = re.sub(r\"you\\x89Ûªll\", \"you will\", tweet)\n",
    "    tweet = re.sub(r\"I\\x89Ûªd\", \"I would\", tweet)\n",
    "    tweet = re.sub(r\"let's\", \"let us\", tweet)\n",
    "    \n",
    "    # Character entity references\n",
    "    tweet = re.sub(r\"&gt;\", \">\", tweet)\n",
    "    tweet = re.sub(r\"&lt;\", \"<\", tweet)\n",
    "    tweet = re.sub(r\"&amp;\", \"&\", tweet)\n",
    "        \n",
    "    # Typos, slang and informal abbreviations\n",
    "    tweet = re.sub(r\"w/e\", \"whatever\", tweet)\n",
    "    tweet = re.sub(r\"w/\", \"with\", tweet)\n",
    "    tweet = re.sub(r\"USAgov\", \"USA government\", tweet)\n",
    "    tweet = re.sub(r\"recentlu\", \"recently\", tweet)\n",
    "    tweet = re.sub(r\"Ph0tos\", \"Photos\", tweet)\n",
    "    tweet = re.sub(r\"exp0sed\", \"exposed\", tweet)\n",
    "    tweet = re.sub(r\"<3\", \"love\", tweet)\n",
    "        \n",
    "    # Hashtags and usernames\n",
    "    tweet = re.sub(r\"IranDeal\", \"Iran Deal\", tweet)\n",
    "    tweet = re.sub(r\"ArianaGrande\", \"Ariana Grande\", tweet)\n",
    "    tweet = re.sub(r\"camilacabello97\", \"camila cabello\", tweet) \n",
    "    tweet = re.sub(r\"RondaRousey\", \"Ronda Rousey\", tweet)     \n",
    "    tweet = re.sub(r\"MTVHottest\", \"MTV Hottest\", tweet)\n",
    "    tweet = re.sub(r\"TrapMusic\", \"Trap Music\", tweet)\n",
    "    tweet = re.sub(r\"ProphetMuhammad\", \"Prophet Muhammad\", tweet)\n",
    "    tweet = re.sub(r\"PantherAttack\", \"Panther Attack\", tweet)\n",
    "    tweet = re.sub(r\"StrategicPatience\", \"Strategic Patience\", tweet)\n",
    "    tweet = re.sub(r\"socialnews\", \"social news\", tweet)\n",
    "    tweet = re.sub(r\"NASAHurricane\", \"NASA Hurricane\", tweet)\n",
    "    tweet = re.sub(r\"onlinecommunities\", \"online communities\", tweet)\n",
    "    tweet = re.sub(r\"humanconsumption\", \"human consumption\", tweet)\n",
    "    tweet = re.sub(r\"Typhoon-Devastated\", \"Typhoon Devastated\", tweet)\n",
    "    tweet = re.sub(r\"Meat-Loving\", \"Meat Loving\", tweet)\n",
    "    tweet = re.sub(r\"facialabuse\", \"facial abuse\", tweet)\n",
    "    tweet = re.sub(r\"LakeCounty\", \"Lake County\", tweet)\n",
    "    tweet = re.sub(r\"BeingAuthor\", \"Being Author\", tweet)\n",
    "    tweet = re.sub(r\"withheavenly\", \"with heavenly\", tweet)\n",
    "    tweet = re.sub(r\"thankU\", \"thank you\", tweet)\n",
    "    tweet = re.sub(r\"iTunesMusic\", \"iTunes Music\", tweet)\n",
    "    tweet = re.sub(r\"OffensiveContent\", \"Offensive Content\", tweet)\n",
    "    tweet = re.sub(r\"WorstSummerJob\", \"Worst Summer Job\", tweet)\n",
    "    tweet = re.sub(r\"HarryBeCareful\", \"Harry Be Careful\", tweet)\n",
    "    tweet = re.sub(r\"NASASolarSystem\", \"NASA Solar System\", tweet)\n",
    "    \n",
    "    return tweet\n",
    "\n",
    "df_train['text_cleaned'] = df_train['text'].apply(lambda x : clean(x))\n",
    "df_test['text_cleaned'] = df_test['text'].apply(lambda x : clean(x))\n",
    "\n",
    "train_tweets_cleaned = df_train['text_cleaned'].apply(lambda s: s.split()).values\n",
    "train_vocab_cleaned = build_vocab(train_tweets_cleaned)\n",
    "test_tweets_cleaned = df_test['text_cleaned'].apply(lambda s: s.split()).values\n",
    "test_vocab_cleaned = build_vocab(test_tweets_cleaned)\n",
    "\n",
    "train_oov_glove = check_coverage(train_vocab_cleaned, embeddings_glove, 'GloVe', 'Training')\n",
    "test_oov_glove = check_coverage(test_vocab_cleaned, embeddings_glove, 'GloVe', 'Test')\n",
    "train_oov_fasttext = check_coverage(train_vocab_cleaned, embeddings_fasttext, 'FastText', 'Training')\n",
    "test_oov_fasttext = check_coverage(test_vocab_cleaned, embeddings_fasttext, 'FastText', 'Test')"
   ]
  },
  {
   "cell_type": "markdown",
   "metadata": {},
   "source": [
    "## **5. Test Set Labels**\n",
    "Test set labels can be found on [this](https://www.figure-eight.com/data-for-everyone/) website. Dataset is named **Disasters on social media**. This is how people are submitting perfect scores. Other \"Getting Started\" competitions also have their test labels leaked. The main point of \"Getting Started\" competitions is **learning and sharing**, and perfect score doesn't mean anything. \n",
    "\n",
    "> **Phil Culliton wrote:**\n",
    "> For the AutoML prize, any use of the label set will result in disqualification.\n",
    "\n",
    "According to [@philculliton](https://www.kaggle.com/philculliton) from Kaggle Team, competitors who use test set labels in any way are not eligible to win AutoML prize. There are no other penalties for using them."
   ]
  },
  {
   "cell_type": "code",
   "execution_count": null,
   "metadata": {
    "ExecuteTime": {
     "end_time": "2020-01-07T20:08:41.679374Z",
     "start_time": "2020-01-07T20:08:37.484Z"
    }
   },
   "outputs": [],
   "source": [
    "df_leak = pd.read_csv('../input/nlp-with-disaster-tweets-test-set-with-labels/socialmedia-disaster-tweets-DFE.csv', encoding ='ISO-8859-1')[['choose_one', 'text']]\n",
    "\n",
    "# Creating target and id\n",
    "df_leak['target'] = (df_leak['choose_one'] == 'Relevant').astype(np.int8)\n",
    "df_leak['id'] = df_leak.index.astype(np.int16)\n",
    "df_leak.drop(columns=['choose_one', 'text'], inplace=True)\n",
    "\n",
    "# Merging target to test set\n",
    "df_test = df_test.merge(df_leak, on=['id'], how='left')\n",
    "\n",
    "print('Leaked Data Set Shape = {}'.format(df_leak.shape))\n",
    "print('Leaked Data Set Memory Usage = {:.2f} MB'.format(df_leak.memory_usage().sum() / 1024**2))"
   ]
  },
  {
   "cell_type": "code",
   "execution_count": null,
   "metadata": {
    "ExecuteTime": {
     "end_time": "2020-01-07T20:08:41.685675Z",
     "start_time": "2020-01-07T20:08:37.494Z"
    }
   },
   "outputs": [],
   "source": [
    "ORIGINAL_FEATURES = ['id', 'keyword', 'location', 'text', 'target', 'text_cleaned']\n",
    "\n",
    "df_train[ORIGINAL_FEATURES].to_pickle('train.pkl')\n",
    "df_test[ORIGINAL_FEATURES].to_pickle('test.pkl')\n",
    "\n",
    "submission = pd.read_csv(\"/kaggle/input/nlp-getting-started/sample_submission.csv\")\n",
    "submission['target'] = df_test['target'].values\n",
    "submission.to_csv('submission.csv', index=False)\n",
    "\n",
    "print('Training Set Shape = {}'.format(df_train[ORIGINAL_FEATURES].shape))\n",
    "print('Training Set Memory Usage = {:.2f} MB'.format(df_train[ORIGINAL_FEATURES].memory_usage().sum() / 1024**2))\n",
    "print('Test Set Shape = {}'.format(df_test[ORIGINAL_FEATURES].shape))\n",
    "print('Test Set Memory Usage = {:.2f} MB'.format(df_test[ORIGINAL_FEATURES].memory_usage().sum() / 1024**2))"
   ]
  }
 ],
 "metadata": {
  "hide_input": false,
  "kernelspec": {
   "display_name": "Python 3",
   "language": "python",
   "name": "python3"
  },
  "language_info": {
   "codemirror_mode": {
    "name": "ipython",
    "version": 3
   },
   "file_extension": ".py",
   "mimetype": "text/x-python",
   "name": "python",
   "nbconvert_exporter": "python",
   "pygments_lexer": "ipython3",
   "version": "3.7.3"
  },
  "toc": {
   "base_numbering": 1,
   "nav_menu": {},
   "number_sections": true,
   "sideBar": false,
   "skip_h1_title": true,
   "title_cell": "Table of Contents",
   "title_sidebar": "Contents",
   "toc_cell": true,
   "toc_position": {},
   "toc_section_display": true,
   "toc_window_display": false
  }
 },
 "nbformat": 4,
 "nbformat_minor": 1
}
