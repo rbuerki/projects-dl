{
 "cells": [
  {
   "cell_type": "markdown",
   "metadata": {},
   "source": [
    "# EDA\n",
    "\n",
    "In this notebook the raw text data is cleaned and word embeddings are generated with an LSTM. (Note: The vocab / training data seems to be much too small to learn meaningfull embeddings from, but we'll do it anyway for the sake of learning.)\n",
    "\n",
    "**Data Sources:**\n",
    "\n",
    "- `data/raw/train.csv`: labelled data for approx. 7'600 tweets\n",
    "- `data/raw/test.csv`: test data for approx. 3'400 tweets\n",
    "\n",
    "**Data Output:**\n",
    "\n",
    "- `vocab_to_int`, `int_to_vocab`, `vocab_list`, `tweets_train`: pre-processed training data\n",
    "- `embeddings.pkl`: learned embeddings, tensor (to use as embedding layer in classification LSTM)\n",
    "\n",
    "**Changes**\n",
    "\n",
    "- 2020-01-07: Start notebook, complete preprocessing\n",
    "- 2020-01-08: Complete notebook, store embeddings\n",
    "- 2020-01-10: Add saving of pre-processed training data objects\n",
    "\n",
    "___\n",
    "\n",
    "_**Open Questions / Things to check out for the future:**_\n",
    "- Import pre-trained embedding (FastText, GloVe), see this [MLM post](https://machinelearningmastery.com/develop-word-embeddings-python-gensim/) and the appendix\n",
    "- Preprocessing with removal of stop-words and / or punctuation"
   ]
  },
  {
   "cell_type": "markdown",
   "metadata": {
    "toc": true
   },
   "source": [
    "<h1>Table of Contents<span class=\"tocSkip\"></span></h1>\n",
    "<div class=\"toc\"><ul class=\"toc-item\"><li><span><a href=\"#Import-libraries,-load-data\" data-toc-modified-id=\"Import-libraries,-load-data-1\"><span class=\"toc-item-num\">1&nbsp;&nbsp;</span>Import libraries, load data</a></span></li><li><span><a href=\"#Preprocess-text\" data-toc-modified-id=\"Preprocess-text-2\"><span class=\"toc-item-num\">2&nbsp;&nbsp;</span>Preprocess text</a></span><ul class=\"toc-item\"><li><span><a href=\"#Clean\" data-toc-modified-id=\"Clean-2.1\"><span class=\"toc-item-num\">2.1&nbsp;&nbsp;</span>Clean</a></span></li><li><span><a href=\"#Encode\" data-toc-modified-id=\"Encode-2.2\"><span class=\"toc-item-num\">2.2&nbsp;&nbsp;</span>Encode</a></span></li><li><span><a href=\"#Subsample\" data-toc-modified-id=\"Subsample-2.3\"><span class=\"toc-item-num\">2.3&nbsp;&nbsp;</span>Subsample</a></span></li><li><span><a href=\"#Create-batches¶\" data-toc-modified-id=\"Create-batches¶-2.4\"><span class=\"toc-item-num\">2.4&nbsp;&nbsp;</span>Create batches¶</a></span></li></ul></li><li><span><a href=\"#Build-NN-for-Word2Vec-Embedding\" data-toc-modified-id=\"Build-NN-for-Word2Vec-Embedding-3\"><span class=\"toc-item-num\">3&nbsp;&nbsp;</span>Build NN for Word2Vec Embedding</a></span><ul class=\"toc-item\"><li><span><a href=\"#Define-Model-Architecture-and-Loss-Function\" data-toc-modified-id=\"Define-Model-Architecture-and-Loss-Function-3.1\"><span class=\"toc-item-num\">3.1&nbsp;&nbsp;</span>Define Model Architecture and Loss Function</a></span></li><li><span><a href=\"#Define-validation-function\" data-toc-modified-id=\"Define-validation-function-3.2\"><span class=\"toc-item-num\">3.2&nbsp;&nbsp;</span>Define validation function</a></span></li></ul></li><li><span><a href=\"#Train-NN\" data-toc-modified-id=\"Train-NN-4\"><span class=\"toc-item-num\">4&nbsp;&nbsp;</span>Train NN</a></span><ul class=\"toc-item\"><li><span><a href=\"#Save-/-Re-Load-Model\" data-toc-modified-id=\"Save-/-Re-Load-Model-4.1\"><span class=\"toc-item-num\">4.1&nbsp;&nbsp;</span>Save / Re-Load Model</a></span></li></ul></li><li><span><a href=\"#Use-Embeddings\" data-toc-modified-id=\"Use-Embeddings-5\"><span class=\"toc-item-num\">5&nbsp;&nbsp;</span>Use Embeddings</a></span></li><li><span><a href=\"#Appendix:-Using-a-pre-trained-Embedding\" data-toc-modified-id=\"Appendix:-Using-a-pre-trained-Embedding-6\"><span class=\"toc-item-num\">6&nbsp;&nbsp;</span>Appendix: Using a pre-trained Embedding</a></span><ul class=\"toc-item\"><li><span><a href=\"#Embedding-Coverage\" data-toc-modified-id=\"Embedding-Coverage-6.1\"><span class=\"toc-item-num\">6.1&nbsp;&nbsp;</span>Embedding Coverage</a></span></li><li><span><a href=\"#Text-Cleaning-(Not-Finished)\" data-toc-modified-id=\"Text-Cleaning-(Not-Finished)-6.2\"><span class=\"toc-item-num\">6.2&nbsp;&nbsp;</span>Text Cleaning (Not Finished)</a></span></li></ul></li></ul></div>"
   ]
  },
  {
   "cell_type": "markdown",
   "metadata": {},
   "source": [
    "## Import libraries, load data"
   ]
  },
  {
   "cell_type": "code",
   "execution_count": 1,
   "metadata": {
    "ExecuteTime": {
     "end_time": "2020-01-10T08:23:23.289872Z",
     "start_time": "2020-01-10T08:23:12.136338Z"
    }
   },
   "outputs": [],
   "source": [
    "from collections import Counter\n",
    "from string import punctuation\n",
    "from random import sample, random\n",
    "import pickle\n",
    "\n",
    "import numpy as np\n",
    "import pandas as pd\n",
    "\n",
    "import torch\n",
    "from torch import nn\n",
    "import torch.optim as optim\n",
    "\n",
    "from sklearn.manifold import TSNE\n",
    "\n",
    "# Visualization\n",
    "%matplotlib inline\n",
    "import matplotlib.pyplot as plt\n",
    "import seaborn as sns \n",
    "sns.set_style('whitegrid')\n",
    "col1, col2 = 'rebeccapurple', 'yellow'\n",
    "\n",
    "# Display settings\n",
    "from IPython.display import display\n",
    "pd.options.display.max_columns = 100"
   ]
  },
  {
   "cell_type": "code",
   "execution_count": 2,
   "metadata": {
    "ExecuteTime": {
     "end_time": "2020-01-10T08:23:23.420018Z",
     "start_time": "2020-01-10T08:23:23.289872Z"
    },
    "_cell_guid": "79c7e3d0-c299-4dcb-8224-4455121ee9b0",
    "_uuid": "d629ff2d2480ee46fbb7e2d37f6b5fab8052498a"
   },
   "outputs": [
    {
     "name": "stdout",
     "output_type": "stream",
     "text": [
      "Training Set Shape = (7613, 5)\n",
      "Training Set Memory Usage = 0.20 MB\n",
      "Test Set Shape = (3263, 4)\n",
      "Test Set Memory Usage = 0.08 MB\n"
     ]
    }
   ],
   "source": [
    "df_train = pd.read_csv('data/raw/train.csv', dtype={'id': np.int16, 'target': np.int8})\n",
    "df_test = pd.read_csv('data/raw/test.csv', dtype={'id': np.int16})\n",
    "\n",
    "print(f'Training Set Shape = {df_train.shape}')\n",
    "print(f'Training Set Memory Usage = {df_train.memory_usage().sum() / 1024**2:.2f} MB')\n",
    "print(f'Test Set Shape = {df_test.shape}')\n",
    "print(f'Test Set Memory Usage = {df_test.memory_usage().sum() / 1024**2:.2f} MB')"
   ]
  },
  {
   "cell_type": "code",
   "execution_count": 3,
   "metadata": {
    "ExecuteTime": {
     "end_time": "2020-01-10T08:23:23.452055Z",
     "start_time": "2020-01-10T08:23:23.420018Z"
    }
   },
   "outputs": [
    {
     "data": {
      "text/html": [
       "<div>\n",
       "<style scoped>\n",
       "    .dataframe tbody tr th:only-of-type {\n",
       "        vertical-align: middle;\n",
       "    }\n",
       "\n",
       "    .dataframe tbody tr th {\n",
       "        vertical-align: top;\n",
       "    }\n",
       "\n",
       "    .dataframe thead th {\n",
       "        text-align: right;\n",
       "    }\n",
       "</style>\n",
       "<table border=\"1\" class=\"dataframe\">\n",
       "  <thead>\n",
       "    <tr style=\"text-align: right;\">\n",
       "      <th></th>\n",
       "      <th>id</th>\n",
       "      <th>keyword</th>\n",
       "      <th>location</th>\n",
       "      <th>text</th>\n",
       "      <th>target</th>\n",
       "    </tr>\n",
       "  </thead>\n",
       "  <tbody>\n",
       "    <tr>\n",
       "      <th>0</th>\n",
       "      <td>1</td>\n",
       "      <td>NaN</td>\n",
       "      <td>NaN</td>\n",
       "      <td>Our Deeds are the Reason of this #earthquake M...</td>\n",
       "      <td>1</td>\n",
       "    </tr>\n",
       "    <tr>\n",
       "      <th>1</th>\n",
       "      <td>4</td>\n",
       "      <td>NaN</td>\n",
       "      <td>NaN</td>\n",
       "      <td>Forest fire near La Ronge Sask. Canada</td>\n",
       "      <td>1</td>\n",
       "    </tr>\n",
       "  </tbody>\n",
       "</table>\n",
       "</div>"
      ],
      "text/plain": [
       "   id keyword location                                               text  \\\n",
       "0   1     NaN      NaN  Our Deeds are the Reason of this #earthquake M...   \n",
       "1   4     NaN      NaN             Forest fire near La Ronge Sask. Canada   \n",
       "\n",
       "   target  \n",
       "0       1  \n",
       "1       1  "
      ]
     },
     "metadata": {},
     "output_type": "display_data"
    },
    {
     "data": {
      "text/html": [
       "<div>\n",
       "<style scoped>\n",
       "    .dataframe tbody tr th:only-of-type {\n",
       "        vertical-align: middle;\n",
       "    }\n",
       "\n",
       "    .dataframe tbody tr th {\n",
       "        vertical-align: top;\n",
       "    }\n",
       "\n",
       "    .dataframe thead th {\n",
       "        text-align: right;\n",
       "    }\n",
       "</style>\n",
       "<table border=\"1\" class=\"dataframe\">\n",
       "  <thead>\n",
       "    <tr style=\"text-align: right;\">\n",
       "      <th></th>\n",
       "      <th>id</th>\n",
       "      <th>keyword</th>\n",
       "      <th>location</th>\n",
       "      <th>text</th>\n",
       "    </tr>\n",
       "  </thead>\n",
       "  <tbody>\n",
       "    <tr>\n",
       "      <th>0</th>\n",
       "      <td>0</td>\n",
       "      <td>NaN</td>\n",
       "      <td>NaN</td>\n",
       "      <td>Just happened a terrible car crash</td>\n",
       "    </tr>\n",
       "    <tr>\n",
       "      <th>1</th>\n",
       "      <td>2</td>\n",
       "      <td>NaN</td>\n",
       "      <td>NaN</td>\n",
       "      <td>Heard about #earthquake is different cities, s...</td>\n",
       "    </tr>\n",
       "  </tbody>\n",
       "</table>\n",
       "</div>"
      ],
      "text/plain": [
       "   id keyword location                                               text\n",
       "0   0     NaN      NaN                 Just happened a terrible car crash\n",
       "1   2     NaN      NaN  Heard about #earthquake is different cities, s..."
      ]
     },
     "metadata": {},
     "output_type": "display_data"
    }
   ],
   "source": [
    "display(df_train.head(2))\n",
    "display(df_test.head(2))"
   ]
  },
  {
   "cell_type": "markdown",
   "metadata": {},
   "source": [
    "## Preprocess text"
   ]
  },
  {
   "cell_type": "markdown",
   "metadata": {
    "ExecuteTime": {
     "end_time": "2020-01-07T15:39:12.605913Z",
     "start_time": "2020-01-07T15:39:12.565971Z"
    }
   },
   "source": [
    "### Clean"
   ]
  },
  {
   "cell_type": "code",
   "execution_count": 4,
   "metadata": {
    "ExecuteTime": {
     "end_time": "2020-01-10T08:23:23.464019Z",
     "start_time": "2020-01-10T08:23:23.452055Z"
    }
   },
   "outputs": [],
   "source": [
    "# Define cleaning function\n",
    "\n",
    "def clean_text(text_list, trim_threshold=5):\n",
    "    \"\"\"Clean the input text (replace punctuation, remove unfrequent words) \n",
    "    Return cleaned text as list of tweets and as one large string.\n",
    "    \n",
    "    Arguments:\n",
    "    ----------\n",
    "    - text_list: iterable of strings\n",
    "    - trim_threshold: int, all words with <= this frequency will be removed\n",
    "    \n",
    "    Returns:\n",
    "    --------\n",
    "    - text_complete: str, cleaned text \n",
    "    - text_list: list of strings, cleaned text split into individual tweets\n",
    "    \"\"\"\n",
    "    \n",
    "    # Concatenate tweets into one large string for further cleaning\n",
    "    text = \"\"\n",
    "    for item in text_list:\n",
    "        text = text + item + \" || \"\n",
    "    \n",
    "    # Replace punctuation with tokens so we can use them in our model\n",
    "    text = text.lower()\n",
    "    text = text.replace('.', ' <PERIOD> ')  \n",
    "    text = text.replace(',', ' <COMMA> ')\n",
    "    text = text.replace('\"', ' <QUOTATION_Double> ')\n",
    "    text = text.replace(\"'\", ' <QUOTATION> ')\n",
    "    text = text.replace(';', ' <SEMICOLON> ')\n",
    "    text = text.replace('!', ' <EXCLAMATION_MARK> ')\n",
    "    text = text.replace('?', ' <QUESTION_MARK> ')\n",
    "    text = text.replace('(', ' <LEFT_PAREN> ')\n",
    "    text = text.replace(')', ' <RIGHT_PAREN> ')\n",
    "    text = text.replace('--', ' <HYPHENS> ')\n",
    "    text = text.replace('?', ' <QUESTION_MARK> ')\n",
    "#     text = text.replace('\\n', ' <NEW_LINE> ')  # watch whitespaces\n",
    "    text = text.replace(':', ' <COLON> ')\n",
    "    text = text.replace('#', ' <HASHTAG> ')\n",
    "    text = text.replace('@', ' <MENTION> ')\n",
    "    \n",
    "      \n",
    "    # Remove all words with x or fewer occurences\n",
    "    words_all = text.split(\" \")\n",
    "    word_counts = Counter(words_all)\n",
    "    words_trimmed = [word for word in words_all if word_counts[word] > trim_threshold]\n",
    "    text_trimmed = ' '.join([word for word in words_trimmed])\n",
    "\n",
    "    # Split by new lines, reassemble \n",
    "    text_list = text_trimmed.split(' || ')[:-1] # last item is empty\n",
    "    text_complete = ' '.join(text_list)  \n",
    "\n",
    "    return text_complete, text_list"
   ]
  },
  {
   "cell_type": "code",
   "execution_count": 5,
   "metadata": {
    "ExecuteTime": {
     "end_time": "2020-01-10T08:23:23.770838Z",
     "start_time": "2020-01-10T08:23:23.464019Z"
    }
   },
   "outputs": [
    {
     "name": "stdout",
     "output_type": "stream",
     "text": [
      "Number of tweets: 7613\n",
      "Number of unique words in text_complete: 3489\n"
     ]
    }
   ],
   "source": [
    "text_complete, tweets_train = clean_text(df_train['text'], 3)\n",
    "\n",
    "vocab_list = list(set(text_complete.split()))\n",
    "print(f\"Number of tweets: {len(tweets_train)}\")\n",
    "print(f\"Number of unique words in text_complete: {len(vocab_list)}\")"
   ]
  },
  {
   "cell_type": "markdown",
   "metadata": {},
   "source": [
    "### Encode\n",
    "Create 2 dicts mapping words in vocabulary to integers and vice-versa.\n",
    "-  sure that most frequent words get lowest int representation\n",
    "-  Leave pos [0] for padding (see next section)"
   ]
  },
  {
   "cell_type": "code",
   "execution_count": 6,
   "metadata": {
    "ExecuteTime": {
     "end_time": "2020-01-10T08:23:23.786835Z",
     "start_time": "2020-01-10T08:23:23.774840Z"
    }
   },
   "outputs": [],
   "source": [
    "def encode_text(text, start_pos=0):\n",
    "    \"\"\"Encode words to integers (and vice versa), so that most frequent words\n",
    "    get lowest int representations. Return two mapping dictionaries.\n",
    "    \n",
    "    Arguments:\n",
    "    ----------\n",
    "    - text: string, input text with words delimited by whitespaces\n",
    "    - start_pos: int, value for first integer representation (default=0)\n",
    "    \n",
    "    Returns:\n",
    "    --------\n",
    "    - vocab_to_int: dict, mapping of words to ints (most frequent comes first)\n",
    "    - int_to_vocab: dict, mapping of ints to words\n",
    "    \"\"\"\n",
    "\n",
    "    word_count_dict = Counter(text.split())\n",
    "    vocab = sorted(word_count_dict, key=word_count_dict.get, reverse=True)\n",
    "    vocab_to_int = {word: i for i, word in enumerate(vocab, start_pos)}\n",
    "    int_to_vocab = {i: word for i, word in enumerate(vocab, start_pos)}\n",
    "\n",
    "    return vocab_to_int, int_to_vocab"
   ]
  },
  {
   "cell_type": "code",
   "execution_count": 7,
   "metadata": {
    "ExecuteTime": {
     "end_time": "2020-01-10T08:23:23.850995Z",
     "start_time": "2020-01-10T08:23:23.786835Z"
    }
   },
   "outputs": [],
   "source": [
    "vocab_to_int, int_to_vocab = encode_text(text_complete, start_pos=1)  # start with 1 for padding"
   ]
  },
  {
   "cell_type": "code",
   "execution_count": 8,
   "metadata": {
    "ExecuteTime": {
     "end_time": "2020-01-10T08:23:23.898949Z",
     "start_time": "2020-01-10T08:23:23.850995Z"
    }
   },
   "outputs": [
    {
     "name": "stdout",
     "output_type": "stream",
     "text": [
      "Unique words:  3489\n",
      "[('<PERIOD>', 1), ('<COLON>', 2), ('//t', 3), ('http', 4), ('<HASHTAG>', 5), ('the', 6), ('<QUOTATION>', 7)]\n",
      "[(1, '<PERIOD>'), (2, '<COLON>'), (3, '//t'), (4, 'http'), (5, '<HASHTAG>'), (6, 'the'), (7, '<QUOTATION>')]\n"
     ]
    }
   ],
   "source": [
    "# Check results\n",
    "print('Unique words: ', len((vocab_to_int)))\n",
    "assert len(vocab_to_int) == len(vocab_list)\n",
    "print(list(vocab_to_int.items())[:7])\n",
    "print(list(int_to_vocab.items())[:7])"
   ]
  },
  {
   "cell_type": "markdown",
   "metadata": {},
   "source": [
    "We now have to insert an own representation for the padding that we will introduce later."
   ]
  },
  {
   "cell_type": "code",
   "execution_count": 9,
   "metadata": {
    "ExecuteTime": {
     "end_time": "2020-01-10T08:23:23.914947Z",
     "start_time": "2020-01-10T08:23:23.898949Z"
    }
   },
   "outputs": [
    {
     "name": "stdout",
     "output_type": "stream",
     "text": [
      "[('||', 3489), ('<PAD>', 0)]\n",
      "[(3489, '||'), (0, '<PAD>')]\n"
     ]
    }
   ],
   "source": [
    "# Add padding representation\n",
    "\n",
    "vocab_list.append('<PAD>')\n",
    "vocab_to_int['<PAD>'] = 0\n",
    "int_to_vocab[0] = '<PAD>'\n",
    "\n",
    "assert len(vocab_list) == 3490\n",
    "print(list(vocab_to_int.items())[-2:])\n",
    "print(list(int_to_vocab.items())[-2:])"
   ]
  },
  {
   "cell_type": "code",
   "execution_count": 17,
   "metadata": {
    "ExecuteTime": {
     "end_time": "2020-01-10T08:27:48.728132Z",
     "start_time": "2020-01-10T08:27:48.696892Z"
    }
   },
   "outputs": [
    {
     "name": "stdout",
     "output_type": "stream",
     "text": [
      "saved to disc:vocab_to_int\n",
      "saved to disc:int_to_vocab\n",
      "saved to disc:vocab_list\n",
      "saved to disc:tweets_train\n"
     ]
    }
   ],
   "source": [
    "# Save objects for re-use in next notebook\n",
    "\n",
    "def save_obj(obj, name ):\n",
    "    with open('data/processed/' + name + '.pkl', 'wb') as f:\n",
    "        pickle.dump(obj, f, pickle.HIGHEST_PROTOCOL)\n",
    "\n",
    "objects_to_store = {\"vocab_to_int\": vocab_to_int,\n",
    "                    \"int_to_vocab\": int_to_vocab,\n",
    "                    \"vocab_list\": vocab_list,\n",
    "                    \"tweets_train\": tweets_train,\n",
    "                   }\n",
    "        \n",
    "for name, obj in objects_to_store.items():\n",
    "    save_obj(obj, name)\n",
    "    print(\"saved to disc:\" + name)"
   ]
  },
  {
   "cell_type": "markdown",
   "metadata": {},
   "source": [
    "### Subsample\n",
    "Discard some high-frequent words from our data and in return get faster training and better representations (noise reduction). (According to [Neural Information Processing Systems, paper](http://papers.nips.cc/paper/5021-distributed-representations-of-words-and-phrases-and-their-compositionality.pdf), Mikolov et al.)\n",
    "\n"
   ]
  },
  {
   "cell_type": "code",
   "execution_count": 10,
   "metadata": {
    "ExecuteTime": {
     "end_time": "2020-01-08T20:36:50.689715Z",
     "start_time": "2020-01-08T20:36:50.659592Z"
    }
   },
   "outputs": [],
   "source": [
    "def subsample(text, vocab_to_int, threshold=1e-5):\n",
    "    \"\"\"Discard some frequent words, according to the subsampling equation.\n",
    "    Return a new (reduced) list of words for training. \n",
    "    \n",
    "    Arguments:\n",
    "    ----------\n",
    "    - text: string, dict, mapping of words to ints (most frequent come first)\n",
    "    - vocab_to_int: int, value for first integer representation (default=0)\n",
    "    - threshold: float, threshold for 'random discarding' a word (default=1e-5)\n",
    "    \n",
    "    Returns:\n",
    "    --------\n",
    "    - words_train: list, subsampled text represented in ints instead of words\n",
    "    \"\"\" \n",
    "    \n",
    "    # Encode the whole text into a list of ints using a mapping dict\n",
    "    int_words = [vocab_to_int[word] for word in text.split()]\n",
    "    # Create dictionary of int_words, showing their frequencies\n",
    "    word_counts = Counter(int_words)  \n",
    "    \n",
    "    total_count = len(int_words)\n",
    "    freqs = {word: count / total_count for word, count in word_counts.items()}\n",
    "    p_drop = {word: 1 - np.sqrt(threshold / freqs[word]) for word in word_counts}\n",
    "\n",
    "    words_train = [word for word in int_words if random() < (1 - p_drop[word])]\n",
    "    \n",
    "    return words_train"
   ]
  },
  {
   "cell_type": "code",
   "execution_count": 11,
   "metadata": {
    "ExecuteTime": {
     "end_time": "2020-01-08T20:36:50.919932Z",
     "start_time": "2020-01-08T20:36:50.691740Z"
    }
   },
   "outputs": [],
   "source": [
    "words_train = subsample(text_complete, vocab_to_int)"
   ]
  },
  {
   "cell_type": "code",
   "execution_count": 12,
   "metadata": {
    "ExecuteTime": {
     "end_time": "2020-01-08T20:36:50.970607Z",
     "start_time": "2020-01-08T20:36:50.922484Z"
    }
   },
   "outputs": [
    {
     "name": "stdout",
     "output_type": "stream",
     "text": [
      "Length train text: 16450\n",
      "Length initial text: 134102\n",
      "[1589, 812, 1716, 1590, 2108, 1717, 1375, 1086, 41, 274]\n"
     ]
    }
   ],
   "source": [
    "# Check results\n",
    "print(\"Length train text:\", len(words_train))\n",
    "print(\"Length initial text:\", len(text_complete.split()))\n",
    "print(words_train[:10])"
   ]
  },
  {
   "cell_type": "markdown",
   "metadata": {},
   "source": [
    "### Create batches¶ \n",
    "\"Since the more distant words are usually less related to the current word than those close to it, we give less weight to the distant words by sampling less from those words in our training examples... If we choose , for each training word we will select randomly a number  in range , and then use  words from history and  words from the future of the current word as correct labels.\"\n",
    "(According to original [Word2Vec paper](https://arxiv.org/pdf/1301.3781.pdf) from Mikolov et al.)"
   ]
  },
  {
   "cell_type": "code",
   "execution_count": 13,
   "metadata": {
    "ExecuteTime": {
     "end_time": "2020-01-08T20:36:50.989859Z",
     "start_time": "2020-01-08T20:36:50.972642Z"
    }
   },
   "outputs": [],
   "source": [
    "# This function will be called within the next function\n",
    "\n",
    "def get_target(words, idx, window_size=5):\n",
    "    \"\"\" Get a random-length list of target words (ints) in a window around \n",
    "    an input index (the input word).\n",
    "    \n",
    "    Arguments:\n",
    "    ----------\n",
    "    - words: list, text represented as list of words / ints\n",
    "    - idx: int, the index of the input word in words\n",
    "    - window_size: max window to and from idx to get target words\n",
    "    \n",
    "    Returns:\n",
    "    --------\n",
    "    - target: list, of words near the idx, the 'label' four our input\n",
    "    \n",
    "    \"\"\"\n",
    "    \n",
    "    R = np.random.randint(1, window_size+1)\n",
    "    min_val = np.max([idx-R, 0])  # make sure no neg index occurs, not necessary for values at end\n",
    "    target = words[min_val : idx] + words[idx+1 : idx+R+1]\n",
    "    \n",
    "    return target"
   ]
  },
  {
   "cell_type": "code",
   "execution_count": 14,
   "metadata": {
    "ExecuteTime": {
     "end_time": "2020-01-08T20:36:51.009613Z",
     "start_time": "2020-01-08T20:36:50.992940Z"
    }
   },
   "outputs": [],
   "source": [
    "def get_batches(words, batch_size, window_size=5):\n",
    "    \"\"\"Create a generator of word batches as a tuple (inputs, targets). It\n",
    "    grabs `batch_size` words from a words list. Then for each of those \n",
    "    batches, it gets the target words in a window.\n",
    "    \n",
    "    Arguments:\n",
    "    ----------\n",
    "    - words: list, text represented as list of words / ints\n",
    "    - batch size: int, number of inputs to form one batch\n",
    "    - window_size: max window to and from idx to get target words\n",
    "    \n",
    "    Returns:\n",
    "    --------\n",
    "    - x, y: lists, inputs und corresponding labels for one batch at a time\n",
    "    \n",
    "    \"\"\"\n",
    "    \n",
    "    n_batches = len(words)//batch_size\n",
    "    \n",
    "    # only full batches\n",
    "    words = words[:n_batches*batch_size]\n",
    "    \n",
    "    for idx in range(0, len(words), batch_size):\n",
    "        x, y = [], []\n",
    "        batch = words[idx : idx+batch_size]\n",
    "        for ii in range(len(batch)):\n",
    "            batch_x = batch[ii]\n",
    "            batch_y = get_target(batch, ii, window_size)\n",
    "            y.extend(batch_y)  # each batch x and y will be one row of values\n",
    "            x.extend([batch_x]*len(batch_y))\n",
    "        yield x, y"
   ]
  },
  {
   "cell_type": "code",
   "execution_count": 15,
   "metadata": {
    "ExecuteTime": {
     "end_time": "2020-01-08T20:36:51.029857Z",
     "start_time": "2020-01-08T20:36:51.011138Z"
    }
   },
   "outputs": [
    {
     "name": "stdout",
     "output_type": "stream",
     "text": [
      "x\n",
      " ['A', 'A', 'A', 'B', 'B', 'B', 'C', 'C', 'C', 'D', 'D']\n",
      "y\n",
      " ['B', 'C', 'D', 'A', 'C', 'D', 'A', 'B', 'D', 'B', 'C']\n"
     ]
    }
   ],
   "source": [
    "# Check results\n",
    "test_text = ['A', 'B', 'C', 'D', 'E', 'F', 'G']\n",
    "x, y = next(get_batches(test_text, batch_size=4, window_size=5))\n",
    "\n",
    "print('x\\n', x)\n",
    "print('y\\n', y)"
   ]
  },
  {
   "cell_type": "markdown",
   "metadata": {},
   "source": [
    "## Build NN for Word2Vec Embedding\n",
    "\n",
    "### Define Model Architecture and Loss Function"
   ]
  },
  {
   "cell_type": "code",
   "execution_count": 16,
   "metadata": {
    "ExecuteTime": {
     "end_time": "2020-01-08T20:36:51.064514Z",
     "start_time": "2020-01-08T20:36:51.031884Z"
    }
   },
   "outputs": [],
   "source": [
    "class SkipGramNeg(nn.Module):\n",
    "    def __init__(self, n_vocab, n_embed, noise_dist=None):\n",
    "        super().__init__()\n",
    "        \n",
    "        self.n_vocab = n_vocab\n",
    "        self.n_embed = n_embed\n",
    "        self.noise_dist = noise_dist\n",
    "        \n",
    "        # Define embedding layers for input and output words\n",
    "        self.in_embed = nn.Embedding(n_vocab, n_embed)\n",
    "        self.out_embed = nn.Embedding(n_vocab, n_embed)\n",
    "        \n",
    "        # Initialize both embedding tables with uniform distribution\n",
    "        # (this may help with convergence)\n",
    "        self.in_embed.weight.data.uniform_(-1, 1)\n",
    "        self.out_embed.weight.data.uniform_(-1, 1)\n",
    "        \n",
    "    def forward_input(self, input_words):\n",
    "        input_vectors = self.in_embed(input_words)\n",
    "        return input_vectors\n",
    "    \n",
    "    def forward_output(self, output_words):\n",
    "        output_vectors = self.out_embed(output_words)\n",
    "        return output_vectors\n",
    "    \n",
    "    def forward_noise(self, batch_size, n_samples):\n",
    "        \"\"\" Generate noise vectors with shape (batch_size, n_samples, n_embed)\"\"\"\n",
    "        if self.noise_dist is None:\n",
    "            # Sample words uniformly\n",
    "            noise_dist = torch.ones(self.n_vocab)\n",
    "        else:\n",
    "            noise_dist = self.noise_dist\n",
    "            \n",
    "        # Sample words from our noise distribution\n",
    "        noise_words = torch.multinomial(noise_dist,\n",
    "                                        batch_size * n_samples,\n",
    "                                        replacement=True)\n",
    "        \n",
    "        device = \"cuda\" if self.out_embed.weight.is_cuda else \"cpu\"\n",
    "        noise_words = noise_words.to(device)\n",
    "        noise_vectors = self.out_embed(noise_words).view(batch_size, n_samples, self.n_embed)      \n",
    "        \n",
    "        return noise_vectors"
   ]
  },
  {
   "cell_type": "code",
   "execution_count": 17,
   "metadata": {
    "ExecuteTime": {
     "end_time": "2020-01-08T20:36:51.079670Z",
     "start_time": "2020-01-08T20:36:51.064514Z"
    }
   },
   "outputs": [],
   "source": [
    "class NegativeSamplingLoss(nn.Module):\n",
    "    def __init__(self):\n",
    "        super().__init__()\n",
    "\n",
    "    def forward(self, input_vectors, output_vectors, noise_vectors):\n",
    "        \n",
    "        batch_size, embed_size = input_vectors.shape\n",
    "        \n",
    "        # Input vectors should be a batch of column vectors\n",
    "        input_vectors = input_vectors.view(batch_size, embed_size, 1)\n",
    "        \n",
    "        # Output vectors should be a batch of row vectors\n",
    "        output_vectors = output_vectors.view(batch_size, 1, embed_size)\n",
    "        \n",
    "        # bmm = batch matrix multiplication\n",
    "        # Correct log-sigmoid loss\n",
    "        out_loss = torch.bmm(output_vectors, input_vectors).sigmoid().log()\n",
    "        out_loss = out_loss.squeeze()\n",
    "        \n",
    "        # Incorrect log-sigmoid loss\n",
    "        noise_loss = torch.bmm(noise_vectors.neg(), input_vectors).sigmoid().log()\n",
    "        noise_loss = noise_loss.squeeze().sum(1)  # sum the losses over the sample of noise vectors\n",
    "\n",
    "        # Negate and sum correct and noisy log-sigmoid losses\n",
    "        # Return average batch loss\n",
    "        return -(out_loss + noise_loss).mean()"
   ]
  },
  {
   "cell_type": "markdown",
   "metadata": {},
   "source": [
    "### Define validation function\n",
    "This function helps observing the model during training. It will print out the closest words to some input words using the _cosine similarity_. We will input a mix of a few common words and a few uncommon words.\n",
    "\n",
    "We can encode the validation words as vectors using the embedding table, then calculate the similarity with each word vector  in the embedding table. With the similarities, we can print out the validation words and words in our embedding table semantically similar to those words."
   ]
  },
  {
   "cell_type": "code",
   "execution_count": 18,
   "metadata": {
    "ExecuteTime": {
     "end_time": "2020-01-08T20:36:51.114919Z",
     "start_time": "2020-01-08T20:36:51.084688Z"
    }
   },
   "outputs": [],
   "source": [
    "def cosine_similarity(embedding, valid_size=16, valid_window=100, device='cpu'):\n",
    "    \"\"\" Returns the cosine similarity of validation words with words in the \n",
    "    embedding matrix.\n",
    "    \n",
    "    Arguments:\n",
    "    ----------\n",
    "    - embedding: a PyTorch embedding module\n",
    "    - ...    \n",
    "    \"\"\"\n",
    "    \n",
    "    # Calculate the cosine similarity between some random words and the embedding vectors. \n",
    "    # With the similarities, we can look at what words are close to our random words.\n",
    "    # sim = (a . b) / |a||b|\n",
    "    \n",
    "    embed_vectors = embedding.weight\n",
    "    \n",
    "    # Calculate magnitude of embedding vectors, |b|\n",
    "    magnitudes = embed_vectors.pow(2).sum(dim=1).sqrt().unsqueeze(0)\n",
    "    \n",
    "    # Pick N words from our ranges (0, window) and (1000, 1000+window). \n",
    "    # lower id implies more frequent words, higher id more uncommon words\n",
    "    valid_examples = np.array(sample(range(valid_window), valid_size//2))\n",
    "    valid_examples = np.append(valid_examples,\n",
    "                               sample(range(1000, 1000+valid_window), valid_size//2))\n",
    "    valid_examples = torch.LongTensor(valid_examples).to(device)\n",
    "    \n",
    "    valid_vectors = embedding(valid_examples)\n",
    "    similarities = torch.mm(valid_vectors, embed_vectors.t()) / magnitudes\n",
    "        \n",
    "    return valid_examples, similarities"
   ]
  },
  {
   "cell_type": "markdown",
   "metadata": {
    "ExecuteTime": {
     "end_time": "2020-01-07T16:10:03.728573Z",
     "start_time": "2020-01-07T16:10:03.712943Z"
    }
   },
   "source": [
    "## Train NN\n",
    "(Training on GPU recommended, if available.)"
   ]
  },
  {
   "cell_type": "code",
   "execution_count": 19,
   "metadata": {
    "ExecuteTime": {
     "end_time": "2020-01-08T20:36:51.134534Z",
     "start_time": "2020-01-08T20:36:51.114919Z"
    }
   },
   "outputs": [
    {
     "name": "stdout",
     "output_type": "stream",
     "text": [
      "No GPU found. Please use a GPU to train your neural network.\n"
     ]
    }
   ],
   "source": [
    "# Check for a GPU\n",
    "device = 'cuda' if torch.cuda.is_available() else 'cpu'\n",
    "if not torch.cuda.is_available():\n",
    "    print('No GPU found. Please use a GPU to train your neural network.')"
   ]
  },
  {
   "cell_type": "code",
   "execution_count": 20,
   "metadata": {
    "ExecuteTime": {
     "end_time": "2020-01-08T20:36:51.154628Z",
     "start_time": "2020-01-08T20:36:51.134534Z"
    }
   },
   "outputs": [],
   "source": [
    "def train_w2v(model, words, batch_size, optimizer, criterion, epochs, print_every=1500):\n",
    "    \"\"\"Train loop with forward and backward propagation, \"\"\"\n",
    "    \n",
    "    model.train()\n",
    "    steps = 0\n",
    "    for e in range(epochs):\n",
    "\n",
    "        # Get our input, target batches\n",
    "        for input_words, target_words in get_batches(words, batch_size):\n",
    "            steps += 1\n",
    "            inputs, targets = torch.LongTensor(input_words), \\\n",
    "                              torch.LongTensor(target_words)\n",
    "            inputs, targets = inputs.to(device), targets.to(device)\n",
    "\n",
    "            # input, outpt, and noise vectors\n",
    "            input_vectors = model.forward_input(inputs)\n",
    "            output_vectors = model.forward_output(targets)\n",
    "            noise_vectors = model.forward_noise(inputs.shape[0], 5)\n",
    "\n",
    "            # negative sampling loss\n",
    "            loss = criterion(input_vectors, output_vectors, noise_vectors)\n",
    "\n",
    "            optimizer.zero_grad()\n",
    "            loss.backward()\n",
    "            optimizer.step()\n",
    "\n",
    "            # loss stats\n",
    "            if steps % print_every == 0:\n",
    "                print(\"Epoch: {}/{}\".format(e + 1, epochs))\n",
    "                print(\"Loss: \", loss.item()) # avg batch loss at this point\n",
    "                valid_examples, valid_similarities = cosine_similarity(\n",
    "                        model.in_embed, device=device)\n",
    "                _, closest_idxs = valid_similarities.topk(6)\n",
    "\n",
    "                valid_examples, closest_idxs = valid_examples.to('cpu'), \\\n",
    "                                               closest_idxs.to('cpu')\n",
    "                for ii, valid_idx in enumerate(valid_examples):\n",
    "                    closest_words = [int_to_vocab[idx.item()] \\\n",
    "                                     for idx in closest_idxs[ii]][1:]\n",
    "                    print(int_to_vocab[valid_idx.item()] \\\n",
    "                          + \" | \" + ', '.join(closest_words))\n",
    "                print(\"...\\n\")\n",
    "    \n",
    "    # Return trained model\n",
    "    return model"
   ]
  },
  {
   "cell_type": "code",
   "execution_count": 21,
   "metadata": {
    "ExecuteTime": {
     "end_time": "2020-01-08T20:36:51.174708Z",
     "start_time": "2020-01-08T20:36:51.154628Z"
    }
   },
   "outputs": [],
   "source": [
    "# Get noise distribution\n",
    "\n",
    "# Calculate new freqs after subsampling - this was not done in orig Udacity project!\n",
    "word_counts = Counter(words_train)\n",
    "total_count = len(words_train)\n",
    "freqs = {word: count / total_count for word, count in word_counts.items()}\n",
    "word_freqs = np.array(sorted(freqs.values(), reverse=True))\n",
    "unigram_dist = word_freqs / word_freqs.sum()\n",
    "noise_dist = torch.from_numpy(unigram_dist**(0.75)/np.sum(unigram_dist**(0.75)))"
   ]
  },
  {
   "cell_type": "code",
   "execution_count": 22,
   "metadata": {
    "ExecuteTime": {
     "end_time": "2020-01-08T20:36:51.234883Z",
     "start_time": "2020-01-08T20:36:51.174708Z"
    }
   },
   "outputs": [],
   "source": [
    "# Set net parameters\n",
    "embedding_dim = 300\n",
    "\n",
    "# Instantiate model and move to GPU if available\n",
    "w2v_net = SkipGramNeg(len(vocab_to_int), embedding_dim, noise_dist=noise_dist)\n",
    "w2v_net.to(device)\n",
    "\n",
    "# Set training parameters\n",
    "print_every = 500\n",
    "batch_size = 64\n",
    "epochs = 20\n",
    "\n",
    "criterion = NegativeSamplingLoss() \n",
    "optimizer = optim.Adam(w2v_net.parameters(), lr=0.003)"
   ]
  },
  {
   "cell_type": "code",
   "execution_count": 23,
   "metadata": {
    "ExecuteTime": {
     "end_time": "2020-01-08T20:41:34.861004Z",
     "start_time": "2020-01-08T20:36:51.259776Z"
    }
   },
   "outputs": [
    {
     "name": "stdout",
     "output_type": "stream",
     "text": [
      "Epoch: 2/20\n",
      "Loss:  11.327407836914062\n",
      "over | galactic, sean, calgary, snap, salem\n",
      "with | host, fill, fav, days, picking\n",
      "in | apollo, huh, feat, yourself, social\n",
      "just | sadly, kisii, else, into, posts\n",
      "into | knock, brothers, just, effects, southern\n",
      "he | highway, hospital, tank, recovery, vintage\n",
      "like | calamity, streets, watching, icemoon, spot\n",
      "be | how, prompts, users, sort, desolation\n",
      "tree | truly, community, p, ice, fear\n",
      "former | minority, conditions, debate, sale, had\n",
      "lamp | miles, deluged, calif, theatre, photography\n",
      "early | vinyl, <MENTION>, whole, certainly, avoiding\n",
      "ain | your, worth, bin, aren, fucked\n",
      "scene | arrived, screaming, giving, emotionally, thunder\n",
      "wonder | checked, enemy, carryi, status, 05\n",
      "ancient | return, defense, arsenal, palestinian, harry\n",
      "...\n",
      "\n",
      "Epoch: 4/20\n",
      "Loss:  8.511411666870117\n",
      "with | fill, days, about, weapons, picking\n",
      "like | streets, icemoon, watching, meek, take\n",
      "you | turns, nice, change, nws, plot\n",
      "<COLON> | us, wanted, the, change, û_\n",
      "would | far, one, golf, total, degrees\n",
      "<MENTION> | time, will, early, threatens, enugu\n",
      "this | charles, ebola, care, <RIGHT_PAREN>, considering\n",
      "be | how, okay, feeling, users, sort\n",
      "landing | trial, sunset, jam, fuel, trent\n",
      "likely | 16yr, rt, from, won, delays\n",
      "reported | sinkhole, cannot, northern, mfs, civil\n",
      "sad | |, trapmusic, as, di, security\n",
      "bed | 36, failure, injuries, mass, hope\n",
      "parole | copycat, occasion, bath, budget, tension\n",
      "shows | mets, will, temporary, 5km, rn\n",
      "dog | silence, ûò, gems, breakingnews, simple\n",
      "...\n",
      "\n",
      "Epoch: 6/20\n",
      "Loss:  5.281523704528809\n",
      "now | we, rn, painting, bioterror, disaster\n",
      "will | listening, <MENTION>, rn, shows, team\n",
      "s | re, good, lol, its, report\n",
      "out | plans, good, had, painting, bit\n",
      "they | takes, size, everywhere, rising, omg\n",
      "who | arianagrande, triggered, injury, copycat, taken\n",
      "don | okanagan, realise, footage, co-founder, c-130\n",
      "from | prevent, arms, <QUOTATION>, 5km, than\n",
      "members | there, enough, specimens, send, second\n",
      "reported | sinkhole, cannot, northern, mfs, out\n",
      "bombs | george, southeast, mine, kombat, forest\n",
      "party | tempered, hazardous, burning, collide, child\n",
      "told | movie, issue, gone, lives, george\n",
      "pamela | nashville, an, steve, couple, nowplaying\n",
      "ave | voice, reporting, pic, bowl, failure\n",
      "colorado | department, why, gift, tampa, trent\n",
      "...\n",
      "\n",
      "Epoch: 8/20\n",
      "Loss:  3.0789859294891357\n",
      "this | forest, considering, care, fuck, ebola\n",
      "<MENTION> | threatens, early, time, will, self\n",
      "in | loss, apollo, huh, feat, seeing\n",
      "on | tonight, inundated, hand, government, collapsed\n",
      "news | leader, sean, hellfire, southeast, transport\n",
      "<PERIOD> | app, updates, sometimes, mall, wed\n",
      "are | sismo, all, mention, 29, people\n",
      "his | street, ramag, thats, months, areas\n",
      "reported | sinkhole, cannot, northern, doing, nasty\n",
      "parole | copycat, tension, bath, afghanistan, burns\n",
      "patience | calling, abc, loop, 30, bells\n",
      "outrage | magic, fr, ban, oh, &gt\n",
      "share | southampton, working, allows, inundated, hwo\n",
      "give | characters, words, buildings, nasa, floods\n",
      "risk | riots, replacing, û, 05, total\n",
      "likely | 16yr, won, rt, clouds, from\n",
      "...\n",
      "\n",
      "Epoch: 10/20\n",
      "Loss:  2.005500555038452\n",
      "to | details, n, loop, palestinian, broke\n",
      "don | okanagan, realise, footage, watching, gay\n",
      "disaster | absolutely, large, sensor-senso, captured, downtown\n",
      "who | arianagrande, triggered, nu, inundation, 16\n",
      "<SEMICOLON> | max, were, nc, tho, park\n",
      "it | france, veterans, handbag, gonna, coming\n",
      "like | watching, fear, meek, icemoon, djicemoon\n",
      "as | cover, relief, head, car, fashion\n",
      "started | detectado, worldnetdaily, kurtschlichter, exploded, pool\n",
      "nws | question, you, dependency, earthquake, plot\n",
      "biggest | shelter, christmas, flattened, shit, express\n",
      "soul | public, failure, hope, reno, crashes\n",
      "working | combined, share, survived, obliterated, spend\n",
      "gems | thursday, sit, know, canada, hawaii\n",
      "shots | getting, shower, 05, municipal, confirmed\n",
      "bombs | george, southeast, kombat, forest, mine\n",
      "...\n",
      "\n",
      "Epoch: 12/20\n",
      "Loss:  1.6636227369308472\n",
      "me | hair, fyi, memory, co/nnmqlz91o9, million\n",
      "a | have, alleged, rainstorm, and, diss\n",
      "about | fukushima, village, linkury, guys, sunset\n",
      "s | re, disco, guillermo, cruz, geller\n",
      "as | cover, head, relief, fashion, that\n",
      "what | technology, expert, strange, structures, 1/2\n",
      "i | worst, confirmed, sees, ap, green\n",
      "the | thomas, site, co/zujwuiomb3, exit, bad\n",
      "camp | traumatised, okwx, business, gov, terrorism\n",
      "shows | rn, amid, patience, colour, temporary\n",
      "lmao | canyon, malaysia, newyork, entire, survival\n",
      "shots | getting, 05, shower, municipal, signs\n",
      "madhya | 97/georgia, toward, flags, sky, starts\n",
      "soul | public, failure, reno, crashes, shit\n",
      "turned | yorker, suspect, diamondkesawn, 05, 29-07-2015\n",
      "wednesday | prophetmuhammad, old, code, aussie, sitting\n",
      "...\n",
      "\n",
      "Epoch: 14/20\n",
      "Loss:  1.3922038078308105\n",
      "me | hair, co/nnmqlz91o9, fyi, memory, warning\n",
      "or | ring, bc, fire, damaged, hopefully\n",
      "about | fukushima, village, sunset, palms, linkury\n",
      "- | nema, lights, 50, beginning, spain\n",
      "get | *, bees, demolished, late, hurts\n",
      "still | anything, aware, up, pun, 3\n",
      "how | 39, gang, suicide, ebola, typhoon-devastated\n",
      "the | thomas, exit, site, co/zujwuiomb3, kca\n",
      "holding | petition, shell, ridge, capture, saved\n",
      "subreddits | content, broadway, gov, majority, offroad\n",
      "york | project, reason, bb17, held, rare\n",
      "sounds | ring, alert, $2, options, five\n",
      "former | minority, va, own, responsibility, debate\n",
      "dies | then, trolley, wedding, pradesh, highway\n",
      "gems | thursday, hawaii, sit, fits, might\n",
      "potus | terrible, captain, explode, coffee, shows\n",
      "...\n",
      "\n",
      "Epoch: 16/20\n",
      "Loss:  1.2864878177642822\n",
      "as | cover, relief, head, massive, walking\n",
      "has | created, leather, worldnews, reû_, online\n",
      "<HASHTAG> | kenya, realise, sure, providence, times\n",
      "<LEFT_PAREN> | devastation, ambulance, concert, sees, kills\n",
      "<SEMICOLON> | max, lorries, park, big, leader\n",
      "for | amazon, break, ground, mill, heading\n",
      "your | //, sure, lack, but, his\n",
      "s | cruz, disco, re, guillermo, geller\n",
      "[black | funtenna, 2015], hot, idp, 6\n",
      "middle | mama, true, demolish, responsibility, damaged\n",
      "nigerian | trauma, reporting, militants, correction, declaration\n",
      "dies | then, wedding, option, highway, trolley\n",
      "rules | open, cancel, ablaze, blows, 1000\n",
      "lmao | canyon, malaysia, newyork, survival, forgotten\n",
      "ave | dollar, hole, reporting, including, bowl\n",
      "expected | air, id, night, wonder, kerricktrial\n",
      "...\n",
      "\n",
      "Epoch: 18/20\n",
      "Loss:  1.009706974029541\n",
      "https | side, clouds, concern, broke, denver\n",
      "with | saved, waving, naved, weapons, monsoon\n",
      "up | tampa, collapse, roosevelt, confirmed, still\n",
      "so | returned, plaguing, forced, now, many\n",
      "video | japanese, injury, ûïwhen, specimens, ill\n",
      "this | structural, fuck, care, excited, tropical\n",
      "of | turn, nobody, leave, individuals, prebreak\n",
      "there | members, arianagrande, tram, motor, blazing\n",
      "outrage | magic, famine, ban, memory, fr\n",
      "wonder | carryi, expected, would, 05, 300w\n",
      "= | yall, 43, roll, bluejays, young\n",
      "upon | enjoy, injured, near, roof, co/wvj39a3bgm\n",
      "soul | public, failure, crashes, shit, turn\n",
      "pradesh | [aftershock], fly, dat, use, youth\n",
      "colorado | advance, strategy, debate, gift, why\n",
      "landing | trial, info, sir, sunset, eating\n",
      "...\n",
      "\n",
      "Epoch: 20/20\n",
      "Loss:  1.0282273292541504\n",
      "what | technology, strange, expert, wedding, will\n",
      "his | months, ramag, fantasy, terrorists, viralspell\n",
      "<QUOTATION> | estimate, these, truth, loved, source\n",
      "<RIGHT_PAREN> | detonation, minutes, restore, enemy, breakingnews\n",
      "<EXCLAMATION_MARK> | hunt, /, department, phoenix, xd\n",
      "out | bit, good, models, colour, plans\n",
      "up | tampa, collapse, roosevelt, lord, confirmed\n",
      "more | losing, wars, church, social, between\n",
      "sounds | ring, $2, alert, likely, five\n",
      "tree | photos, truly, da, reû_, fear\n",
      "dad | park, current, severe, visit, communities\n",
      "bayelsa | charging, claim, patience, wht, looks\n",
      "series | pbban, touch, nytimes, xd, posts\n",
      "started | detectado, prepared, kurtschlichter, family, 15\n",
      "nagasaki | legacy, footage, mood, learning, catastrophic\n",
      "led | 4x4, cheese, cree, 2pcs, û_\n",
      "...\n",
      "\n"
     ]
    }
   ],
   "source": [
    "# Train model\n",
    "trained_w2v_net = train_w2v(w2v_net, words_train, batch_size, \n",
    "                            optimizer, criterion, epochs, print_every)"
   ]
  },
  {
   "cell_type": "markdown",
   "metadata": {},
   "source": [
    "**Observation:** Altough the loss decreases nicely the similarities don't give too much sense, probably due to the very limited size of the training set / vocabulary."
   ]
  },
  {
   "cell_type": "markdown",
   "metadata": {
    "ExecuteTime": {
     "end_time": "2020-01-07T20:18:16.194821Z",
     "start_time": "2020-01-07T20:18:16.187612Z"
    }
   },
   "source": [
    "### Save / Re-Load Model"
   ]
  },
  {
   "cell_type": "code",
   "execution_count": 24,
   "metadata": {
    "ExecuteTime": {
     "end_time": "2020-01-08T20:41:34.890084Z",
     "start_time": "2020-01-08T20:41:34.861004Z"
    },
    "scrolled": true
   },
   "outputs": [
    {
     "name": "stdout",
     "output_type": "stream",
     "text": [
      "SkipGramNeg(\n",
      "  (in_embed): Embedding(3490, 300)\n",
      "  (out_embed): Embedding(3490, 300)\n",
      ")\n"
     ]
    }
   ],
   "source": [
    "torch.save(w2v_net.state_dict(), 'models/w2v_net.pth')\n",
    "\n",
    "state_dict = torch.load('models/w2v_net.pth')\n",
    "w2v_net.load_state_dict(state_dict)\n",
    "\n",
    "print(w2v_net)"
   ]
  },
  {
   "cell_type": "markdown",
   "metadata": {},
   "source": [
    "## Use Embeddings"
   ]
  },
  {
   "cell_type": "code",
   "execution_count": 25,
   "metadata": {
    "ExecuteTime": {
     "end_time": "2020-01-08T20:41:39.550776Z",
     "start_time": "2020-01-08T20:41:34.894083Z"
    }
   },
   "outputs": [
    {
     "data": {
      "image/png": "[encoded data removed]",
      "text/plain": [
       "<Figure size 1152x1152 with 1 Axes>"
      ]
     },
     "metadata": {
      "needs_background": "light"
     },
     "output_type": "display_data"
    }
   ],
   "source": [
    "# Visualize\n",
    "\n",
    "# Get embeddings from the embedding layer of our model, by name\n",
    "embeddings = w2v_net.in_embed.weight.to('cpu').data.numpy()\n",
    "\n",
    "viz_words = 300\n",
    "tsne = TSNE()\n",
    "embed_tsne = tsne.fit_transform(embeddings[:viz_words, :])\n",
    "\n",
    "fig, ax = plt.subplots(figsize=(16, 16))\n",
    "for idx in range(viz_words):\n",
    "    plt.scatter(*embed_tsne[idx, :], color=col1)\n",
    "    plt.annotate(int_to_vocab[idx], (embed_tsne[idx, 0], embed_tsne[idx, 1]), alpha=0.7)"
   ]
  },
  {
   "cell_type": "code",
   "execution_count": 29,
   "metadata": {
    "ExecuteTime": {
     "end_time": "2020-01-08T20:45:53.377929Z",
     "start_time": "2020-01-08T20:45:53.336986Z"
    }
   },
   "outputs": [
    {
     "name": "stdout",
     "output_type": "stream",
     "text": [
      "torch.FloatTensor\n",
      "torch.Size([3490, 300])\n"
     ]
    }
   ],
   "source": [
    "# Save for later use\n",
    "embeddings = w2v_net.in_embed.weight\n",
    "print(embeddings.type())\n",
    "print(embeddings.shape)\n",
    "\n",
    "# Save\n",
    "file_embeddings = open('embeddings.pkl', 'wb') \n",
    "pickle.dump(embeddings, file_embeddings)"
   ]
  },
  {
   "cell_type": "code",
   "execution_count": 30,
   "metadata": {
    "ExecuteTime": {
     "end_time": "2020-01-08T20:45:54.273546Z",
     "start_time": "2020-01-08T20:45:54.242298Z"
    }
   },
   "outputs": [
    {
     "name": "stdout",
     "output_type": "stream",
     "text": [
      "torch.FloatTensor\n",
      "torch.Size([3490, 300])\n"
     ]
    }
   ],
   "source": [
    "# Reload for test purpose\n",
    "\n",
    "file_embeddings_r = open('embeddings.pkl', 'rb') \n",
    "embeddings_test = pickle.load(file_embeddings_r)\n",
    "\n",
    "print(embeddings_test.type())\n",
    "print(embeddings_test.shape)"
   ]
  },
  {
   "cell_type": "code",
   "execution_count": 31,
   "metadata": {
    "ExecuteTime": {
     "end_time": "2020-01-08T20:46:20.501714Z",
     "start_time": "2020-01-08T20:46:20.470457Z"
    }
   },
   "outputs": [
    {
     "data": {
      "text/plain": [
       "Parameter containing:\n",
       "tensor([[ 0.2400,  0.2489,  0.8631,  ..., -0.6180,  0.6164,  0.5263],\n",
       "        [-0.3562,  0.3687,  0.1308,  ...,  0.1343,  0.1147, -0.3813],\n",
       "        [-0.1005, -0.0252, -0.0392,  ...,  0.1566, -0.5179, -0.3652],\n",
       "        ...,\n",
       "        [ 0.2545,  0.2554,  0.6526,  ...,  0.0438,  0.3015, -0.5766],\n",
       "        [-0.4558, -0.3475,  0.1837,  ..., -0.5723,  0.4594,  0.3439],\n",
       "        [ 0.2458,  0.4525,  0.6489,  ...,  1.1045, -0.4354, -0.8410]],\n",
       "       requires_grad=True)"
      ]
     },
     "execution_count": 31,
     "metadata": {},
     "output_type": "execute_result"
    }
   ],
   "source": [
    "embeddings_test"
   ]
  },
  {
   "cell_type": "code",
   "execution_count": null,
   "metadata": {},
   "outputs": [],
   "source": [
    "[break here]"
   ]
  },
  {
   "cell_type": "markdown",
   "metadata": {},
   "source": [
    "## Appendix: Using a pre-trained Embedding"
   ]
  },
  {
   "cell_type": "markdown",
   "metadata": {},
   "source": [
    "### Embedding Coverage\n",
    "* When you have pre-trained embeddings, doing standard preprocessing steps  might not be a good idea because some of the valuable information can be lost. It is better to get vocabulary as close to embeddings as possible. In order to do that, `train_vocab` and `test_vocab` are created by counting the words in tweets."
   ]
  },
  {
   "cell_type": "code",
   "execution_count": null,
   "metadata": {
    "ExecuteTime": {
     "end_time": "2020-01-08T20:41:39.812415Z",
     "start_time": "2020-01-08T20:36:48.033Z"
    }
   },
   "outputs": [],
   "source": [
    "def build_vocab(tweets):\n",
    "    vocab = {}        \n",
    "    for tweet in tweets:\n",
    "        for word in tweet:\n",
    "            try:\n",
    "                vocab[word] += 1\n",
    "            except KeyError:\n",
    "                vocab[word] = 1\n",
    "    return vocab\n",
    "\n",
    "train_tweets = df_train['text'].apply(lambda s: s.split()).values\n",
    "train_vocab = build_vocab(train_tweets)\n",
    "test_tweets = df_test['text'].apply(lambda s: s.split()).values\n",
    "test_vocab = build_vocab(test_tweets)"
   ]
  },
  {
   "cell_type": "markdown",
   "metadata": {},
   "source": [
    "Embeddings used for text cleaning are:\n",
    "* GloVe-300d-840B\n",
    "* FastText-Crawl-300d-2M"
   ]
  },
  {
   "cell_type": "code",
   "execution_count": null,
   "metadata": {
    "ExecuteTime": {
     "end_time": "2020-01-08T20:41:39.814458Z",
     "start_time": "2020-01-08T20:36:48.044Z"
    }
   },
   "outputs": [],
   "source": [
    "embeddings_glove = np.load('../input/pickled-glove840b300d-for-10sec-loading/glove.840B.300d.pkl', allow_pickle=True)\n",
    "embeddings_fasttext = np.load('../input/pickled-crawl300d2m-for-kernel-competitions/crawl-300d-2M.pkl', allow_pickle=True)"
   ]
  },
  {
   "cell_type": "markdown",
   "metadata": {},
   "source": [
    "Words in intersection of vocab and embeddings are stored in `covered` along with their counts. Words in vocab that don't exist in embeddings are stored in `oov` along with their counts. `n_covered` and `n_oov` are total number of counts and they are used for calculating coverage percentages.\n",
    "\n",
    "Both GloVe and FastText embeddings have more than **50%** vocab and **80%** text coverage without cleaning. GloVe and FastText coverage are very close but GloVe has slightly higher coverage."
   ]
  },
  {
   "cell_type": "code",
   "execution_count": null,
   "metadata": {
    "ExecuteTime": {
     "end_time": "2020-01-08T20:41:39.814458Z",
     "start_time": "2020-01-08T20:36:48.054Z"
    }
   },
   "outputs": [],
   "source": [
    "def check_coverage(vocab, embeddings, embeddings_name, dataset_name):\n",
    "    covered = {}\n",
    "    oov = {}    \n",
    "    n_covered = 0\n",
    "    n_oov = 0\n",
    "    \n",
    "    for word in vocab:\n",
    "        try:\n",
    "            covered[word] = embeddings[word]\n",
    "            n_covered += vocab[word]\n",
    "        except:\n",
    "            oov[word] = vocab[word]\n",
    "            n_oov += vocab[word]\n",
    "            \n",
    "    vocab_coverage = len(covered) / len(vocab)\n",
    "    text_coverage = (n_covered / (n_covered + n_oov))\n",
    "    print('{} Embeddings cover {:.2%} of {} vocab'.format(embeddings_name, vocab_coverage, dataset_name))\n",
    "    print('{} Embeddings cover {:.2%} of {} text'.format(embeddings_name, text_coverage, dataset_name))\n",
    "    \n",
    "    sorted_oov = sorted(oov.items(), key=operator.itemgetter(1))[::-1]\n",
    "    return sorted_oov\n",
    "\n",
    "train_oov_glove = check_coverage(train_vocab, embeddings_glove, 'GloVe', 'Training')\n",
    "test_oov_glove = check_coverage(test_vocab, embeddings_glove, 'GloVe', 'Test')\n",
    "train_oov_fasttext = check_coverage(train_vocab, embeddings_fasttext, 'FastText', 'Training')\n",
    "test_oov_fasttext = check_coverage(test_vocab, embeddings_fasttext, 'FastText', 'Test')"
   ]
  },
  {
   "cell_type": "markdown",
   "metadata": {},
   "source": [
    "### Text Cleaning (Not Finished)\n",
    "* The most common type of words in oov have punctuations at the start or end. Those words doesn't have embeddings because of those trailing punctuations. `#@!?()[]*%...'` are separated from words.\n",
    "* There are special characters in tweets and some of them are attached to words. They are removed completely.\n",
    "* Contractions are expanded.\n",
    "* Character entity references are replaced with their actual symbols.\n",
    "* Typos and slang are corrected, and informal abbreviations are written in their long forms.\n",
    "* Hashtags and usernames are expanded."
   ]
  },
  {
   "cell_type": "code",
   "execution_count": null,
   "metadata": {
    "ExecuteTime": {
     "end_time": "2020-01-08T20:41:39.818472Z",
     "start_time": "2020-01-08T20:36:48.068Z"
    }
   },
   "outputs": [],
   "source": [
    "def clean(tweet):    \n",
    "    # Punctuations at the start or end of words    \n",
    "    for punctuation in \"#@!?()[]*%\":\n",
    "        tweet = tweet.replace(punctuation, f' {punctuation} ').strip()\n",
    "    tweet = tweet.replace('...', ' ... ').strip()\n",
    "    tweet = tweet.replace(\"'\", \" ' \").strip()        \n",
    "    \n",
    "    # Special characters\n",
    "    tweet = re.sub(r\"\\x89Û_\", \"\", tweet)\n",
    "    tweet = re.sub(r\"\\x89ÛÒ\", \"\", tweet)\n",
    "    tweet = re.sub(r\"\\x89ÛÓ\", \"\", tweet)\n",
    "    tweet = re.sub(r\"\\x89ÛÏWhen\", \"When\", tweet)\n",
    "    tweet = re.sub(r\"\\x89ÛÏ\", \"\", tweet)\n",
    "    tweet = re.sub(r\"China\\x89Ûªs\", \"China's\", tweet)\n",
    "    tweet = re.sub(r\"let\\x89Ûªs\", \"let's\", tweet)\n",
    "    tweet = re.sub(r\"\\x89Û÷\", \"\", tweet)\n",
    "    tweet = re.sub(r\"\\x89Ûª\", \"\", tweet)\n",
    "    tweet = re.sub(r\"\\x89Û\\x9d\", \"\", tweet)\n",
    "    tweet = re.sub(r\"å_\", \"\", tweet)\n",
    "    tweet = re.sub(r\"\\x89Û¢\", \"\", tweet)\n",
    "    tweet = re.sub(r\"\\x89Û¢åÊ\", \"\", tweet)\n",
    "    tweet = re.sub(r\"fromåÊwounds\", \"from wounds\", tweet)\n",
    "    tweet = re.sub(r\"åÊ\", \"\", tweet)\n",
    "    tweet = re.sub(r\"åÈ\", \"\", tweet)\n",
    "    tweet = re.sub(r\"JapÌ_n\", \"Japan\", tweet)    \n",
    "    \n",
    "    # Contractions\n",
    "    tweet = re.sub(r\"he's\", \"he is\", tweet)\n",
    "    tweet = re.sub(r\"there's\", \"there is\", tweet)\n",
    "    tweet = re.sub(r\"We're\", \"We are\", tweet)\n",
    "    tweet = re.sub(r\"That's\", \"That is\", tweet)\n",
    "    tweet = re.sub(r\"won't\", \"will not\", tweet)\n",
    "    tweet = re.sub(r\"they're\", \"they are\", tweet)\n",
    "    tweet = re.sub(r\"Can't\", \"Cannot\", tweet)\n",
    "    tweet = re.sub(r\"wasn't\", \"was not\", tweet)\n",
    "    tweet = re.sub(r\"don\\x89Ûªt\", \"do not\", tweet)\n",
    "    tweet = re.sub(r\"aren't\", \"are not\", tweet)\n",
    "    tweet = re.sub(r\"isn't\", \"is not\", tweet)\n",
    "    tweet = re.sub(r\"What's\", \"What is\", tweet)\n",
    "    tweet = re.sub(r\"haven't\", \"have not\", tweet)\n",
    "    tweet = re.sub(r\"hasn't\", \"has not\", tweet)\n",
    "    tweet = re.sub(r\"There's\", \"There is\", tweet)\n",
    "    tweet = re.sub(r\"He's\", \"He is\", tweet)\n",
    "    tweet = re.sub(r\"It's\", \"It is\", tweet)\n",
    "    tweet = re.sub(r\"You're\", \"You are\", tweet)\n",
    "    tweet = re.sub(r\"I'M\", \"I am\", tweet)\n",
    "    tweet = re.sub(r\"shouldn't\", \"should not\", tweet)\n",
    "    tweet = re.sub(r\"wouldn't\", \"would not\", tweet)\n",
    "    tweet = re.sub(r\"i'm\", \"I am\", tweet)\n",
    "    tweet = re.sub(r\"I\\x89Ûªm\", \"I am\", tweet)\n",
    "    tweet = re.sub(r\"I'm\", \"I am\", tweet)\n",
    "    tweet = re.sub(r\"Isn't\", \"is not\", tweet)\n",
    "    tweet = re.sub(r\"Here's\", \"Here is\", tweet)\n",
    "    tweet = re.sub(r\"you've\", \"you have\", tweet)\n",
    "    tweet = re.sub(r\"you\\x89Ûªve\", \"you have\", tweet)\n",
    "    tweet = re.sub(r\"we're\", \"we are\", tweet)\n",
    "    tweet = re.sub(r\"what's\", \"what is\", tweet)\n",
    "    tweet = re.sub(r\"couldn't\", \"could not\", tweet)\n",
    "    tweet = re.sub(r\"we've\", \"we have\", tweet)\n",
    "    tweet = re.sub(r\"it\\x89Ûªs\", \"it is\", tweet)\n",
    "    tweet = re.sub(r\"doesn\\x89Ûªt\", \"does not\", tweet)\n",
    "    tweet = re.sub(r\"It\\x89Ûªs\", \"It is\", tweet)\n",
    "    tweet = re.sub(r\"Here\\x89Ûªs\", \"Here is\", tweet)\n",
    "    tweet = re.sub(r\"who's\", \"who is\", tweet)\n",
    "    tweet = re.sub(r\"I\\x89Ûªve\", \"I have\", tweet)\n",
    "    tweet = re.sub(r\"y'all\", \"you all\", tweet)\n",
    "    tweet = re.sub(r\"can\\x89Ûªt\", \"cannot\", tweet)\n",
    "    tweet = re.sub(r\"would've\", \"would have\", tweet)\n",
    "    tweet = re.sub(r\"it'll\", \"it will\", tweet)\n",
    "    tweet = re.sub(r\"we'll\", \"we will\", tweet)\n",
    "    tweet = re.sub(r\"wouldn\\x89Ûªt\", \"would not\", tweet)\n",
    "    tweet = re.sub(r\"We've\", \"We have\", tweet)\n",
    "    tweet = re.sub(r\"he'll\", \"he will\", tweet)\n",
    "    tweet = re.sub(r\"Y'all\", \"You all\", tweet)\n",
    "    tweet = re.sub(r\"Weren't\", \"Were not\", tweet)\n",
    "    tweet = re.sub(r\"Didn't\", \"Did not\", tweet)\n",
    "    tweet = re.sub(r\"they'll\", \"they will\", tweet)\n",
    "    tweet = re.sub(r\"they'd\", \"they would\", tweet)\n",
    "    tweet = re.sub(r\"DON'T\", \"DO NOT\", tweet)\n",
    "    tweet = re.sub(r\"That\\x89Ûªs\", \"That is\", tweet)\n",
    "    tweet = re.sub(r\"they've\", \"they have\", tweet)\n",
    "    tweet = re.sub(r\"i'd\", \"I would\", tweet)\n",
    "    tweet = re.sub(r\"should've\", \"should have\", tweet)\n",
    "    tweet = re.sub(r\"You\\x89Ûªre\", \"You are\", tweet)\n",
    "    tweet = re.sub(r\"where's\", \"where is\", tweet)\n",
    "    tweet = re.sub(r\"Don\\x89Ûªt\", \"Do not\", tweet)\n",
    "    tweet = re.sub(r\"we'd\", \"we would\", tweet)\n",
    "    tweet = re.sub(r\"i'll\", \"I will\", tweet)\n",
    "    tweet = re.sub(r\"weren't\", \"were not\", tweet)\n",
    "    tweet = re.sub(r\"They're\", \"They are\", tweet)\n",
    "    tweet = re.sub(r\"Can\\x89Ûªt\", \"Cannot\", tweet)\n",
    "    tweet = re.sub(r\"you\\x89Ûªll\", \"you will\", tweet)\n",
    "    tweet = re.sub(r\"I\\x89Ûªd\", \"I would\", tweet)\n",
    "    tweet = re.sub(r\"let's\", \"let us\", tweet)\n",
    "    \n",
    "    # Character entity references\n",
    "    tweet = re.sub(r\"&gt;\", \">\", tweet)\n",
    "    tweet = re.sub(r\"&lt;\", \"<\", tweet)\n",
    "    tweet = re.sub(r\"&amp;\", \"&\", tweet)\n",
    "        \n",
    "    # Typos, slang and informal abbreviations\n",
    "    tweet = re.sub(r\"w/e\", \"whatever\", tweet)\n",
    "    tweet = re.sub(r\"w/\", \"with\", tweet)\n",
    "    tweet = re.sub(r\"USAgov\", \"USA government\", tweet)\n",
    "    tweet = re.sub(r\"recentlu\", \"recently\", tweet)\n",
    "    tweet = re.sub(r\"Ph0tos\", \"Photos\", tweet)\n",
    "    tweet = re.sub(r\"exp0sed\", \"exposed\", tweet)\n",
    "    tweet = re.sub(r\"<3\", \"love\", tweet)\n",
    "        \n",
    "    # Hashtags and usernames\n",
    "    tweet = re.sub(r\"IranDeal\", \"Iran Deal\", tweet)\n",
    "    tweet = re.sub(r\"ArianaGrande\", \"Ariana Grande\", tweet)\n",
    "    tweet = re.sub(r\"camilacabello97\", \"camila cabello\", tweet) \n",
    "    tweet = re.sub(r\"RondaRousey\", \"Ronda Rousey\", tweet)     \n",
    "    tweet = re.sub(r\"MTVHottest\", \"MTV Hottest\", tweet)\n",
    "    tweet = re.sub(r\"TrapMusic\", \"Trap Music\", tweet)\n",
    "    tweet = re.sub(r\"ProphetMuhammad\", \"Prophet Muhammad\", tweet)\n",
    "    tweet = re.sub(r\"PantherAttack\", \"Panther Attack\", tweet)\n",
    "    tweet = re.sub(r\"StrategicPatience\", \"Strategic Patience\", tweet)\n",
    "    tweet = re.sub(r\"socialnews\", \"social news\", tweet)\n",
    "    tweet = re.sub(r\"NASAHurricane\", \"NASA Hurricane\", tweet)\n",
    "    tweet = re.sub(r\"onlinecommunities\", \"online communities\", tweet)\n",
    "    tweet = re.sub(r\"humanconsumption\", \"human consumption\", tweet)\n",
    "    tweet = re.sub(r\"Typhoon-Devastated\", \"Typhoon Devastated\", tweet)\n",
    "    tweet = re.sub(r\"Meat-Loving\", \"Meat Loving\", tweet)\n",
    "    tweet = re.sub(r\"facialabuse\", \"facial abuse\", tweet)\n",
    "    tweet = re.sub(r\"LakeCounty\", \"Lake County\", tweet)\n",
    "    tweet = re.sub(r\"BeingAuthor\", \"Being Author\", tweet)\n",
    "    tweet = re.sub(r\"withheavenly\", \"with heavenly\", tweet)\n",
    "    tweet = re.sub(r\"thankU\", \"thank you\", tweet)\n",
    "    tweet = re.sub(r\"iTunesMusic\", \"iTunes Music\", tweet)\n",
    "    tweet = re.sub(r\"OffensiveContent\", \"Offensive Content\", tweet)\n",
    "    tweet = re.sub(r\"WorstSummerJob\", \"Worst Summer Job\", tweet)\n",
    "    tweet = re.sub(r\"HarryBeCareful\", \"Harry Be Careful\", tweet)\n",
    "    tweet = re.sub(r\"NASASolarSystem\", \"NASA Solar System\", tweet)\n",
    "    \n",
    "    return tweet\n",
    "\n",
    "df_train['text_cleaned'] = df_train['text'].apply(lambda x : clean(x))\n",
    "df_test['text_cleaned'] = df_test['text'].apply(lambda x : clean(x))\n",
    "\n",
    "train_tweets_cleaned = df_train['text_cleaned'].apply(lambda s: s.split()).values\n",
    "train_vocab_cleaned = build_vocab(train_tweets_cleaned)\n",
    "test_tweets_cleaned = df_test['text_cleaned'].apply(lambda s: s.split()).values\n",
    "test_vocab_cleaned = build_vocab(test_tweets_cleaned)\n",
    "\n",
    "train_oov_glove = check_coverage(train_vocab_cleaned, embeddings_glove, 'GloVe', 'Training')\n",
    "test_oov_glove = check_coverage(test_vocab_cleaned, embeddings_glove, 'GloVe', 'Test')\n",
    "train_oov_fasttext = check_coverage(train_vocab_cleaned, embeddings_fasttext, 'FastText', 'Training')\n",
    "test_oov_fasttext = check_coverage(test_vocab_cleaned, embeddings_fasttext, 'FastText', 'Test')"
   ]
  }
 ],
 "metadata": {
  "hide_input": false,
  "kernelspec": {
   "display_name": "Python 3",
   "language": "python",
   "name": "python3"
  },
  "language_info": {
   "codemirror_mode": {
    "name": "ipython",
    "version": 3
   },
   "file_extension": ".py",
   "mimetype": "text/x-python",
   "name": "python",
   "nbconvert_exporter": "python",
   "pygments_lexer": "ipython3",
   "version": "3.7.3"
  },
  "toc": {
   "base_numbering": 1,
   "nav_menu": {},
   "number_sections": true,
   "sideBar": false,
   "skip_h1_title": true,
   "title_cell": "Table of Contents",
   "title_sidebar": "Contents",
   "toc_cell": true,
   "toc_position": {},
   "toc_section_display": true,
   "toc_window_display": false
  }
 },
 "nbformat": 4,
 "nbformat_minor": 1
}
