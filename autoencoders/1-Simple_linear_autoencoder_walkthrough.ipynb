{
 "cells": [
  {
   "cell_type": "markdown",
   "metadata": {},
   "source": [
    "# A Simple Autoencoder\n",
    "\n",
    "We'll start off by building a simple autoencoder to compress the MNIST dataset. With autoencoders, we pass input data through an encoder that makes a compressed representation of the input. Then, this representation is passed through a decoder to reconstruct the input data. Generally the encoder and decoder will be built with neural networks, then trained on example data.\n",
    "\n",
    "<img src='pics/autoencoder_1.png' />\n",
    "\n",
    "### Compressed Representation\n",
    "\n",
    "A compressed representation can be great for saving and sharing any kind of data in a way that is more efficient than storing raw data. In practice, the compressed representation often holds key information about an input image and we can use it for denoising images or other kinds of reconstruction and transformation!\n",
    "\n",
    "<img src='pics/denoising.png' width=60%/>"
   ]
  },
  {
   "cell_type": "markdown",
   "metadata": {
    "toc": true
   },
   "source": [
    "<h1>Table of Contents<span class=\"tocSkip\"></span></h1>\n",
    "<div class=\"toc\"><ul class=\"toc-item\"><li><ul class=\"toc-item\"><li><span><a href=\"#Compressed-Representation\" data-toc-modified-id=\"Compressed-Representation-0.1\"><span class=\"toc-item-num\">0.1&nbsp;&nbsp;</span>Compressed Representation</a></span></li></ul></li><li><span><a href=\"#Import-libraries,-load-and-transform-data\" data-toc-modified-id=\"Import-libraries,-load-and-transform-data-1\"><span class=\"toc-item-num\">1&nbsp;&nbsp;</span>Import libraries, load and transform data</a></span><ul class=\"toc-item\"><li><span><a href=\"#Visualize-the-Data\" data-toc-modified-id=\"Visualize-the-Data-1.1\"><span class=\"toc-item-num\">1.1&nbsp;&nbsp;</span>Visualize the Data</a></span></li></ul></li><li><span><a href=\"#Linear-Autoencoder\" data-toc-modified-id=\"Linear-Autoencoder-2\"><span class=\"toc-item-num\">2&nbsp;&nbsp;</span>Linear Autoencoder</a></span></li><li><span><a href=\"#Training\" data-toc-modified-id=\"Training-3\"><span class=\"toc-item-num\">3&nbsp;&nbsp;</span>Training</a></span></li><li><span><a href=\"#Checking-out-the-results\" data-toc-modified-id=\"Checking-out-the-results-4\"><span class=\"toc-item-num\">4&nbsp;&nbsp;</span>Checking out the results</a></span></li><li><span><a href=\"#Up-Next\" data-toc-modified-id=\"Up-Next-5\"><span class=\"toc-item-num\">5&nbsp;&nbsp;</span>Up Next</a></span></li></ul></div>"
   ]
  },
  {
   "cell_type": "markdown",
   "metadata": {},
   "source": [
    "## Import libraries, load and transform data"
   ]
  },
  {
   "cell_type": "code",
   "execution_count": 2,
   "metadata": {
    "ExecuteTime": {
     "end_time": "2019-11-06T07:50:02.429890Z",
     "start_time": "2019-11-06T07:49:21.281425Z"
    }
   },
   "outputs": [
    {
     "name": "stdout",
     "output_type": "stream",
     "text": [
      "Downloading http://yann.lecun.com/exdb/mnist/train-images-idx3-ubyte.gz to data\\MNIST\\raw\\train-images-idx3-ubyte.gz\n"
     ]
    },
    {
     "name": "stderr",
     "output_type": "stream",
     "text": [
      "100%|█████████▉| 9863168/9912422 [00:26<00:00, 400030.86it/s]"
     ]
    },
    {
     "name": "stdout",
     "output_type": "stream",
     "text": [
      "Extracting data\\MNIST\\raw\\train-images-idx3-ubyte.gz to data\\MNIST\\raw\n",
      "Downloading http://yann.lecun.com/exdb/mnist/train-labels-idx1-ubyte.gz to data\\MNIST\\raw\\train-labels-idx1-ubyte.gz\n"
     ]
    },
    {
     "name": "stderr",
     "output_type": "stream",
     "text": [
      "\n",
      "0it [00:00, ?it/s]\n",
      "  0%|          | 0/28881 [00:00<?, ?it/s]\n",
      "32768it [00:00, 100246.65it/s]           "
     ]
    },
    {
     "name": "stdout",
     "output_type": "stream",
     "text": [
      "Extracting data\\MNIST\\raw\\train-labels-idx1-ubyte.gz to data\\MNIST\\raw\n",
      "Downloading http://yann.lecun.com/exdb/mnist/t10k-images-idx3-ubyte.gz to data\\MNIST\\raw\\t10k-images-idx3-ubyte.gz\n"
     ]
    },
    {
     "name": "stderr",
     "output_type": "stream",
     "text": [
      "\n",
      "0it [00:00, ?it/s]\n",
      "  0%|          | 0/1648877 [00:00<?, ?it/s]\n",
      "  1%|          | 16384/1648877 [00:00<00:12, 128312.83it/s]\n",
      "  5%|▍         | 81920/1648877 [00:00<00:09, 158171.19it/s]\n",
      "  9%|▉         | 155648/1648877 [00:00<00:07, 192989.91it/s]\n",
      " 12%|█▏        | 204800/1648877 [00:00<00:06, 235754.33it/s]\n",
      " 16%|█▋        | 270336/1648877 [00:00<00:04, 291593.93it/s]\n",
      " 19%|█▉        | 311296/1648877 [00:01<00:04, 309880.80it/s]\n",
      " 23%|██▎       | 376832/1648877 [00:01<00:03, 334246.99it/s]\n",
      " 26%|██▋       | 434176/1648877 [00:01<00:03, 381066.81it/s]\n",
      " 29%|██▉       | 483328/1648877 [00:01<00:02, 403214.64it/s]\n",
      " 33%|███▎      | 548864/1648877 [00:01<00:02, 449976.52it/s]\n",
      " 37%|███▋      | 614400/1648877 [00:01<00:02, 491565.59it/s]\n",
      " 42%|████▏     | 688128/1648877 [00:01<00:01, 544490.02it/s]\n",
      " 46%|████▌     | 753664/1648877 [00:02<00:02, 315423.71it/s]\n",
      " 50%|█████     | 827392/1648877 [00:02<00:02, 372527.07it/s]\n",
      " 54%|█████▎    | 884736/1648877 [00:02<00:01, 406074.35it/s]\n",
      " 57%|█████▋    | 942080/1648877 [00:02<00:01, 423674.86it/s]\n",
      " 61%|██████    | 1007616/1648877 [00:02<00:01, 468363.40it/s]\n",
      " 66%|██████▌   | 1081344/1648877 [00:02<00:01, 491208.74it/s]\n",
      " 69%|██████▉   | 1138688/1648877 [00:03<00:01, 295224.34it/s]\n",
      " 74%|███████▍  | 1220608/1648877 [00:03<00:02, 202434.92it/s]\n",
      " 77%|███████▋  | 1269760/1648877 [00:04<00:02, 165358.88it/s]\n",
      " 79%|███████▉  | 1302528/1648877 [00:04<00:02, 155650.45it/s]\n",
      " 80%|████████  | 1327104/1648877 [00:05<00:04, 66860.57it/s] \n",
      " 82%|████████▏ | 1351680/1648877 [00:05<00:04, 71697.27it/s]\n",
      " 83%|████████▎ | 1376256/1648877 [00:05<00:03, 71963.81it/s]\n",
      " 84%|████████▍ | 1392640/1648877 [00:06<00:03, 67516.32it/s]\n",
      " 85%|████████▌ | 1409024/1648877 [00:06<00:03, 78646.72it/s]\n",
      " 86%|████████▋ | 1425408/1648877 [00:06<00:02, 85411.54it/s]\n",
      " 88%|████████▊ | 1449984/1648877 [00:06<00:02, 95350.00it/s]\n",
      " 89%|████████▉ | 1474560/1648877 [00:06<00:01, 103349.47it/s]\n",
      " 91%|█████████ | 1499136/1648877 [00:07<00:01, 85166.18it/s] \n",
      " 92%|█████████▏| 1523712/1648877 [00:07<00:01, 104115.30it/s]\n",
      " 94%|█████████▍| 1548288/1648877 [00:07<00:00, 110667.38it/s]\n",
      " 95%|█████████▍| 1564672/1648877 [00:08<00:01, 48362.28it/s] \n",
      " 96%|█████████▋| 1589248/1648877 [00:08<00:01, 59510.56it/s]\n",
      " 97%|█████████▋| 1605632/1648877 [00:09<00:00, 44038.31it/s]\n",
      " 98%|█████████▊| 1622016/1648877 [00:09<00:00, 39173.37it/s]\n",
      " 99%|█████████▉| 1638400/1648877 [00:09<00:00, 46890.44it/s]\n",
      "100%|█████████▉| 1646592/1648877 [00:10<00:00, 39065.66it/s]"
     ]
    },
    {
     "name": "stdout",
     "output_type": "stream",
     "text": [
      "Extracting data\\MNIST\\raw\\t10k-images-idx3-ubyte.gz to data\\MNIST\\raw\n",
      "Downloading http://yann.lecun.com/exdb/mnist/t10k-labels-idx1-ubyte.gz to data\\MNIST\\raw\\t10k-labels-idx1-ubyte.gz\n"
     ]
    },
    {
     "name": "stderr",
     "output_type": "stream",
     "text": [
      "\n",
      "\n",
      "0it [00:00, ?it/s]\n",
      "\n",
      "  0%|          | 0/4542 [00:00<?, ?it/s]\n",
      "\n",
      "8192it [00:00, 29245.22it/s]            "
     ]
    },
    {
     "name": "stdout",
     "output_type": "stream",
     "text": [
      "Extracting data\\MNIST\\raw\\t10k-labels-idx1-ubyte.gz to data\\MNIST\\raw\n",
      "Processing...\n",
      "Done!\n"
     ]
    }
   ],
   "source": [
    "import torch\n",
    "import numpy as np\n",
    "import torch.nn as nn\n",
    "import torch.nn.functional as F\n",
    "from torchvision import datasets\n",
    "import torchvision.transforms as transforms\n",
    "\n",
    "import matplotlib.pyplot as plt\n",
    "%matplotlib inline\n",
    "\n",
    "# Convert data to torch.FloatTensor\n",
    "transform = transforms.ToTensor()\n",
    "\n",
    "# Load the training and test datasets\n",
    "train_data = datasets.MNIST(root='data', train=True,\n",
    "                                   download=True, transform=transform)\n",
    "test_data = datasets.MNIST(root='data', train=False,\n",
    "                                  download=True, transform=transform)"
   ]
  },
  {
   "cell_type": "code",
   "execution_count": 3,
   "metadata": {
    "ExecuteTime": {
     "end_time": "2019-11-06T07:50:02.449901Z",
     "start_time": "2019-11-06T07:50:02.438876Z"
    }
   },
   "outputs": [],
   "source": [
    "# Create training and test dataloaders\n",
    "\n",
    "# Number of subprocesses to use for data loading\n",
    "num_workers = 0\n",
    "# how many samples per batch to load\n",
    "batch_size = 20\n",
    "\n",
    "# Prepare data loaders\n",
    "train_loader = torch.utils.data.DataLoader(train_data, batch_size=batch_size, num_workers=num_workers)\n",
    "test_loader = torch.utils.data.DataLoader(test_data, batch_size=batch_size, num_workers=num_workers)"
   ]
  },
  {
   "cell_type": "markdown",
   "metadata": {},
   "source": [
    "### Visualize the Data"
   ]
  },
  {
   "cell_type": "code",
   "execution_count": 5,
   "metadata": {
    "ExecuteTime": {
     "end_time": "2019-11-06T07:50:26.054561Z",
     "start_time": "2019-11-06T07:50:25.773710Z"
    }
   },
   "outputs": [
    {
     "data": {
      "image/png": "[encoded data removed]",
      "text/plain": [
       "<Figure size 360x360 with 1 Axes>"
      ]
     },
     "metadata": {
      "needs_background": "light"
     },
     "output_type": "display_data"
    }
   ],
   "source": [
    "# Obtain one batch of training images\n",
    "dataiter = iter(train_loader)\n",
    "images, labels = dataiter.next()\n",
    "images = images.numpy()\n",
    "\n",
    "# Get one image from the batch\n",
    "img = np.squeeze(images[0])\n",
    "\n",
    "fig = plt.figure(figsize = (5,5)) \n",
    "ax = fig.add_subplot(111)\n",
    "ax.imshow(img, cmap='gray');"
   ]
  },
  {
   "cell_type": "markdown",
   "metadata": {},
   "source": [
    "---\n",
    "## Linear Autoencoder\n",
    "\n",
    "We'll train an autoencoder with these images by flattening them into 784 length vectors. The images from this dataset are already normalized such that the values are between 0 and 1. Let's start by building a simple autoencoder. The encoder and decoder should be made of **one linear layer**. The units that connect the encoder and decoder will be the _compressed representation_.\n",
    "\n",
    "**Important:** Since the images are normalized between 0 and 1, we need to use a **sigmoid activation on the output layer** to get values that match this input value range.\n",
    "\n",
    "<img src='pics/simple_autoencoder.png' width=50% />\n",
    "\n",
    "\n",
    "**Solution design:** \n",
    "> The input images will be flattened into 784 length vectors. The targets are the same as the inputs. \n",
    "> The encoder and decoder will be made of two linear layers, each.\n",
    "> The depth dimensions should change as follows: 784 inputs > **encoding_dim** > 784 outputs.\n",
    "> All layers will have ReLu activations applied except for the final output layer, which has a sigmoid activation.\n",
    "> The compressed representation should be a vector with dimension `encoding_dim=32`."
   ]
  },
  {
   "cell_type": "code",
   "execution_count": 23,
   "metadata": {
    "ExecuteTime": {
     "end_time": "2019-11-06T08:06:15.914252Z",
     "start_time": "2019-11-06T08:06:15.895300Z"
    }
   },
   "outputs": [
    {
     "name": "stdout",
     "output_type": "stream",
     "text": [
      "Autoencoder(\n",
      "  (fc1): Linear(in_features=784, out_features=32, bias=True)\n",
      "  (fc2): Linear(in_features=32, out_features=784, bias=True)\n",
      ")\n"
     ]
    }
   ],
   "source": [
    "# Define the NN architecture\n",
    "class Autoencoder(nn.Module):\n",
    "    def __init__(self, encoding_dim):\n",
    "        super(Autoencoder, self).__init__()\n",
    "        ## encoder ##\n",
    "        self.fc1 = nn.Linear(784, encoding_dim)\n",
    "        ## decoder ##\n",
    "        self.fc2 = nn.Linear(encoding_dim, 784)\n",
    "\n",
    "    def forward(self, x):\n",
    "        x = x.view(x.shape[0], -1)\n",
    "        x = F.relu(self.fc1(x))\n",
    "        x = F.torch.sigmoid(self.fc2(x))\n",
    "        \n",
    "        return x\n",
    "\n",
    "# initialize the NN\n",
    "encoding_dim = 32\n",
    "model = Autoencoder(encoding_dim)\n",
    "print(model)"
   ]
  },
  {
   "cell_type": "markdown",
   "metadata": {},
   "source": [
    "---\n",
    "## Training\n",
    "\n",
    "As we are not too interested in validation here, we just monitor the training loss and the test loss afterwards. \n",
    "\n",
    "We are not concerned with labels in this case, just images, which we can get from the `train_loader`. Because we're comparing pixel values in input and output images, it will be best to use a loss that is meant for a regression task. Regression is all about comparing _quantities_ rather than probabilistic values. So, in this case, I'll use `MSELoss`. And compare output images and input images as follows:\n",
    "```\n",
    "loss = criterion(outputs, images)\n",
    "```"
   ]
  },
  {
   "cell_type": "code",
   "execution_count": 24,
   "metadata": {
    "ExecuteTime": {
     "end_time": "2019-11-06T08:06:18.141301Z",
     "start_time": "2019-11-06T08:06:18.134052Z"
    }
   },
   "outputs": [],
   "source": [
    "# Specify loss function\n",
    "criterion = nn.MSELoss()\n",
    "\n",
    "# Specify loss function\n",
    "optimizer = torch.optim.Adam(model.parameters(), lr=0.001)"
   ]
  },
  {
   "cell_type": "code",
   "execution_count": 25,
   "metadata": {
    "ExecuteTime": {
     "end_time": "2019-11-06T08:19:12.775390Z",
     "start_time": "2019-11-06T08:06:18.614882Z"
    }
   },
   "outputs": [
    {
     "name": "stdout",
     "output_type": "stream",
     "text": [
      "Epoch: 1 \tTraining Loss: 0.681367\n",
      "Epoch: 2 \tTraining Loss: 0.357591\n",
      "Epoch: 3 \tTraining Loss: 0.320415\n",
      "Epoch: 4 \tTraining Loss: 0.313099\n",
      "Epoch: 5 \tTraining Loss: 0.309596\n",
      "Epoch: 6 \tTraining Loss: 0.307246\n",
      "Epoch: 7 \tTraining Loss: 0.305494\n",
      "Epoch: 8 \tTraining Loss: 0.304051\n",
      "Epoch: 9 \tTraining Loss: 0.302842\n",
      "Epoch: 10 \tTraining Loss: 0.301813\n",
      "Epoch: 11 \tTraining Loss: 0.300925\n",
      "Epoch: 12 \tTraining Loss: 0.300086\n",
      "Epoch: 13 \tTraining Loss: 0.299329\n",
      "Epoch: 14 \tTraining Loss: 0.298664\n",
      "Epoch: 15 \tTraining Loss: 0.298071\n",
      "Epoch: 16 \tTraining Loss: 0.297518\n",
      "Epoch: 17 \tTraining Loss: 0.297003\n",
      "Epoch: 18 \tTraining Loss: 0.296522\n",
      "Epoch: 19 \tTraining Loss: 0.296068\n",
      "Epoch: 20 \tTraining Loss: 0.295647\n"
     ]
    }
   ],
   "source": [
    "# Number of epochs to train the model\n",
    "n_epochs = 20\n",
    "\n",
    "for epoch in range(1, n_epochs+1):\n",
    "    # monitor training loss\n",
    "    train_loss = 0.0\n",
    "    \n",
    "    for data in train_loader:\n",
    "        # _ stands in for labels, here\n",
    "        images, _ = data\n",
    "        # flatten images\n",
    "        images = images.view(images.size(0), -1)\n",
    "        # clear the gradients of all optimized variables\n",
    "        optimizer.zero_grad()\n",
    "        # forward pass: compute predicted outputs by passing inputs to the model\n",
    "        outputs = model(images)\n",
    "        # calculate the loss\n",
    "        loss = criterion(outputs, images)\n",
    "        # backward pass: compute gradient of the loss with respect to model parameters\n",
    "        loss.backward()\n",
    "        # perform a single optimization step (parameter update)\n",
    "        optimizer.step()\n",
    "        # update running training loss\n",
    "        train_loss += loss.item()*images.size(0)\n",
    "            \n",
    "    # print avg training statistics \n",
    "    train_loss = train_loss/len(train_loader)\n",
    "    print('Epoch: {} \\tTraining Loss: {:.6f}'.format(\n",
    "        epoch, \n",
    "        train_loss\n",
    "        ))"
   ]
  },
  {
   "cell_type": "markdown",
   "metadata": {},
   "source": [
    "## Checking out the results\n",
    "\n",
    "Below I've plotted some of the test images along with their reconstructions. For the most part these look pretty good except for some blurriness in some parts."
   ]
  },
  {
   "cell_type": "code",
   "execution_count": null,
   "metadata": {
    "collapsed": true
   },
   "outputs": [],
   "source": [
    "# obtain one batch of test images\n",
    "dataiter = iter(test_loader)\n",
    "images, labels = dataiter.next()\n",
    "\n",
    "images_flatten = images.view(images.size(0), -1)\n",
    "# get sample outputs\n",
    "output = model(images_flatten)\n",
    "# prep images for display\n",
    "images = images.numpy()\n",
    "\n",
    "# output is resized into a batch of images\n",
    "output = output.view(batch_size, 1, 28, 28)\n",
    "# use detach when it's an output that requires_grad\n",
    "output = output.detach().numpy()\n",
    "\n",
    "# plot the first ten input images and then reconstructed images\n",
    "fig, axes = plt.subplots(nrows=2, ncols=10, sharex=True, sharey=True, figsize=(25,4))\n",
    "\n",
    "# input images on top row, reconstructions on bottom\n",
    "for images, row in zip([images, output], axes):\n",
    "    for img, ax in zip(images, row):\n",
    "        ax.imshow(np.squeeze(img), cmap='gray')\n",
    "        ax.get_xaxis().set_visible(False)\n",
    "        ax.get_yaxis().set_visible(False)"
   ]
  },
  {
   "cell_type": "markdown",
   "metadata": {
    "collapsed": true
   },
   "source": [
    "## Up Next\n",
    "\n",
    "We're dealing with images here, so we can (usually) get better performance using convolution layers. So, next we'll build a better autoencoder with convolutional layers."
   ]
  }
 ],
 "metadata": {
  "hide_input": false,
  "kernelspec": {
   "display_name": "Python 3",
   "language": "python",
   "name": "python3"
  },
  "language_info": {
   "codemirror_mode": {
    "name": "ipython",
    "version": 3
   },
   "file_extension": ".py",
   "mimetype": "text/x-python",
   "name": "python",
   "nbconvert_exporter": "python",
   "pygments_lexer": "ipython3",
   "version": "3.7.3"
  },
  "toc": {
   "base_numbering": 1,
   "nav_menu": {},
   "number_sections": true,
   "sideBar": false,
   "skip_h1_title": true,
   "title_cell": "Table of Contents",
   "title_sidebar": "Contents",
   "toc_cell": true,
   "toc_position": {},
   "toc_section_display": true,
   "toc_window_display": false
  }
 },
 "nbformat": 4,
 "nbformat_minor": 2
}
