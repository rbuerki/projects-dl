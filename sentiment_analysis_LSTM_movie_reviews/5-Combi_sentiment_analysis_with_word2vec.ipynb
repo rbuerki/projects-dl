{
 "cells": [
  {
   "cell_type": "markdown",
   "metadata": {},
   "source": [
    "# Sentiment Analysis using a pre-trained embedding layer\n",
    "\n",
    "The purpose of this project is to combine the contents of the previous 2 notebooks and to implement an improved version of the RNN for sentiment analysis on the movie reviews set. For that I will pre-train the embedding layer using *word2vec* (skip-gram architecture) in a separate LSTM.\n",
    "\n",
    "(Note this is no guided project / walkthrough. Some explanations can be found in the other notebooks.)\n",
    "\n",
    "**Data Source**\n",
    "- A dataset of movie reviews, accompanied by sentiment labels: positive or negative.\n",
    "\n",
    "**Project Log**\n",
    "- 19-12-05: Start project"
   ]
  },
  {
   "cell_type": "markdown",
   "metadata": {
    "toc": true
   },
   "source": [
    "<h1>Table of Contents<span class=\"tocSkip\"></span></h1>\n",
    "<div class=\"toc\"><ul class=\"toc-item\"><li><span><a href=\"#Import-libraries,-load-data\" data-toc-modified-id=\"Import-libraries,-load-data-1\"><span class=\"toc-item-num\">1&nbsp;&nbsp;</span>Import libraries, load data</a></span></li><li><span><a href=\"#Data-pre-processing\" data-toc-modified-id=\"Data-pre-processing-2\"><span class=\"toc-item-num\">2&nbsp;&nbsp;</span>Data pre-processing</a></span><ul class=\"toc-item\"><li><span><a href=\"#Clean-text\" data-toc-modified-id=\"Clean-text-2.1\"><span class=\"toc-item-num\">2.1&nbsp;&nbsp;</span>Clean text</a></span></li><li><span><a href=\"#Encode\" data-toc-modified-id=\"Encode-2.2\"><span class=\"toc-item-num\">2.2&nbsp;&nbsp;</span>Encode</a></span></li><li><span><a href=\"#Subsample\" data-toc-modified-id=\"Subsample-2.3\"><span class=\"toc-item-num\">2.3&nbsp;&nbsp;</span>Subsample</a></span></li></ul></li><li><span><a href=\"#Create-batches\" data-toc-modified-id=\"Create-batches-3\"><span class=\"toc-item-num\">3&nbsp;&nbsp;</span>Create batches</a></span></li><li><span><a href=\"#Define-validation-function\" data-toc-modified-id=\"Define-validation-function-4\"><span class=\"toc-item-num\">4&nbsp;&nbsp;</span>Define validation function</a></span><ul class=\"toc-item\"><li><span><a href=\"#Pad-/-truncate-sequences\" data-toc-modified-id=\"Pad-/-truncate-sequences-4.1\"><span class=\"toc-item-num\">4.1&nbsp;&nbsp;</span>Pad / truncate sequences</a></span></li><li><span><a href=\"#Split-into-Training,-Validation,-Test\" data-toc-modified-id=\"Split-into-Training,-Validation,-Test-4.2\"><span class=\"toc-item-num\">4.2&nbsp;&nbsp;</span>Split into Training, Validation, Test</a></span></li><li><span><a href=\"#DataLoaders-and-Batching\" data-toc-modified-id=\"DataLoaders-and-Batching-4.3\"><span class=\"toc-item-num\">4.3&nbsp;&nbsp;</span>DataLoaders and Batching</a></span></li></ul></li><li><span><a href=\"#Instantiate-the-network\" data-toc-modified-id=\"Instantiate-the-network-5\"><span class=\"toc-item-num\">5&nbsp;&nbsp;</span>Instantiate the network</a></span></li><li><span><a href=\"#Training\" data-toc-modified-id=\"Training-6\"><span class=\"toc-item-num\">6&nbsp;&nbsp;</span>Training</a></span></li><li><span><a href=\"#Testing\" data-toc-modified-id=\"Testing-7\"><span class=\"toc-item-num\">7&nbsp;&nbsp;</span>Testing</a></span><ul class=\"toc-item\"><li><span><a href=\"#Inference-on-a-test-review\" data-toc-modified-id=\"Inference-on-a-test-review-7.1\"><span class=\"toc-item-num\">7.1&nbsp;&nbsp;</span>Inference on a test review</a></span></li></ul></li></ul></div>"
   ]
  },
  {
   "cell_type": "markdown",
   "metadata": {},
   "source": [
    "## Import libraries, load data"
   ]
  },
  {
   "cell_type": "code",
   "execution_count": 73,
   "metadata": {
    "ExecuteTime": {
     "end_time": "2019-12-05T15:52:51.866187Z",
     "start_time": "2019-12-05T15:52:51.800989Z"
    }
   },
   "outputs": [],
   "source": [
    "from collections import Counter\n",
    "from random import choices, random\n",
    "import numpy as np\n",
    "\n",
    "import torch\n",
    "from torch.utils.data import TensorDataset, DataLoader\n",
    "\n",
    "import matplotlib.pyplot as plt\n",
    "import seaborn as sns\n",
    "sns.set(), sns.set_style('whitegrid')\n",
    "%matplotlib inline"
   ]
  },
  {
   "cell_type": "code",
   "execution_count": 2,
   "metadata": {
    "ExecuteTime": {
     "end_time": "2019-12-05T14:19:57.350552Z",
     "start_time": "2019-12-05T14:19:57.046860Z"
    }
   },
   "outputs": [],
   "source": [
    "# Read data from text files\n",
    "with open('data/reviews.txt', 'r') as f:\n",
    "    reviews = f.read()\n",
    "with open('data/labels.txt', 'r') as f:\n",
    "    labels = f.read()"
   ]
  },
  {
   "cell_type": "code",
   "execution_count": 3,
   "metadata": {
    "ExecuteTime": {
     "end_time": "2019-12-05T14:19:59.709814Z",
     "start_time": "2019-12-05T14:19:57.356615Z"
    }
   },
   "outputs": [
    {
     "name": "stdout",
     "output_type": "stream",
     "text": [
      "Number of reviews: 25001\n",
      "Number of unique words in reviews: 74073\n"
     ]
    }
   ],
   "source": [
    "# Print some stats about the reviews\n",
    "reviews_list = reviews.split('\\n')\n",
    "labels_list = labels.split('\\n')\n",
    "print(\"Number of reviews:\", len(reviews_list))\n",
    "print(\"Number of unique words in reviews:\", len(set(reviews.split())))"
   ]
  },
  {
   "cell_type": "markdown",
   "metadata": {},
   "source": [
    "## Data pre-processing\n",
    "\n",
    "### Clean text\n",
    "- Normalize (all lowercase)\n",
    "- Replace punctuation (Note: Punktuation is actually already removed from this text, except of periods (padded with empty spaces) and new lines.)\n",
    "- Remove all words with an occurence of only 2 times or less"
   ]
  },
  {
   "cell_type": "code",
   "execution_count": 7,
   "metadata": {
    "ExecuteTime": {
     "end_time": "2019-12-05T14:20:36.983734Z",
     "start_time": "2019-12-05T14:20:36.944711Z"
    }
   },
   "outputs": [],
   "source": [
    "def clean_text(text, trim_threshold=5):\n",
    "    \"\"\"Clean the input text (replace punctuation, remove unfrequent words) \n",
    "    and split it into individual reviews. Return cleaned text as list of\n",
    "    reviews and as one large string.\n",
    "    \n",
    "    Arguments:\n",
    "    ----------\n",
    "    - text: string, input text with a delimiter '\\n' for individual elements\n",
    "    - trim_threshold: int, all words with <= this frequency will be removed\n",
    "    \n",
    "    Returns:\n",
    "    --------\n",
    "    - text_complete: str, cleaned text \n",
    "    - reviews_list: list of strings, cleaned text split into individual reviews\n",
    "    \"\"\"\n",
    "    \n",
    "    # Replace punctuation with tokens so we can use them in our model\n",
    "    text = text.lower()\n",
    "    text = text.replace('.', '<PERIOD>')  # watch whitespaces\n",
    "    text = text.replace(',', ' <COMMA> ')\n",
    "    text = text.replace('\"', ' <QUOTATION_Double> ')\n",
    "    text = text.replace(\"''\", '<QUOTATION')\n",
    "    text = text.replace(';', ' <SEMICOLON> ')\n",
    "    text = text.replace('!', ' <EXCLAMATION_MARK> ')\n",
    "    text = text.replace('?', ' <QUESTION_MARK> ')\n",
    "    text = text.replace('(', ' <LEFT_PAREN> ')\n",
    "    text = text.replace(')', ' <RIGHT_PAREN> ')\n",
    "    text = text.replace('--', ' <HYPHENS> ')\n",
    "    text = text.replace('?', ' <QUESTION_MARK> ')\n",
    "    text = text.replace('\\n', ' <NEW_LINE> ')  # watch whitespaces\n",
    "    text = text.replace(':', ' <COLON> ')\n",
    "      \n",
    "    # Remove all words with x or fewer occurences\n",
    "    words_all = text.split(\" \")\n",
    "    word_counts = Counter(words_all)\n",
    "    words_trimmed = [word for word in words_all if word_counts[word] > trim_threshold]\n",
    "    text_trimmed = ' '.join([word for word in words_trimmed])\n",
    "\n",
    "    # Split by new lines, reassemble (without new lines)\n",
    "    reviews_list = text_trimmed.split(' <NEW_LINE>')\n",
    "    text_complete = ' '.join(reviews_list)\n",
    "\n",
    "    return text_complete, reviews_list"
   ]
  },
  {
   "cell_type": "code",
   "execution_count": 35,
   "metadata": {
    "ExecuteTime": {
     "end_time": "2019-12-05T14:43:08.403951Z",
     "start_time": "2019-12-05T14:43:00.791233Z"
    }
   },
   "outputs": [],
   "source": [
    "text_complete, reviews_list = clean_text(reviews, trim_threshold=2)"
   ]
  },
  {
   "cell_type": "code",
   "execution_count": 36,
   "metadata": {
    "ExecuteTime": {
     "end_time": "2019-12-05T14:43:10.623219Z",
     "start_time": "2019-12-05T14:43:08.410245Z"
    }
   },
   "outputs": [
    {
     "name": "stdout",
     "output_type": "stream",
     "text": [
      "Number of reviews: 25001\n",
      "Number of unique words in text_complete: 37442\n"
     ]
    }
   ],
   "source": [
    "# Check results\n",
    "vocab_list = list(set(text_complete.split()))\n",
    "print(\"Number of reviews:\", len(reviews_list))\n",
    "print(\"Number of unique words in text_complete:\", len(vocab_list))"
   ]
  },
  {
   "cell_type": "markdown",
   "metadata": {},
   "source": [
    "**Note:** Approx. halving the vocabulary by removing words with 2 or less occurrences!\n",
    "\n",
    "One more thing: According to docs there should be only 25'000 reviews. We have one too much, probably an empty one, caused by an final '\\n' (see next cell)."
   ]
  },
  {
   "cell_type": "code",
   "execution_count": 37,
   "metadata": {
    "ExecuteTime": {
     "end_time": "2019-12-05T14:43:10.638425Z",
     "start_time": "2019-12-05T14:43:10.628192Z"
    }
   },
   "outputs": [
    {
     "data": {
      "text/plain": [
       "'e\\npositive\\nnegative\\n'"
      ]
     },
     "execution_count": 37,
     "metadata": {},
     "output_type": "execute_result"
    }
   ],
   "source": [
    "labels[-20:]"
   ]
  },
  {
   "cell_type": "code",
   "execution_count": 38,
   "metadata": {
    "ExecuteTime": {
     "end_time": "2019-12-05T14:43:10.687845Z",
     "start_time": "2019-12-05T14:43:10.642867Z"
    }
   },
   "outputs": [
    {
     "name": "stdout",
     "output_type": "stream",
     "text": [
      "Number of reviews after removing outliers:  25000\n"
     ]
    }
   ],
   "source": [
    "# Remove any reviews/labels with zero length from the reviews_ints list.\n",
    "idx_to_remove = [len(x) for x in reviews_list].index(1)\n",
    "reviews_list.pop(idx_to_remove)\n",
    "\n",
    "try:\n",
    "    labels_list = labels.split().pop(idx_to_remove)\n",
    "except IndexError:\n",
    "    labels_list = labels.split()\n",
    "\n",
    "print('Number of reviews after removing outliers: ', len(reviews_list))\n",
    "assert len(reviews_list) == len(labels_list)"
   ]
  },
  {
   "cell_type": "markdown",
   "metadata": {},
   "source": [
    "### Encode\n",
    "\n",
    "Create 2 dicts mapping words in vocabulary to integers and vice-versa. \n",
    "- make sure that most frequent words get lowest int representation\n",
    "- leave pos [0] for padding (see next section)"
   ]
  },
  {
   "cell_type": "code",
   "execution_count": 48,
   "metadata": {
    "ExecuteTime": {
     "end_time": "2019-12-05T15:05:43.790655Z",
     "start_time": "2019-12-05T15:05:43.775141Z"
    }
   },
   "outputs": [],
   "source": [
    "def encode_text(text, start_pos=0):\n",
    "    \"\"\"Encode words to integers (and vice versa), so that most frequent words\n",
    "    get lowest int representations. Return two mapping dictionaries.\n",
    "    \n",
    "    Arguments:\n",
    "    ----------\n",
    "    - text: string, input text with words delimited by whitespaces\n",
    "    - start_pos: int, value for first integer representation (default=0)\n",
    "    \n",
    "    Returns:\n",
    "    --------\n",
    "    - vocab_to_int: dict, mapping of words to ints (most frequent come first)\n",
    "    - int_to_vocab: dict, mapping of ints to words\n",
    "    \"\"\"\n",
    "\n",
    "    word_count_dict = Counter(text.split())\n",
    "    vocab = sorted(word_count_dict, key=word_count_dict.get, reverse=True)\n",
    "    vocab_to_int = {word: i for i, word in enumerate(vocab, start_pos)}\n",
    "    int_to_vocab = {i: word for i, word in enumerate(vocab, start_pos)}\n",
    "\n",
    "    return vocab_to_int, int_to_vocab"
   ]
  },
  {
   "cell_type": "code",
   "execution_count": 55,
   "metadata": {
    "ExecuteTime": {
     "end_time": "2019-12-05T15:12:35.474090Z",
     "start_time": "2019-12-05T15:12:32.472412Z"
    }
   },
   "outputs": [],
   "source": [
    "vocab_to_int, int_to_vocab = encode_text(text_complete, start_pos=1)"
   ]
  },
  {
   "cell_type": "code",
   "execution_count": 54,
   "metadata": {
    "ExecuteTime": {
     "end_time": "2019-12-05T15:12:16.206185Z",
     "start_time": "2019-12-05T15:12:16.161512Z"
    }
   },
   "outputs": [
    {
     "name": "stdout",
     "output_type": "stream",
     "text": [
      "Unique words:  37442\n",
      "[('the', 1), ('<PERIOD>', 2), ('and', 3), ('a', 4), ('of', 5)]\n",
      "[(1, 'the'), (2, '<PERIOD>'), (3, 'and'), (4, 'a'), (5, 'of')]\n"
     ]
    }
   ],
   "source": [
    "# Check results\n",
    "print('Unique words: ', len((vocab_to_int)))\n",
    "assert len(vocab_to_int) == len(vocab_list)\n",
    "print(list(vocab_to_int.items())[:5])\n",
    "print(list(int_to_vocab.items())[:5])"
   ]
  },
  {
   "cell_type": "markdown",
   "metadata": {},
   "source": [
    "### Subsample\n",
    "\n",
    "Discard some high-frequent words from our data and in return get faster training and better representations (noise reduction). (According to [Neural Information Processing Systems, paper](http://papers.nips.cc/paper/5021-distributed-representations-of-words-and-phrases-and-their-compositionality.pdf), Mikolov et al.)\n"
   ]
  },
  {
   "cell_type": "code",
   "execution_count": 71,
   "metadata": {
    "ExecuteTime": {
     "end_time": "2019-12-05T15:52:33.967695Z",
     "start_time": "2019-12-05T15:52:33.827713Z"
    }
   },
   "outputs": [],
   "source": [
    "def subsample(text, vocab_to_int, threshold=1e-5):\n",
    "    \"\"\"Discard some frequent words, according to the subsampling equation.\n",
    "    Return a new (reduced) list of words for training. \n",
    "    \n",
    "    Arguments:\n",
    "    ----------\n",
    "    - text: string, dict, mapping of words to ints (most frequent come first)\n",
    "    - vocab_to_int: int, value for first integer representation (default=0)\n",
    "    - threshold: float, threshold for 'random discarding' a word (default=1e-5)\n",
    "    \n",
    "    Returns:\n",
    "    --------\n",
    "    - words_train: list, subsampled text represented in ints instead of words\n",
    "    \"\"\" \n",
    "    \n",
    "    # Encode the whole text into a list of ints using a mapping dict\n",
    "    int_words = [vocab_to_int[word] for word in text.split()]\n",
    "    # Create dictionary of int_words, showing their frequencies\n",
    "    word_counts = Counter(int_words)  \n",
    "    \n",
    "    total_count = len(int_words)\n",
    "    freqs = {word: count / total_count for word, count in word_counts.items()}\n",
    "    p_drop = {word: 1 - np.sqrt(threshold / freqs[word]) for word in word_counts}\n",
    "\n",
    "    words_train = [word for word in int_words if random() < (1 - p_drop[word])]\n",
    "    \n",
    "    return words_train"
   ]
  },
  {
   "cell_type": "code",
   "execution_count": 85,
   "metadata": {
    "ExecuteTime": {
     "end_time": "2019-12-05T16:11:20.865405Z",
     "start_time": "2019-12-05T16:11:11.961585Z"
    }
   },
   "outputs": [],
   "source": [
    "words_train = subsample(text_complete, vocab_to_int)"
   ]
  },
  {
   "cell_type": "code",
   "execution_count": 86,
   "metadata": {
    "ExecuteTime": {
     "end_time": "2019-12-05T16:11:22.307996Z",
     "start_time": "2019-12-05T16:11:20.871062Z"
    }
   },
   "outputs": [
    {
     "name": "stdout",
     "output_type": "stream",
     "text": [
      "Length train text: 1333721\n",
      "Length initial text: 6301782\n"
     ]
    }
   ],
   "source": [
    "# Check results\n",
    "print(\"Length train text:\", len(words_train))\n",
    "print(\"Length initial text:\", len(text_complete.split()))"
   ]
  },
  {
   "cell_type": "code",
   "execution_count": 87,
   "metadata": {
    "ExecuteTime": {
     "end_time": "2019-12-05T16:11:29.068645Z",
     "start_time": "2019-12-05T16:11:29.053999Z"
    }
   },
   "outputs": [
    {
     "name": "stdout",
     "output_type": "stream",
     "text": [
      "[21026, 2139, 82, 5786, 5195, 2, 4976, 5853, 21026, 309]\n"
     ]
    }
   ],
   "source": [
    "print(words_train[:10])"
   ]
  },
  {
   "cell_type": "markdown",
   "metadata": {},
   "source": [
    "## Create batches\n",
    "\n",
    "\"Since the more distant words are usually less related to the current word than those close to it, we give less weight to the distant words by sampling less from those words in our training examples... If we choose $C = 5$, for each training word we will select randomly a number $R$ in range $[ 1: C ]$, and then use $R$ words from history and $R$ words from the future of the current word as correct labels.\"\n",
    "\n",
    "(According to [First Word2Vec paper](https://arxiv.org/pdf/1301.3781.pdf) from Mikolov et al.)"
   ]
  },
  {
   "cell_type": "code",
   "execution_count": 88,
   "metadata": {
    "ExecuteTime": {
     "end_time": "2019-12-05T16:23:23.192921Z",
     "start_time": "2019-12-05T16:23:23.172824Z"
    }
   },
   "outputs": [],
   "source": [
    "# This function will be called within the next function\n",
    "\n",
    "def get_target(words, idx, window_size=5):\n",
    "    \"\"\" Get a random-length list of target words (ints) in a window around \n",
    "    an input index (the input word).\n",
    "    \n",
    "    Arguments:\n",
    "    ----------\n",
    "    - words: list, text represented as list of words / ints\n",
    "    - idx: int, the index of the input word in words\n",
    "    - window_size: max window to and from idx to get target words\n",
    "    \n",
    "    Returns:\n",
    "    --------\n",
    "    - target: list, of words near the idx, the 'label' four our input\n",
    "    \n",
    "    \"\"\"\n",
    "    \n",
    "    R = np.random.randint(1, window_size+1)\n",
    "    min_val = np.max([idx-R, 0])  # make sure no neg index occurs, not necessary for values at end\n",
    "    target = words[min_val : idx] + words[idx+1 : idx+R+1]\n",
    "    \n",
    "    return target"
   ]
  },
  {
   "cell_type": "code",
   "execution_count": 89,
   "metadata": {
    "ExecuteTime": {
     "end_time": "2019-12-05T16:23:24.451392Z",
     "start_time": "2019-12-05T16:23:24.438036Z"
    }
   },
   "outputs": [],
   "source": [
    "def get_batches(words, batch_size, window_size=5):\n",
    "    \"\"\"Create a generator of word batches as a tuple (inputs, targets). It\n",
    "    grabs `batch_size` words from a words list. Then for each of those \n",
    "    batches, it gets the target words in a window.\n",
    "    \n",
    "    Arguments:\n",
    "    ----------\n",
    "    - words: list, text represented as list of words / ints\n",
    "    - batch size: int, number of inputs to form one batch\n",
    "    - window_size: max window to and from idx to get target words\n",
    "    \n",
    "    Returns:\n",
    "    --------\n",
    "    - x, y: lists, inputs und corresponding labels for one batch at a time\n",
    "    \n",
    "    \"\"\"\n",
    "    \n",
    "    n_batches = len(words)//batch_size\n",
    "    \n",
    "    # only full batches\n",
    "    words = words[:n_batches*batch_size]\n",
    "    \n",
    "    for idx in range(0, len(words), batch_size):\n",
    "        x, y = [], []\n",
    "        batch = words[idx : idx+batch_size]\n",
    "        for ii in range(len(batch)):\n",
    "            batch_x = batch[ii]\n",
    "            batch_y = get_target(batch, ii, window_size)\n",
    "            y.extend(batch_y)  # each batch x and y will be one row of values\n",
    "            x.extend([batch_x]*len(batch_y))\n",
    "        yield x, y"
   ]
  },
  {
   "cell_type": "code",
   "execution_count": 96,
   "metadata": {
    "ExecuteTime": {
     "end_time": "2019-12-05T16:40:32.007878Z",
     "start_time": "2019-12-05T16:40:31.991837Z"
    }
   },
   "outputs": [
    {
     "name": "stdout",
     "output_type": "stream",
     "text": [
      "x\n",
      " ['A', 'A', 'A', 'B', 'B', 'B', 'C', 'C', 'D', 'D', 'D']\n",
      "y\n",
      " ['B', 'C', 'D', 'A', 'C', 'D', 'B', 'D', 'A', 'B', 'C']\n"
     ]
    }
   ],
   "source": [
    "# Check results\n",
    "test_text = ['A', 'B', 'C', 'D', 'E', 'F', 'G']\n",
    "x, y = next(get_batches(test_text, batch_size=4, window_size=5))\n",
    "\n",
    "print('x\\n', x)\n",
    "print('y\\n', y)"
   ]
  },
  {
   "cell_type": "markdown",
   "metadata": {},
   "source": [
    "## Define validation function\n",
    "\n",
    "This function helps observing the model during training. It will print out the closest words to some input words using the _cosine similarity_. We will input a mix of a few common words and a few uncommon words.\n",
    "\n",
    "\n",
    "We can encode the validation words as vectors $\\vec{a}$ using the embedding table, then calculate the similarity with each word vector $\\vec{b}$ in the embedding table. With the similarities, we can print out the validation words and words in our embedding table semantically similar to those words. "
   ]
  },
  {
   "cell_type": "code",
   "execution_count": null,
   "metadata": {},
   "outputs": [],
   "source": [
    "def cosine_similarity(embedding, valid_size=16, valid_window=100, device='cpu'):\n",
    "    \"\"\" Returns the cosine similarity of validation words with words in the \n",
    "    embedding matrix.\n",
    "    \n",
    "    Arguments:\n",
    "    ----------\n",
    "    - embedding: a PyTorch embedding module\n",
    "    \n",
    "    \n",
    "    \n",
    "    \"\"\"\n",
    "    \n",
    "    # Calculate the cosine similarity between some random words and the embedding vectors. \n",
    "    # With the similarities, we can look at what words are close to our random words.\n",
    "    # sim = (a . b) / |a||b|\n",
    "    \n",
    "    embed_vectors = embedding.weight\n",
    "    \n",
    "    # Calculate magnitude of embedding vectors, |b|\n",
    "    magnitudes = embed_vectors.pow(2).sum(dim=1).sqrt().unsqueeze(0)\n",
    "    \n",
    "    # Pick N words from our ranges (0, window) and (1000, 1000+window). \n",
    "    # lower id implies more frequent words, higher id more uncommon words\n",
    "    valid_examples = np.array(random.sample(range(valid_window), valid_size//2))\n",
    "    valid_examples = np.append(valid_examples,\n",
    "                               random.sample(range(1000, 1000+valid_window), valid_size//2))\n",
    "    valid_examples = torch.LongTensor(valid_examples).to(device)\n",
    "    \n",
    "    valid_vectors = embedding(valid_examples)\n",
    "    similarities = torch.mm(valid_vectors, embed_vectors.t()) / magnitudes\n",
    "        \n",
    "    return valid_examples, similarities"
   ]
  },
  {
   "cell_type": "code",
   "execution_count": null,
   "metadata": {},
   "outputs": [],
   "source": []
  },
  {
   "cell_type": "code",
   "execution_count": null,
   "metadata": {},
   "outputs": [],
   "source": []
  },
  {
   "cell_type": "code",
   "execution_count": null,
   "metadata": {},
   "outputs": [],
   "source": []
  },
  {
   "cell_type": "code",
   "execution_count": null,
   "metadata": {},
   "outputs": [],
   "source": []
  },
  {
   "cell_type": "code",
   "execution_count": null,
   "metadata": {},
   "outputs": [],
   "source": []
  },
  {
   "cell_type": "code",
   "execution_count": null,
   "metadata": {},
   "outputs": [],
   "source": []
  },
  {
   "cell_type": "code",
   "execution_count": null,
   "metadata": {},
   "outputs": [],
   "source": []
  },
  {
   "cell_type": "code",
   "execution_count": null,
   "metadata": {},
   "outputs": [],
   "source": []
  },
  {
   "cell_type": "code",
   "execution_count": null,
   "metadata": {},
   "outputs": [],
   "source": []
  },
  {
   "cell_type": "code",
   "execution_count": null,
   "metadata": {},
   "outputs": [],
   "source": []
  },
  {
   "cell_type": "code",
   "execution_count": 56,
   "metadata": {
    "ExecuteTime": {
     "end_time": "2019-12-05T15:13:55.948112Z",
     "start_time": "2019-12-05T15:13:53.316849Z"
    }
   },
   "outputs": [],
   "source": [
    "# Tokenize each review in reviews_split\n",
    "reviews_ints = []\n",
    "for review in reviews_list:\n",
    "    review_int = [vocab_to_int[word] for word in review.split()]\n",
    "    reviews_ints.append(review_int)"
   ]
  },
  {
   "cell_type": "code",
   "execution_count": 61,
   "metadata": {
    "ExecuteTime": {
     "end_time": "2019-12-05T15:15:53.374278Z",
     "start_time": "2019-12-05T15:15:53.361644Z"
    },
    "scrolled": true
   },
   "outputs": [
    {
     "name": "stdout",
     "output_type": "stream",
     "text": [
      "Tokenized review: [[21026, 309, 7, 4, 1051, 208, 2, 9, 2139, 33, 1, 172, 58, 16, 50, 82, 5786, 45, 383, 111, 141, 16, 5195, 2, 61, 155, 10, 1, 4976, 5853, 476, 72, 6, 261, 13, 21026, 309, 14, 1979, 7, 75, 2396, 6, 614, 74, 7, 5195, 2, 1, 24104, 6, 1984, 10167, 1, 5787, 1500, 37, 52, 67, 205, 146, 68, 1200, 5195, 19870, 1, 5, 1, 222, 884, 32, 2989, 72, 5, 1, 5788, 11, 687, 3, 68, 1500, 2, 55, 11, 217, 1, 384, 10, 63, 4, 1407, 3687, 784, 6, 3484, 181, 1, 383, 11, 1213, 13584, 2, 2, 2, 2, 2, 2, 2, 2, 2, 33, 2, 2, 2, 2, 2, 2, 2, 2, 2, 2, 309, 2, 4, 350, 342, 2914, 11, 144, 128, 6, 7691, 31, 5, 130, 5195, 2, 1407, 2327, 6, 21026, 309, 2, 11, 529, 13, 110, 1449, 5, 61, 544, 103, 13, 21026, 309, 7, 228, 4147, 2, 49, 4, 2212, 13, 9, 216, 24]]\n"
     ]
    }
   ],
   "source": [
    "# Check results\n",
    "print(\"Tokenized review:\", reviews_ints[:1])\n",
    "assert len(reviews_ints[0]) == len(reviews_list[0].split())"
   ]
  },
  {
   "cell_type": "markdown",
   "metadata": {},
   "source": [
    "Next: Encode the labels 1 = positive, 0 = negative"
   ]
  },
  {
   "cell_type": "code",
   "execution_count": 62,
   "metadata": {
    "ExecuteTime": {
     "end_time": "2019-12-05T15:18:05.968883Z",
     "start_time": "2019-12-05T15:18:05.954666Z"
    }
   },
   "outputs": [],
   "source": [
    "labels_array = np.array([1 if label == 'positive' else 0 for label in labels.split('\\n')])"
   ]
  },
  {
   "cell_type": "code",
   "execution_count": 63,
   "metadata": {
    "ExecuteTime": {
     "end_time": "2019-12-05T15:18:24.124279Z",
     "start_time": "2019-12-05T15:18:24.111592Z"
    }
   },
   "outputs": [
    {
     "data": {
      "text/plain": [
       "array([1, 0, 1, 0, 1])"
      ]
     },
     "execution_count": 63,
     "metadata": {},
     "output_type": "execute_result"
    }
   ],
   "source": [
    "# Check results\n",
    "labels_array[:5]"
   ]
  },
  {
   "cell_type": "markdown",
   "metadata": {},
   "source": [
    "### Create features: Pad / truncate reviews\n",
    "\n",
    "To have a uniform input format, I'll pad or truncate all reviews to a specific length. For reviews shorter than some `seq_length`, I'll pad with 0s (from start). For reviews longer than `seq_length`, we can truncate them to the first `seq_length` words. \n",
    "\n",
    "> **Exercise:** Define a function that returns an array `features` that contains the padded data, of a standard size, that we'll pass to the network. \n",
    "* The data should come from `review_ints`, since we want to feed integers to the network. \n",
    "* Each row should be `seq_length` elements long. \n",
    "* For reviews shorter than `seq_length` words, **left pad** with 0s. That is, if the review is `['best', 'movie', 'ever']`, `[117, 18, 128]` as integers, the row will look like `[0, 0, 0, ..., 0, 117, 18, 128]`. \n",
    "* For reviews longer than `seq_length`, use only the first `seq_length` words as the feature vector.\n",
    "\n",
    "As a small example, if the `seq_length=10` and an input review is: \n",
    "```\n",
    "[117, 18, 128]\n",
    "```\n",
    "The resultant, padded sequence should be: \n",
    "\n",
    "```\n",
    "[0, 0, 0, 0, 0, 0, 0, 117, 18, 128]\n",
    "```\n",
    "\n",
    "**Your final `features` array should be a 2D array, with as many rows as there are reviews, and as many columns as the specified `seq_length`.**"
   ]
  },
  {
   "cell_type": "code",
   "execution_count": null,
   "metadata": {},
   "outputs": [],
   "source": [
    "# Outlier review stats\n",
    "review_lens = Counter([len(x) for x in reviews_ints])\n",
    "print(\"Zero-length reviews: {}\".format(review_lens[0]))\n",
    "print(\"Maximum review length: {}\".format(max(review_lens)))\n",
    "\n",
    "plt.figure()\n",
    "plt.hist([len(x) for x in reviews_ints], bins=100, color='rebeccapurple');"
   ]
  },
  {
   "cell_type": "code",
   "execution_count": null,
   "metadata": {},
   "outputs": [],
   "source": [
    "def pad_features(reviews_ints, seq_length):\n",
    "    ''' Return features of review_ints, where each review is left-padded with 0's \n",
    "        or truncated to the input seq_length.\n",
    "    '''\n",
    "       \n",
    "    features = np.zeros((len(reviews_ints), seq_length), dtype=int)\n",
    "    \n",
    "    for i, review in enumerate(reviews_ints):\n",
    "        features[i, -len(review):] = np.array(review[:seq_length])\n",
    "    \n",
    "    return features"
   ]
  },
  {
   "cell_type": "code",
   "execution_count": null,
   "metadata": {},
   "outputs": [],
   "source": [
    "# Test implementation\n",
    "seq_length = 200\n",
    "features = pad_features(reviews_ints, seq_length=seq_length)\n",
    "\n",
    "assert len(features)==len(reviews_ints), \"Your features should have as many rows as reviews.\"\n",
    "assert len(features[0])==seq_length, \"Each feature row should contain seq_length values.\"\n",
    "\n",
    "# Print first 10 values of the first 5 batches \n",
    "print(features[:5,:10])"
   ]
  },
  {
   "cell_type": "markdown",
   "metadata": {},
   "source": [
    "### Split into Training, Validation, Test\n",
    "\n",
    "With our data in nice shape, we'll split it into training, validation, and test sets.\n"
   ]
  },
  {
   "cell_type": "code",
   "execution_count": null,
   "metadata": {},
   "outputs": [],
   "source": [
    "split_frac = 0.8\n",
    "\n",
    "# Split data into training, validation, and test data (features and labels, x and y)\n",
    "upper_train = int(len(features) * split_frac)\n",
    "upper_val = int(upper_train + (len(features) * (1-split_frac) / 2))\n",
    "\n",
    "\n",
    "train_x = features[:upper_train, :]\n",
    "val_x = features[upper_train : upper_val, :]\n",
    "test_x = features[upper_val: , :]\n",
    "\n",
    "train_y = encoded_labels[:upper_train]\n",
    "val_y = encoded_labels[upper_train : upper_val]\n",
    "test_y = encoded_labels[upper_val:]\n",
    "\n",
    "# Print out the shapes of resultant feature data\n",
    "print(train_x.shape)\n",
    "print(val_x.shape)\n",
    "print(test_x.shape)"
   ]
  },
  {
   "cell_type": "markdown",
   "metadata": {},
   "source": [
    "### DataLoaders and Batching\n",
    "\n",
    "After creating training, test, and validation data, we can create DataLoaders for this data by following two steps:\n",
    "1. Create a known format for accessing our data, using [TensorDataset](https://pytorch.org/docs/stable/data.html#) which takes in an input set of data and a target set of data with the same first dimension, and creates a dataset.\n",
    "2. Create DataLoaders and batch our training, validation, and test Tensor datasets.\n",
    "\n",
    "```\n",
    "train_data = TensorDataset(torch.from_numpy(train_x), torch.from_numpy(train_y))\n",
    "train_loader = DataLoader(train_data, batch_size=batch_size)\n",
    "```\n",
    "\n",
    "This is an alternative to creating a generator function for batching our data into full batches."
   ]
  },
  {
   "cell_type": "code",
   "execution_count": null,
   "metadata": {},
   "outputs": [],
   "source": [
    "# Create Tensor datasets\n",
    "train_data = TensorDataset(torch.from_numpy(train_x), torch.from_numpy(train_y))\n",
    "valid_data = TensorDataset(torch.from_numpy(val_x), torch.from_numpy(val_y))\n",
    "test_data = TensorDataset(torch.from_numpy(test_x), torch.from_numpy(test_y))\n",
    "\n",
    "# Dataloaders\n",
    "batch_size = 50\n",
    "train_loader = DataLoader(train_data, shuffle=True, batch_size=batch_size) # make sure to SHUFFLE your data\n",
    "valid_loader = DataLoader(valid_data, shuffle=True, batch_size=batch_size)\n",
    "test_loader = DataLoader(test_data, shuffle=True, batch_size=batch_size)"
   ]
  },
  {
   "cell_type": "code",
   "execution_count": null,
   "metadata": {},
   "outputs": [],
   "source": [
    "# Obtain one batch of training data\n",
    "dataiter = iter(train_loader)\n",
    "sample_x, sample_y = dataiter.next()\n",
    "\n",
    "print('Sample input size: ', sample_x.size()) # batch_size, seq_length\n",
    "print('Sample input: \\n', sample_x)\n",
    "print()\n",
    "print('Sample label size: ', sample_y.size()) # batch_size\n",
    "print('Sample label: \\n', sample_y)"
   ]
  },
  {
   "cell_type": "markdown",
   "metadata": {},
   "source": [
    "---\n",
    "# Sentiment Network with PyTorch\n",
    "\n",
    "Below is the basic network architecture:\n",
    "\n",
    "<img src=\"assets/network_diagram.png\" width=40%>\n",
    "\n",
    "The layers are as follows:\n",
    "1. An [embedding layer](https://pytorch.org/docs/stable/nn.html#embedding) that converts our word tokens (integers) into embeddings of a specific size (dimensionality reduction).\n",
    "2. An [LSTM layer](https://pytorch.org/docs/stable/nn.html#lstm) defined by a hidden_state size and number of layers\n",
    "3. A fully-connected output layer that maps the LSTM layer outputs to a desired output_size\n",
    "4. A sigmoid activation layer which turns all outputs into a value 0-1; we return **only the last sigmoid output** as the output of this network.\n",
    "\n",
    "**The Embedding Layer:** We need to add an [embedding layer](https://pytorch.org/docs/stable/nn.html#embedding) because there are 74000+ words in our vocabulary. It is massively inefficient to one-hot encode that many classes. So, instead of one-hot encoding, we can have an embedding layer and use that layer as a lookup table. We could train an embedding layer using Word2Vec (see last project), then load it here. But for this implementation, it's fine to just make a new layer, using it for only dimensionality reduction, and let the network learn the weights.\n",
    "\n",
    "**The LSTM Layer(s):** We'll create an [LSTM](https://pytorch.org/docs/stable/nn.html#lstm) to use in our recurrent network, which takes in an input_size, a hidden_dim, a number of layers, a dropout probability (for dropout between multiple layers), and a batch_first parameter."
   ]
  },
  {
   "cell_type": "code",
   "execution_count": null,
   "metadata": {},
   "outputs": [],
   "source": [
    "# First checking if GPU is available\n",
    "train_on_gpu=torch.cuda.is_available()\n",
    "\n",
    "if(train_on_gpu):\n",
    "    print('Training on GPU.')\n",
    "else:\n",
    "    print('No GPU available, training on CPU.')"
   ]
  },
  {
   "cell_type": "code",
   "execution_count": null,
   "metadata": {},
   "outputs": [],
   "source": [
    "import torch.nn as nn\n",
    "\n",
    "class SentimentRNN(nn.Module):\n",
    "    \"\"\"\n",
    "    The RNN model that will be used to perform Sentiment analysis.\n",
    "    \"\"\"\n",
    "\n",
    "    def __init__(self, vocab_size, output_size, embedding_dim, \n",
    "                 hidden_dim, n_layers, drop_prob=0.5):\n",
    "        \"\"\"\n",
    "        Initialize the model by setting up the layers.\n",
    "        \"\"\"\n",
    "        super(SentimentRNN, self).__init__()\n",
    "\n",
    "        self.output_size = output_size\n",
    "        self.n_layers = n_layers\n",
    "        self.hidden_dim = hidden_dim\n",
    "        \n",
    "        # Define all layers\n",
    "        self.embed = nn.Embedding(vocab_size, embedding_dim)\n",
    "        self.lstm = nn.LSTM(embedding_dim, hidden_dim, n_layers, batch_first=True, dropout=drop_prob)\n",
    "        self.dropout = nn.Dropout(0.3)\n",
    "        self.fc = nn.Linear(hidden_dim, output_size)\n",
    "        self.sig = nn.Sigmoid()\n",
    "\n",
    "    def forward(self, x, hidden):\n",
    "        \"\"\"\n",
    "        Perform a forward pass of our model on some input and hidden state.\n",
    "        \"\"\"\n",
    "        batch_size = x.size(0)\n",
    "            \n",
    "        embeddings = self.embed(x)\n",
    "        lstm_out, hidden = self.lstm(embeddings, hidden)\n",
    "        lstm_out = lstm_out.contiguous().view(-1, self.hidden_dim) # stack-up LSTM output\n",
    "        out = self.dropout(lstm_out) \n",
    "        out = self.fc(out)\n",
    "        sig_out = self.sig(out)\n",
    "        \n",
    "        \n",
    "        # Reshape to be batch_size first\n",
    "        sig_out = sig_out.view(batch_size, -1)\n",
    "        sig_out = sig_out[:, -1]  # get last batch of labels only!\n",
    "        \n",
    "        \n",
    "        # return last sigmoid output and hidden state\n",
    "        return sig_out, hidden\n",
    "    \n",
    "    \n",
    "    def init_hidden(self, batch_size):\n",
    "        \"\"\"\n",
    "        Initializes hidden state to all zeros and move to GPU if available.\n",
    "        \"\"\"\n",
    "        # Create two new tensors with sizes n_layers x batch_size x hidden_dim,\n",
    "        # initialized to zero, for hidden state and cell state of LSTM\n",
    "        weight = next(self.parameters()).data\n",
    "        \n",
    "        if (train_on_gpu):\n",
    "            hidden = (weight.new(self.n_layers, batch_size, self.hidden_dim).zero_().cuda(),\n",
    "                  weight.new(self.n_layers, batch_size, self.hidden_dim).zero_().cuda())\n",
    "        else:\n",
    "            hidden = (weight.new(self.n_layers, batch_size, self.hidden_dim).zero_(),\n",
    "                      weight.new(self.n_layers, batch_size, self.hidden_dim).zero_())\n",
    "        \n",
    "        return hidden\n",
    "        "
   ]
  },
  {
   "cell_type": "markdown",
   "metadata": {},
   "source": [
    "`__init__` **explanation:**\n",
    "- First I have an embedding layer, which should take in the size of our vocabulary (our number of integer tokens) and produce an embedding of embedding_dim size. So, as this model trains, this is going to create and embedding lookup table that has as many rows as we have word integers, and as many columns as the embedding dimension.\n",
    "\n",
    "- Then, I have an LSTM layer, which takes in inputs of embedding_dim size. So, it's accepting embeddings as inputs, and producing an output and hidden state of a hidden size. I am also specifying a number of layers, and a dropout value, and finally, I’m setting batch_first to True because we are using DataLoaders to batch our data like that!\n",
    "\n",
    "- Then, the LSTM outputs are passed to a dropout layer and then a fully-connected, linear layer that will produce output_size number of outputs. And finally, I’ve defined a sigmoid layer to convert the output to a value between 0-1.\n",
    "\n",
    "\n",
    "`forward` **explanation:**\n",
    "- First, I'm getting the batch_size of my input x, which I’ll use for shaping my data. Then, I'm passing x through the embedding layer first, to get my embeddings as output.\n",
    "\n",
    "- These embeddings are passed to the lstm layer, alongside a hidden state, and this returns an lstm_output and a new hidden state. Then I'm going to stack up the outputs of my LSTM to pass to my last linear layer.\n",
    "\n",
    "- Then I keep going, passing the reshaped lstm_output to a dropout layer and my linear layer, which should return a specified number of outputs that I will pass to my sigmoid activation function.\n",
    "\n",
    "- Finally, I want to make sure that I’m returning only the last of these sigmoid outputs for a batch of input data, so, I’m going to shape these outputs into a shape that is batch_size first. Then I'm getting the last bacth by calling `sig_out[:, -1]`.\n",
    "\n",
    "`init_hidden` **explanation:** The hidden and cell states of an LSTM are a tuple of values and each of these is size (n_layers by batch_size, by hidden_dim). I’m initializing these hidden weights to all zeros, and moving to a gpu if available."
   ]
  },
  {
   "cell_type": "markdown",
   "metadata": {},
   "source": [
    "## Instantiate the network\n",
    "\n",
    "Hyperparameters.\n",
    "\n",
    "* `vocab_size`: Size of our vocabulary or the range of values for our input, word tokens.\n",
    "* `output_size`: Size of our desired output; the number of class scores we want to output (pos/neg).\n",
    "* `embedding_dim`: Number of columns in the embedding lookup table; size of our embeddings.\n",
    "* `hidden_dim`: Number of units in the hidden layers of our LSTM cells. Usually larger is better performance wise. Common values are 128, 256, 512, etc.\n",
    "* `n_layers`: Number of LSTM layers in the network. Typically between 1-3\n"
   ]
  },
  {
   "cell_type": "code",
   "execution_count": null,
   "metadata": {},
   "outputs": [],
   "source": [
    "# Instantiate the model with hyperparams\n",
    "vocab_size = len(vocab_to_int) + 1  # add one slot for our '0' paddings!\n",
    "output_size = 1  # a sigmoid value between 0 and 1\n",
    "embedding_dim = 400 \n",
    "hidden_dim = 256 \n",
    "n_layers = 2\n",
    "\n",
    "net = SentimentRNN(vocab_size, output_size, embedding_dim, hidden_dim, n_layers)\n",
    "\n",
    "print(net)"
   ]
  },
  {
   "cell_type": "markdown",
   "metadata": {},
   "source": [
    "---\n",
    "## Training\n",
    "\n",
    "We use a kind of cross entropy loss, which is designed to work with a single Sigmoid output. [BCELoss](https://pytorch.org/docs/stable/nn.html#bceloss), or **Binary Cross Entropy Loss**, applies cross entropy loss to a single value between 0 and 1.\n",
    "\n",
    "We also have some data and training hyparameters:\n",
    "\n",
    "* `lr`: Learning rate for our optimizer.\n",
    "* `epochs`: Number of times to iterate through the training dataset.\n",
    "* `clip`: The maximum gradient value to clip at (to prevent exploding gradients)."
   ]
  },
  {
   "cell_type": "code",
   "execution_count": null,
   "metadata": {},
   "outputs": [],
   "source": [
    "# Loss and optimization functions\n",
    "lr=0.001\n",
    "\n",
    "criterion = nn.BCELoss()\n",
    "optimizer = torch.optim.Adam(net.parameters(), lr=lr)"
   ]
  },
  {
   "cell_type": "markdown",
   "metadata": {},
   "source": [
    "**Note on Output, target format:** In the training loop, we are making sure that our outputs are squeezed so that they do not have an empty dimension output.squeeze() and the labels are float tensors, labels.float(). Then we perform backpropagation as usual."
   ]
  },
  {
   "cell_type": "code",
   "execution_count": null,
   "metadata": {},
   "outputs": [],
   "source": [
    "# Training params\n",
    "\n",
    "epochs = 4 # 3-4 is approx where I noticed the validation loss stop decreasing\n",
    "\n",
    "counter = 0\n",
    "print_every = 100\n",
    "clip = 5  # gradient clipping\n",
    "\n",
    "# Move model to GPU, if available\n",
    "if(train_on_gpu):\n",
    "    net.cuda()\n",
    "\n",
    "net.train()\n",
    "# Train for some number of epochs\n",
    "for e in range(epochs):\n",
    "    # Initialize hidden state\n",
    "    h = net.init_hidden(batch_size)\n",
    "\n",
    "    # Batch loop\n",
    "    for inputs, labels in train_loader:\n",
    "        counter += 1\n",
    "\n",
    "        if(train_on_gpu):\n",
    "            inputs, labels = inputs.cuda(), labels.cuda()\n",
    "\n",
    "        # Creating new variables for the hidden state, otherwise\n",
    "        # we'd backprop through the entire training history\n",
    "        h = tuple([each.data for each in h])\n",
    "\n",
    "        # Zero accumulated gradients\n",
    "        net.zero_grad()\n",
    "\n",
    "        # Get the output from the model\n",
    "        output, h = net(inputs, h)\n",
    "\n",
    "        # Calculate the loss and perform backprop\n",
    "        loss = criterion(output.squeeze(), labels.float())\n",
    "        loss.backward()\n",
    "        # `clip_grad_norm` helps prevent the exploding gradient problem in RNNs / LSTMs.\n",
    "        nn.utils.clip_grad_norm_(net.parameters(), clip)\n",
    "        optimizer.step()\n",
    "\n",
    "        # Loss stats\n",
    "        if counter % print_every == 0:\n",
    "            # Get validation loss\n",
    "            val_h = net.init_hidden(batch_size)\n",
    "            val_losses = []\n",
    "            net.eval()\n",
    "            for inputs, labels in valid_loader:\n",
    "\n",
    "                # Creating new variables for the hidden state, otherwise\n",
    "                # we'd backprop through the entire training history\n",
    "                val_h = tuple([each.data for each in val_h])\n",
    "\n",
    "                if(train_on_gpu):\n",
    "                    inputs, labels = inputs.cuda(), labels.cuda()\n",
    "\n",
    "                output, val_h = net(inputs, val_h)\n",
    "                val_loss = criterion(output.squeeze(), labels.float())\n",
    "\n",
    "                val_losses.append(val_loss.item())\n",
    "\n",
    "            net.train()\n",
    "            print(\"Epoch: {}/{}...\".format(e+1, epochs),\n",
    "                  \"Step: {}...\".format(counter),\n",
    "                  \"Loss: {:.6f}...\".format(loss.item()),\n",
    "                  \"Val Loss: {:.6f}\".format(np.mean(val_losses)))"
   ]
  },
  {
   "cell_type": "markdown",
   "metadata": {},
   "source": [
    "---\n",
    "## Testing\n",
    "\n",
    "There are a few ways to test your network.\n",
    "\n",
    "* **Test data performance:** First, we'll see how our trained model performs on all of our defined test_data, above. We'll calculate the average loss and accuracy over the test data.\n",
    "\n",
    "* **Inference on user-generated data:** Second, we'll see if we can input just one example review at a time (without a label), and see what the trained model predicts. Looking at new, user input data like this, and predicting an output label, is called **inference**."
   ]
  },
  {
   "cell_type": "code",
   "execution_count": null,
   "metadata": {},
   "outputs": [],
   "source": [
    "# Get test data loss and accuracy\n",
    "\n",
    "test_losses = [] # track loss\n",
    "num_correct = 0\n",
    "\n",
    "# init hidden state\n",
    "h = net.init_hidden(batch_size)\n",
    "\n",
    "net.eval()\n",
    "# iterate over test data\n",
    "for inputs, labels in test_loader:\n",
    "\n",
    "    # Creating new variables for the hidden state, otherwise\n",
    "    # we'd backprop through the entire training history\n",
    "    h = tuple([each.data for each in h])\n",
    "\n",
    "    if(train_on_gpu):\n",
    "        inputs, labels = inputs.cuda(), labels.cuda()\n",
    "    \n",
    "    # get predicted outputs\n",
    "    output, h = net(inputs, h)\n",
    "    \n",
    "    # calculate loss\n",
    "    test_loss = criterion(output.squeeze(), labels.float())\n",
    "    test_losses.append(test_loss.item())\n",
    "    \n",
    "    # convert output probabilities to predicted class (0 or 1)\n",
    "    pred = torch.round(output.squeeze())  # rounds to the nearest integer\n",
    "    \n",
    "    # compare predictions to true label\n",
    "    correct_tensor = pred.eq(labels.float().view_as(pred))\n",
    "    correct = np.squeeze(correct_tensor.numpy()) if not train_on_gpu else np.squeeze(correct_tensor.cpu().numpy())\n",
    "    num_correct += np.sum(correct)\n",
    "\n",
    "\n",
    "# -- stats! -- ##\n",
    "# avg test loss\n",
    "print(\"Test loss: {:.3f}\".format(np.mean(test_losses)))\n",
    "\n",
    "# accuracy over all test data\n",
    "test_acc = num_correct/len(test_loader.dataset)\n",
    "print(\"Test accuracy: {:.3f}\".format(test_acc))"
   ]
  },
  {
   "cell_type": "markdown",
   "metadata": {},
   "source": [
    "### Inference on a test review\n",
    "\n",
    "You can change this test_review to any text that you want. Read it and think: is it pos or neg? Then see if your model predicts correctly!\n",
    "    \n",
    "> **Exercise:** Write a `predict` function that takes in a trained net, a plain text_review, and a sequence length, and prints out a custom statement for a positive or negative review!\n",
    "* You can use any functions that you've already defined or define any helper functions you want to complete `predict`, but it should just take in a trained net, a text review, and a sequence length.\n"
   ]
  },
  {
   "cell_type": "code",
   "execution_count": null,
   "metadata": {},
   "outputs": [],
   "source": [
    "# Test reviews\n",
    "test_review_neg = 'The worst movie I have seen; acting was terrible and I want my money back. \\\n",
    "                   This movie had bad acting and the dialogue was slow.'\n",
    "test_review_pos = 'This movie had the best acting and the dialogue was so good. I loved it.'\n",
    "test_review_raph = 'I am not so shure if I can recommend this movie, it was more or less ok, \\\n",
    "                    but that is all I can say about it.'"
   ]
  },
  {
   "cell_type": "code",
   "execution_count": null,
   "metadata": {},
   "outputs": [],
   "source": [
    "def predict(net, test_review, sequence_length=200):\n",
    "    ''' Prints out whether a give review is predicted to be \n",
    "        positive or negative in sentiment, using a trained model.\n",
    "        \n",
    "        params:\n",
    "        net - A trained net \n",
    "        test_review - a review made of normal text and punctuation\n",
    "        sequence_length - the padded length of a review\n",
    "        '''\n",
    "    \n",
    "    review_clean = ''.join([c for c in test_review.lower() if c not in punctuation])\n",
    "    review_int = [vocab_to_int[word] for word in review_clean.split()]\n",
    "    features = np.zeros(sequence_length, dtype=int)\n",
    "    features[-len(review_int):] = np.array(review_int[:seq_length])\n",
    "    features = features.reshape(1, -1)  # transform to 2D\n",
    "    feature_tensor = torch.from_numpy(features)  # convert to tensor to pass into model\n",
    "    print(feature_tensor.size())\n",
    "    net.eval()\n",
    "    \n",
    "    batch_size = feature_tensor.size(0)\n",
    "    h = net.init_hidden(batch_size)\n",
    "\n",
    "    if(train_on_gpu):\n",
    "        feature_tensor = feature_tensor.cuda()\n",
    "\n",
    "    # Get the output from the model\n",
    "    output, h = net(feature_tensor, h)\n",
    "    pred = torch.round(output.squeeze())  # convert output probabilities to predicted class (0 or 1)\n",
    "    \n",
    "    \n",
    "    print('Prediction value, pre-rounding: {:.6f}'.format(output.item()))\n",
    "    if(pred.item()==1):\n",
    "        print(\"Positive review detected!\")\n",
    "    else:\n",
    "        print(\"Negative review detected.\")       "
   ]
  },
  {
   "cell_type": "code",
   "execution_count": null,
   "metadata": {},
   "outputs": [],
   "source": [
    "# Call function\n",
    "seq_length=200\n",
    "predict(net, test_review_neg, seq_length)"
   ]
  },
  {
   "cell_type": "code",
   "execution_count": null,
   "metadata": {},
   "outputs": [],
   "source": [
    "# Call function\n",
    "seq_length=200\n",
    "predict(net, test_review_pos, seq_length)"
   ]
  },
  {
   "cell_type": "code",
   "execution_count": null,
   "metadata": {},
   "outputs": [],
   "source": [
    "# Call function\n",
    "seq_length=200\n",
    "predict(net, test_review_raph, seq_length)"
   ]
  },
  {
   "cell_type": "markdown",
   "metadata": {},
   "source": [
    "---"
   ]
  }
 ],
 "metadata": {
  "hide_input": false,
  "kernelspec": {
   "display_name": "Python 3",
   "language": "python",
   "name": "python3"
  },
  "language_info": {
   "codemirror_mode": {
    "name": "ipython",
    "version": 3
   },
   "file_extension": ".py",
   "mimetype": "text/x-python",
   "name": "python",
   "nbconvert_exporter": "python",
   "pygments_lexer": "ipython3",
   "version": "3.7.3"
  },
  "toc": {
   "base_numbering": 1,
   "nav_menu": {},
   "number_sections": true,
   "sideBar": false,
   "skip_h1_title": true,
   "title_cell": "Table of Contents",
   "title_sidebar": "Contents",
   "toc_cell": true,
   "toc_position": {},
   "toc_section_display": true,
   "toc_window_display": false
  }
 },
 "nbformat": 4,
 "nbformat_minor": 2
}
