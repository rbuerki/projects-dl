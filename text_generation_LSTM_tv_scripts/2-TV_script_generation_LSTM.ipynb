{
 "cells": [
  {
   "cell_type": "markdown",
   "metadata": {},
   "source": [
    "# TV Script Generation\n",
    "\n",
    "The purpose of this project is to generate my own [Seinfeld](https://en.wikipedia.org/wiki/Seinfeld) TV script using an RNN. The network generates a new ,\"fake\" TV script, based on patterns it recognizes in the training data.\n",
    "\n",
    "**Data source:**\n",
    "- The network will be trained with part of the [Seinfeld dataset](https://www.kaggle.com/thec03u5/seinfeld-chronicles#scripts.csv) of scripts from 9 seasons.  \n",
    "\n",
    "**Changes to project**\n",
    "- 2019-12-02: Start notebook\n",
    "- 2019-12-04: Finish project"
   ]
  },
  {
   "cell_type": "markdown",
   "metadata": {
    "toc": true
   },
   "source": [
    "<h1>Table of Contents<span class=\"tocSkip\"></span></h1>\n",
    "<div class=\"toc\"><ul class=\"toc-item\"><li><span><a href=\"#Import-libraries-and-load-data\" data-toc-modified-id=\"Import-libraries-and-load-data-1\"><span class=\"toc-item-num\">1&nbsp;&nbsp;</span>Import libraries and load data</a></span></li><li><span><a href=\"#Explore-data\" data-toc-modified-id=\"Explore-data-2\"><span class=\"toc-item-num\">2&nbsp;&nbsp;</span>Explore data</a></span></li><li><span><a href=\"#Implement-Pre-processing\" data-toc-modified-id=\"Implement-Pre-processing-3\"><span class=\"toc-item-num\">3&nbsp;&nbsp;</span>Implement Pre-processing</a></span><ul class=\"toc-item\"><li><span><a href=\"#Create-Lookup-Table\" data-toc-modified-id=\"Create-Lookup-Table-3.1\"><span class=\"toc-item-num\">3.1&nbsp;&nbsp;</span>Create Lookup Table</a></span></li><li><span><a href=\"#Tokenize-Punctuation\" data-toc-modified-id=\"Tokenize-Punctuation-3.2\"><span class=\"toc-item-num\">3.2&nbsp;&nbsp;</span>Tokenize Punctuation</a></span></li><li><span><a href=\"#Pre-process-and-save-data-(Checkpoint)\" data-toc-modified-id=\"Pre-process-and-save-data-(Checkpoint)-3.3\"><span class=\"toc-item-num\">3.3&nbsp;&nbsp;</span>Pre-process and save data (Checkpoint)</a></span></li></ul></li><li><span><a href=\"#Build-the-Neural-Network\" data-toc-modified-id=\"Build-the-Neural-Network-4\"><span class=\"toc-item-num\">4&nbsp;&nbsp;</span>Build the Neural Network</a></span><ul class=\"toc-item\"><li><span><a href=\"#Prepare-input-tensors-/-batches\" data-toc-modified-id=\"Prepare-input-tensors-/-batches-4.1\"><span class=\"toc-item-num\">4.1&nbsp;&nbsp;</span>Prepare input tensors / batches</a></span></li><li><span><a href=\"#Define-the-Neural-Network\" data-toc-modified-id=\"Define-the-Neural-Network-4.2\"><span class=\"toc-item-num\">4.2&nbsp;&nbsp;</span>Define the Neural Network</a></span></li><li><span><a href=\"#Define-forward-and-backpropagation-functions\" data-toc-modified-id=\"Define-forward-and-backpropagation-functions-4.3\"><span class=\"toc-item-num\">4.3&nbsp;&nbsp;</span>Define forward and backpropagation functions</a></span></li></ul></li><li><span><a href=\"#Neural-Network-Training\" data-toc-modified-id=\"Neural-Network-Training-5\"><span class=\"toc-item-num\">5&nbsp;&nbsp;</span>Neural Network Training</a></span><ul class=\"toc-item\"><li><span><a href=\"#Define-Train-Loop\" data-toc-modified-id=\"Define-Train-Loop-5.1\"><span class=\"toc-item-num\">5.1&nbsp;&nbsp;</span>Define Train Loop</a></span></li><li><span><a href=\"#Set-Hyperparameters\" data-toc-modified-id=\"Set-Hyperparameters-5.2\"><span class=\"toc-item-num\">5.2&nbsp;&nbsp;</span>Set Hyperparameters</a></span></li><li><span><a href=\"#Train\" data-toc-modified-id=\"Train-5.3\"><span class=\"toc-item-num\">5.3&nbsp;&nbsp;</span>Train</a></span></li><li><span><a href=\"#Question:-How-did-you-decide-on-your-model-hyperparameters?\" data-toc-modified-id=\"Question:-How-did-you-decide-on-your-model-hyperparameters?-5.4\"><span class=\"toc-item-num\">5.4&nbsp;&nbsp;</span>Question: How did you decide on your model hyperparameters?</a></span></li><li><span><a href=\"#Checkpoint,-re-load-trained-model\" data-toc-modified-id=\"Checkpoint,-re-load-trained-model-5.5\"><span class=\"toc-item-num\">5.5&nbsp;&nbsp;</span>Checkpoint, re-load trained model</a></span></li></ul></li><li><span><a href=\"#Generate-new--TV-Script\" data-toc-modified-id=\"Generate-new--TV-Script-6\"><span class=\"toc-item-num\">6&nbsp;&nbsp;</span>Generate new  TV Script</a></span><ul class=\"toc-item\"><li><span><a href=\"#Save-your-favorite-scripts\" data-toc-modified-id=\"Save-your-favorite-scripts-6.1\"><span class=\"toc-item-num\">6.1&nbsp;&nbsp;</span>Save your favorite scripts</a></span></li></ul></li></ul></div>"
   ]
  },
  {
   "cell_type": "markdown",
   "metadata": {},
   "source": [
    "## Import libraries and load data"
   ]
  },
  {
   "cell_type": "code",
   "execution_count": 1,
   "metadata": {},
   "outputs": [],
   "source": [
    "from collections import Counter\n",
    "import numpy as np\n",
    "\n",
    "import torch\n",
    "import torch.nn as nn\n",
    "import torch.nn.functional as F\n",
    "from torch.utils.data import TensorDataset, DataLoader\n",
    "\n",
    "import helper\n",
    "import problem_unittests as tests"
   ]
  },
  {
   "cell_type": "code",
   "execution_count": 2,
   "metadata": {},
   "outputs": [],
   "source": [
    "# load in data\n",
    "data_dir = './data/Seinfeld_Scripts.txt'\n",
    "text = helper.load_data(data_dir)"
   ]
  },
  {
   "cell_type": "markdown",
   "metadata": {},
   "source": [
    "## Explore data\n",
    "You can play around with `view_line_range` to view different parts of the data."
   ]
  },
  {
   "cell_type": "code",
   "execution_count": 3,
   "metadata": {},
   "outputs": [
    {
     "name": "stdout",
     "output_type": "stream",
     "text": [
      "Dataset Stats\n",
      "\n",
      "Approx. number of unique words: 46367\n",
      "Number of lines: 109233\n",
      "Average number of words in each line: 5.544240293684143\n",
      "\n",
      "The lines 0 to 10:\n",
      "jerry: do you know what this is all about? do you know, why were here? to be out, this is out...and out is one of the single most enjoyable experiences of life. people...did you ever hear people talking about we should go out? this is what theyre talking about...this whole thing, were all out now, no one is home. not one person here is home, were all out! there are people trying to find us, they dont know where we are. (on an imaginary phone) did you ring?, i cant find him. where did he go? he didnt tell me where he was going. he must have gone out. you wanna go out you get ready, you pick out the clothes, right? you take the shower, you get all ready, get the cash, get your friends, the car, the spot, the reservation...then youre standing around, what do you do? you go we gotta be getting back. once youre out, you wanna get back! you wanna go to sleep, you wanna get up, you wanna go out again tomorrow, right? where ever you are in life, its my feeling, youve gotta go. \n",
      "\n",
      "jerry: (pointing at georges shirt) see, to me, that button is in the worst possible spot. the second button literally makes or breaks the shirt, look at it. its too high! its in no-mans-land. you look like you live with your mother. \n",
      "\n",
      "george: are you through? \n",
      "\n",
      "jerry: you do of course try on, when you buy? \n",
      "\n",
      "george: yes, it was purple, i liked it, i dont actually recall considering the buttons. \n",
      "\n"
     ]
    }
   ],
   "source": [
    "view_line_range = (0, 10)\n",
    "\n",
    "import numpy as np\n",
    "\n",
    "print('Dataset Stats\\n')\n",
    "print('Approx. number of unique words: {}'.format(len({word: None for word in text.split()})))\n",
    "\n",
    "lines = text.split('\\n')\n",
    "print('Number of lines: {}'.format(len(lines)))\n",
    "word_count_line = [len(line.split()) for line in lines]\n",
    "print('Average number of words in each line: {}'.format(np.average(word_count_line)))\n",
    "\n",
    "print('\\nThe lines {} to {}:'.format(*view_line_range))\n",
    "print('\\n'.join(text.split('\\n')[view_line_range[0]:view_line_range[1]]))"
   ]
  },
  {
   "cell_type": "markdown",
   "metadata": {},
   "source": [
    "---\n",
    "## Implement Pre-processing\n",
    "\n",
    "1. Lookup Table\n",
    "2. Tokenize Punctuation\n",
    "\n",
    "### Create Lookup Table\n",
    "Create two dictionaries:\n",
    "- Dictionary to go from the words to an id, we'll call `vocab_to_int`\n",
    "- Dictionary to go from the id to word, we'll call `int_to_vocab`\n",
    "\n",
    "Return these dictionaries in the following **tuple** `(vocab_to_int, int_to_vocab)`"
   ]
  },
  {
   "cell_type": "code",
   "execution_count": 4,
   "metadata": {},
   "outputs": [],
   "source": [
    "def create_lookup_tables(text):\n",
    "    \"\"\" Create two lookup tables for vocabulary and return them as a tuple.\n",
    "    \n",
    "    Arguments:\n",
    "    ----------\n",
    "    - param text: The text of tv scripts split into words\n",
    "    \n",
    "    Returns:\n",
    "    --------\n",
    "    - A tuple of dicts (vocab_to_int, int_to_vocab)\n",
    "    \"\"\"\n",
    "    word_counter = Counter()\n",
    "    for word in text:\n",
    "        word_counter[word] += 1\n",
    "    word_list_sorted = sorted(word_counter, key=word_counter.get, reverse=True)\n",
    "    vocab_to_int = {word : pos for pos, word in enumerate(word_list_sorted)}\n",
    "    int_to_vocab = {pos : word for pos, word in enumerate(word_list_sorted)}\n",
    "    \n",
    "    # return tuple\n",
    "    return (vocab_to_int, int_to_vocab)"
   ]
  },
  {
   "cell_type": "code",
   "execution_count": 5,
   "metadata": {},
   "outputs": [
    {
     "name": "stdout",
     "output_type": "stream",
     "text": [
      "Tests Passed\n"
     ]
    }
   ],
   "source": [
    "# Run tests\n",
    "tests.test_create_lookup_tables(create_lookup_tables)"
   ]
  },
  {
   "cell_type": "markdown",
   "metadata": {},
   "source": [
    "### Tokenize Punctuation\n",
    "We'll be splitting the script into a word array using spaces as delimiters.  However, punctuations like periods and exclamation marks can create multiple ids for the same word. For example, \"bye\" and \"bye!\" would generate two different word ids.\n",
    "\n",
    "Implement the function `token_lookup` to return a dict that will be used to tokenize symbols like \"!\" into \"||Exclamation_Mark||\".  Create a dictionary for the following symbols where the symbol is the key and value is the token:\n",
    "- Period ( **.** )\n",
    "- Comma ( **,** )\n",
    "- Quotation Mark ( **\"** )\n",
    "- Semicolon ( **;** )\n",
    "- Exclamation mark ( **!** )\n",
    "- Question mark ( **?** )\n",
    "- Left Parentheses ( **(** )\n",
    "- Right Parentheses ( **)** )\n",
    "- Dash ( **-** )\n",
    "- Return ( **\\n** )\n",
    "\n",
    "This dictionary will be used to tokenize the symbols and add the delimiter (space) around it.  This separates each symbols as its own word, making it easier for the neural network to predict the next word. Make sure you don't use a value that could be confused as a word; for example, instead of using the value \"dash\", try using something like \"||dash||\"."
   ]
  },
  {
   "cell_type": "code",
   "execution_count": 6,
   "metadata": {},
   "outputs": [],
   "source": [
    "def token_lookup():\n",
    "    \"\"\"\n",
    "    Generate a dict to turn punctuation into a token.\n",
    "    :return: Tokenized dictionary where the key is the punctuation and the value is the token\n",
    "    \"\"\"\n",
    "    \n",
    "    lookup = {'.': '<PERIOD>',\n",
    "              ',': '<COMMA>',\n",
    "              '\"': '<QUOTATION_MARK>',\n",
    "#               ':': '<COLON>',\n",
    "              ';': '<SEMICOLON>' ,\n",
    "              '!': '<EXCLAMATION_MARK>',\n",
    "              '?': '<QUESTION_MARK>',\n",
    "              '(': '<LEFT_PAREN>',\n",
    "              ')': '<RIGHT_PAREN>',\n",
    "              '-': '<DASH>',\n",
    "              '?': '<QUESTION_MARK>',\n",
    "              '\\n': '<NEW_LINE>',\n",
    "             }\n",
    "        \n",
    "    return lookup"
   ]
  },
  {
   "cell_type": "code",
   "execution_count": 7,
   "metadata": {},
   "outputs": [
    {
     "name": "stdout",
     "output_type": "stream",
     "text": [
      "Tests Passed\n"
     ]
    }
   ],
   "source": [
    "# Run tests\n",
    "tests.test_tokenize(token_lookup)"
   ]
  },
  {
   "cell_type": "markdown",
   "metadata": {},
   "source": [
    "### Pre-process and save data (Checkpoint)"
   ]
  },
  {
   "cell_type": "code",
   "execution_count": 8,
   "metadata": {},
   "outputs": [],
   "source": [
    "## Pre-process and save training data\n",
    "# helper.preprocess_and_save_data(data_dir, token_lookup, create_lookup_tables)"
   ]
  },
  {
   "cell_type": "code",
   "execution_count": 9,
   "metadata": {},
   "outputs": [],
   "source": [
    "# Reload pre-processed data\n",
    "int_text, vocab_to_int, int_to_vocab, token_dict = helper.load_preprocess()"
   ]
  },
  {
   "cell_type": "markdown",
   "metadata": {},
   "source": [
    "## Build the Neural Network"
   ]
  },
  {
   "cell_type": "code",
   "execution_count": 10,
   "metadata": {},
   "outputs": [],
   "source": [
    "# Check for a GPU\n",
    "train_on_gpu = torch.cuda.is_available()\n",
    "if not train_on_gpu:\n",
    "    print('No GPU found. Please use a GPU to train your neural network.')"
   ]
  },
  {
   "cell_type": "markdown",
   "metadata": {},
   "source": [
    "### Prepare input tensors / batches\n",
    "- Use [TensorDataset](http://pytorch.org/docs/master/data.html#torch.utils.data.TensorDataset) to provide a known format to the dataset\n",
    "- Use [DataLoader](http://pytorch.org/docs/master/data.html#torch.utils.data.DataLoader) to handle batching, shuffling, and other dataset iteration functions.\n",
    "\n",
    "You can create data with TensorDataset by passing in feature and target tensors. Then create a DataLoader as usual.\n",
    "```\n",
    "data = TensorDataset(feature_tensors, target_tensors)\n",
    "data_loader = torch.utils.data.DataLoader(data, \n",
    "                                          batch_size=batch_size)\n",
    "```\n",
    "\n",
    "**Batching**\n",
    "Implement the `batch_data` function to batch `words` data into chunks of size `batch_size` using the `TensorDataset` and `DataLoader` classes.\n",
    "\n",
    ">You can batch words using the DataLoader, but it will be up to you to create `feature_tensors` and `target_tensors` of the correct size and content for a given `sequence_length`.\n",
    "\n",
    "For example, say we have these as input:\n",
    "```\n",
    "words = [1, 2, 3, 4, 5, 6, 7]\n",
    "sequence_length = 4\n",
    "```\n",
    "\n",
    "Your first `feature_tensor` should contain the values:\n",
    "```\n",
    "[1, 2, 3, 4]\n",
    "```\n",
    "And the corresponding `target_tensor` should just be the next \"word\"/tokenized word value:\n",
    "```\n",
    "5\n",
    "```\n",
    "This should continue with the second `feature_tensor`, `target_tensor` being:\n",
    "```\n",
    "[2, 3, 4, 5]  # features\n",
    "6             # target\n",
    "```"
   ]
  },
  {
   "cell_type": "code",
   "execution_count": 11,
   "metadata": {},
   "outputs": [],
   "source": [
    "def batch_data(words, sequence_length, batch_size):\n",
    "    \"\"\"Batch the neural network data using Pytorch's DataLoader class.\n",
    "    Each batch is a 2D array with size batch_size x sequence_length.\n",
    "    \n",
    "    Arguments:\n",
    "    ----------\n",
    "    words: list, the word ids of the TV scripts\n",
    "    sequence_length: int, sequence length of each batch\n",
    "    batch_size: int, the number of sequences in a batch\n",
    "    \n",
    "    Returns:\n",
    "    --------\n",
    "    DataLoader with batched data\n",
    "    \"\"\"\n",
    "    \n",
    "    # Make sure a label can be returned for every sequence \n",
    "    n_sequences = len(words) - (sequence_length + 1)  \n",
    "    \n",
    "    features = np.zeros(shape=(n_sequences, sequence_length), dtype=int)\n",
    "    labels = np.zeros(n_sequences, dtype=int)\n",
    "    \n",
    "    for n in range(0, n_sequences):\n",
    "        x = np.array(words[n: n + sequence_length])\n",
    "        y = np.array(words[n + sequence_length])\n",
    "        features[n, :] = x\n",
    "        labels[n] = y\n",
    "        \n",
    "    data = TensorDataset(torch.from_numpy(features), torch.from_numpy(labels))    \n",
    "    data_loader = torch.utils.data.DataLoader(data,\n",
    "                                              shuffle=True,\n",
    "                                              batch_size=batch_size,    \n",
    "                                             )    \n",
    "        \n",
    "    return data_loader"
   ]
  },
  {
   "cell_type": "code",
   "execution_count": 12,
   "metadata": {},
   "outputs": [
    {
     "name": "stdout",
     "output_type": "stream",
     "text": [
      "torch.Size([10, 5])\n",
      "tensor([[  3,   4,   5,   6,   7],\n",
      "        [ 16,  17,  18,  19,  20],\n",
      "        [ 30,  31,  32,  33,  34],\n",
      "        [  0,   1,   2,   3,   4],\n",
      "        [  4,   5,   6,   7,   8],\n",
      "        [ 32,  33,  34,  35,  36],\n",
      "        [ 26,  27,  28,  29,  30],\n",
      "        [ 42,  43,  44,  45,  46],\n",
      "        [ 21,  22,  23,  24,  25],\n",
      "        [  1,   2,   3,   4,   5]])\n",
      "\n",
      "torch.Size([10])\n",
      "tensor([  8,  21,  35,   5,   9,  37,  31,  47,  26,   6])\n"
     ]
    }
   ],
   "source": [
    "# Test dataloader\n",
    "\n",
    "test_text = range(50)\n",
    "t_loader = batch_data(test_text, sequence_length=5, batch_size=10)\n",
    "\n",
    "data_iter = iter(t_loader)\n",
    "sample_x, sample_y = data_iter.next()\n",
    "\n",
    "print(sample_x.shape)\n",
    "print(sample_x)\n",
    "print()\n",
    "print(sample_y.shape)\n",
    "print(sample_y)"
   ]
  },
  {
   "cell_type": "code",
   "execution_count": 13,
   "metadata": {},
   "outputs": [
    {
     "name": "stdout",
     "output_type": "stream",
     "text": [
      "torch.Size([10, 5])\n",
      "tensor([[ 12238,   1530,     20,  12239,  12240],\n",
      "        [   103,     25,    289,      1,  17276],\n",
      "        [     3,     11,    349,      6,   3276],\n",
      "        [     5,     42,    667,      1,   1092],\n",
      "        [     2,     17,      5,    292,      6],\n",
      "        [     0,     14,     15,     41,   1402],\n",
      "        [    33,   2515,   1070,     21,     52],\n",
      "        [     8,      1,   2116,   5978,    181],\n",
      "        [     2,      5,     27,     19,      1],\n",
      "        [ 15658,     17,   8220,     15,      2]])\n",
      "\n",
      "torch.Size([10])\n",
      "tensor([   1,   87,  113,    2,  680,   47,  516,   70,   17,   17])\n"
     ]
    }
   ],
   "source": [
    "t_loader = batch_data(int_text, sequence_length=5, batch_size=10)\n",
    "\n",
    "data_iter = iter(t_loader)\n",
    "sample_x, sample_y = data_iter.next()\n",
    "\n",
    "print(sample_x.shape)\n",
    "print(sample_x)\n",
    "print()\n",
    "print(sample_y.shape)\n",
    "print(sample_y)"
   ]
  },
  {
   "cell_type": "markdown",
   "metadata": {},
   "source": [
    "### Define the Neural Network\n",
    "\n",
    "**Note:** The output of this model should be the *last* batch of word scores after a complete sequence has been processed. That is, for each input sequence of words, we only want to output the word scores for a single, most likely, next word."
   ]
  },
  {
   "cell_type": "code",
   "execution_count": 14,
   "metadata": {},
   "outputs": [],
   "source": [
    "class RNN(nn.Module):\n",
    "    \n",
    "    def __init__(self, vocab_size, output_size, embedding_dim, hidden_dim, n_layers, dropout=0.5):\n",
    "        \"\"\" Initialize the PyTorch RNN Module.\n",
    "        \n",
    "        Arguments:\n",
    "        ----------\n",
    "        - vocab_size: int, number of input dimensions (the size of the vocabulary)\n",
    "        - output_size: int, the number of output dimensions of the neural network\n",
    "        - embedding_dim: int, size of embeddings       \n",
    "        - hidden_dim: int, size of the hidden layer outputs\n",
    "        - dropout: float <= 1, dropout to add in between LSTM layers\n",
    "        \n",
    "        Returns:\n",
    "        --------\n",
    "        - None\n",
    "        \"\"\"\n",
    "        \n",
    "        super(RNN, self).__init__()\n",
    "        self.hidden_dim = hidden_dim\n",
    "        self.n_layers = n_layers\n",
    "        self.output_size = output_size            \n",
    "        \n",
    "        # Define model layers\n",
    "        self.embed = nn.Embedding(vocab_size, embedding_dim)\n",
    "        self.lstm = nn.LSTM(embedding_dim, hidden_dim, batch_first=True,\n",
    "                            num_layers=n_layers, dropout=dropout)\n",
    "        self.fc = nn.Linear(hidden_dim, output_size)\n",
    "        \n",
    "        \n",
    "    def forward(self, x, hidden):\n",
    "        \"\"\" Forward propagation of the neural network.\n",
    "        \n",
    "        Arguments:\n",
    "        ----------\n",
    "        - x: tensor, the input to the neural network\n",
    "        - hidden: tensor, the hidden state        \n",
    "        \n",
    "        Returns:\n",
    "        --------\n",
    "        - Two Tensors, the output of the neural network and the latest hidden state\n",
    "        \"\"\"\n",
    "        \n",
    "        batch_size = x.shape[0]\n",
    "        embeddings = self.embed(x)\n",
    "        self.lstm.flatten_parameters()\n",
    "        lstm_out, hidden = self.lstm(embeddings, hidden)\n",
    "        lstm_out_stacked = lstm_out.contiguous().view(-1, self.hidden_dim)\n",
    "        fc_out = self.fc(lstm_out_stacked)\n",
    "        \n",
    "        # To get last batch of word scores\n",
    "        # reshape into (batch_size, seq_length, output_size)\n",
    "        output = fc_out.view(batch_size, -1, self.output_size)\n",
    "        out = output[:, -1]  # get last batch of probs\n",
    "\n",
    "        # return one batch of output word scores and the hidden state\n",
    "        return out, hidden\n",
    "    \n",
    "    \n",
    "    def init_hidden(self, batch_size):\n",
    "        \"\"\"Initialize the hidden state of an LSTM: Create two new tensors with \n",
    "        sizes n_layers x batch_size x hidden_dim,initialized to zero, for \n",
    "        hidden state and cell state of LSTM.\n",
    "        \n",
    "        Arguments:\n",
    "        ----------\n",
    "        - batch_size: int, the batch_size of the hidden state\n",
    "        \n",
    "        Returns:\n",
    "        --------\n",
    "        - hidden: tensor, hidden state of dims (n_layers, batch_size, hidden_dim)\n",
    "        \"\"\"\n",
    "        \n",
    "        weight = next(self.parameters()).data\n",
    "        \n",
    "        if (train_on_gpu):\n",
    "            hidden = (weight.new(self.n_layers, batch_size, self.hidden_dim).zero_().cuda(),\n",
    "                      weight.new(self.n_layers, batch_size, self.hidden_dim).zero_().cuda())\n",
    "        else:\n",
    "            hidden = (weight.new(self.n_layers, batch_size, self.hidden_dim).zero_(),\n",
    "                      weight.new(self.n_layers, batch_size, self.hidden_dim).zero_())\n",
    "        \n",
    "        return hidden"
   ]
  },
  {
   "cell_type": "code",
   "execution_count": 15,
   "metadata": {},
   "outputs": [
    {
     "name": "stdout",
     "output_type": "stream",
     "text": [
      "Tests Passed\n"
     ]
    }
   ],
   "source": [
    "# Run tests\n",
    "tests.test_rnn(RNN, train_on_gpu)"
   ]
  },
  {
   "cell_type": "markdown",
   "metadata": {},
   "source": [
    "### Define forward and backpropagation functions\n",
    "\n",
    "This function will be called, iteratively, in the training loop as follows:\n",
    "```\n",
    "loss = forward_back_prop(decoder, decoder_optimizer, criterion, inp, target)\n",
    "```\n",
    "\n",
    "And it should return the average loss over a batch and the hidden state returned by a call to `RNN(inp, hidden)`. Recall that you can get this loss by computing it, as usual, and calling `loss.item()`."
   ]
  },
  {
   "cell_type": "code",
   "execution_count": 16,
   "metadata": {},
   "outputs": [],
   "source": [
    "def forward_back_prop(decoder, decoder_optimizer, criterion, inputs, target, hidden):\n",
    "    \"\"\" Forward and backward propagation on the neural network.\n",
    "    \n",
    "    Arguments:\n",
    "    ----------\n",
    "    - decoder: the PyTorch Module that holds the neural network\n",
    "    - decoder_optimizer: the PyTorch optimizer for the neural network\n",
    "    - criterion: the PyTorch loss function\n",
    "    - inputs: a batch of input to the neural network\n",
    "    - target: the target output for the batch of input\n",
    "    \n",
    "    Returns:\n",
    "    --------\n",
    "    - The loss and the latest hidden state Tensor\n",
    "    \"\"\"\n",
    "    \n",
    "    # Move data to GPU, if available\n",
    "    if(train_on_gpu):\n",
    "        decoder = decoder.cuda()\n",
    "        inputs, target = inputs.cuda(), target.cuda()\n",
    "        \n",
    "    # Create new variables for the hidden state, otherwise\n",
    "    # we'd backprop through the entire training history\n",
    "    h = tuple([each.data for each in hidden])\n",
    "\n",
    "    # Zero the accumulated gradients\n",
    "    decoder_optimizer.zero_grad()\n",
    "    # Get the output from the model\n",
    "    output, h = decoder(inputs, h)\n",
    "    # Calculate the loss and perform backpropagation\n",
    "    loss = criterion(output, target)\n",
    "    loss.backward()\n",
    "    \n",
    "    # Clip exploding gradients \n",
    "    nn.utils.clip_grad_norm_(decoder.parameters(), 5)\n",
    "    decoder_optimizer.step()\n",
    "    \n",
    "    # Return the loss over a batch and the hidden state\n",
    "    return loss.item(), h"
   ]
  },
  {
   "cell_type": "code",
   "execution_count": 17,
   "metadata": {},
   "outputs": [
    {
     "name": "stdout",
     "output_type": "stream",
     "text": [
      "Tests Passed\n"
     ]
    }
   ],
   "source": [
    "# Run tests (not completely extensive)\n",
    "tests.test_forward_back_prop(RNN, forward_back_prop, train_on_gpu)"
   ]
  },
  {
   "cell_type": "markdown",
   "metadata": {},
   "source": [
    "## Neural Network Training\n",
    "\n",
    "### Define Train Loop"
   ]
  },
  {
   "cell_type": "code",
   "execution_count": 18,
   "metadata": {},
   "outputs": [],
   "source": [
    "def train_rnn(rnn, batch_size, optimizer, criterion, n_epochs, show_every_n_batches=100):\n",
    "    batch_losses = []\n",
    "    \n",
    "    rnn.train()\n",
    "\n",
    "    print(\"Training for %d epoch(s)...\" % n_epochs)\n",
    "    for epoch_i in range(10, n_epochs + 1):\n",
    "        \n",
    "        # Initialize hidden state\n",
    "        hidden = rnn.init_hidden(batch_size)\n",
    "        \n",
    "        for batch_i, (inputs, labels) in enumerate(train_loader, 1):\n",
    "            \n",
    "            # Make sure you iterate over completely full batches, only\n",
    "            n_batches = len(train_loader.dataset)//batch_size\n",
    "            if(batch_i > n_batches):\n",
    "                break\n",
    "            \n",
    "            # Perform forward & back prop\n",
    "            loss, hidden = forward_back_prop(rnn, optimizer, criterion, inputs, labels, hidden)          \n",
    "            # Record loss\n",
    "            batch_losses.append(loss)\n",
    "\n",
    "            # Print loss stats\n",
    "            if batch_i % show_every_n_batches == 0:\n",
    "                print('Epoch: {:>4}/{:<4}  Loss: {}\\n'.format(\n",
    "                    epoch_i, n_epochs, np.average(batch_losses)))\n",
    "                batch_losses = []\n",
    "\n",
    "    # Return trained rnn\n",
    "    return rnn"
   ]
  },
  {
   "cell_type": "markdown",
   "metadata": {},
   "source": [
    "### Set Hyperparameters\n",
    "\n",
    "Set and train the neural network with the following parameters:\n",
    "- Set `sequence_length` to the length of a sequence.\n",
    "- Set `batch_size` to the batch size.\n",
    "- Set `num_epochs` to the number of epochs to train for.\n",
    "- Set `learning_rate` to the learning rate for an Adam optimizer.\n",
    "- Set `vocab_size` to the number of uniqe tokens in our vocabulary.\n",
    "- Set `output_size` to the desired size of the output.\n",
    "- Set `embedding_dim` to the embedding dimension; smaller than the vocab_size.\n",
    "- Set `hidden_dim` to the hidden dimension of your RNN.\n",
    "- Set `n_layers` to the number of layers/cells in your RNN.\n",
    "- Set `show_every_n_batches` to the number of batches at which the neural network should print progress.\n",
    "\n",
    "If the network isn't getting the desired results, tweak these parameters and/or the layers in the `RNN` class."
   ]
  },
  {
   "cell_type": "code",
   "execution_count": 19,
   "metadata": {},
   "outputs": [],
   "source": [
    "# Set data parameters\n",
    "\n",
    "# Sequence Length\n",
    "sequence_length = 10 # of words in a sequence\n",
    "# Batch Size\n",
    "batch_size = 128\n",
    "\n",
    "# Create data loader\n",
    "train_loader = batch_data(int_text, sequence_length, batch_size)"
   ]
  },
  {
   "cell_type": "code",
   "execution_count": 20,
   "metadata": {},
   "outputs": [],
   "source": [
    "# Set training parameters\n",
    "\n",
    "# Number of Epochs\n",
    "num_epochs = 11\n",
    "# Learning Rate\n",
    "learning_rate = 0.001 \n",
    "\n",
    "# Model parameters\n",
    "\n",
    "# Vocab size\n",
    "vocab_size = len(vocab_to_int)  \n",
    "# Output size\n",
    "output_size = vocab_size\n",
    "# Embedding Dimension\n",
    "embedding_dim = 200 \n",
    "# Hidden Dimension\n",
    "hidden_dim = 256\n",
    "# Number of RNN Layers\n",
    "n_layers = 2\n",
    "\n",
    "# Show stats for every n number of batches\n",
    "show_every_n_batches = 1000"
   ]
  },
  {
   "cell_type": "markdown",
   "metadata": {},
   "source": [
    "### Train\n",
    "\n",
    "> **You should aim for a loss less than 3.5.** You should also experiment with different sequence lengths, which determine the size of the long range dependencies that a model can learn."
   ]
  },
  {
   "cell_type": "code",
   "execution_count": 35,
   "metadata": {},
   "outputs": [
    {
     "name": "stdout",
     "output_type": "stream",
     "text": [
      "Training for 11 epoch(s)...\n",
      "Epoch:   10/11    Loss: 3.225506061553955\n",
      "\n",
      "Epoch:   10/11    Loss: 3.222130899429321\n",
      "\n",
      "Epoch:   10/11    Loss: 3.227776923418045\n",
      "\n",
      "Epoch:   10/11    Loss: 3.2282236764431\n",
      "\n",
      "Epoch:   10/11    Loss: 3.2316513385772705\n",
      "\n",
      "Epoch:   10/11    Loss: 3.2096594355106354\n",
      "\n",
      "Epoch:   11/11    Loss: 3.2157082357886115\n",
      "\n",
      "Epoch:   11/11    Loss: 3.224860273599625\n",
      "\n",
      "Epoch:   11/11    Loss: 3.2180999081134796\n",
      "\n",
      "Epoch:   11/11    Loss: 3.227487102270126\n",
      "\n",
      "Epoch:   11/11    Loss: 3.227510671377182\n",
      "\n",
      "Epoch:   11/11    Loss: 3.223778514623642\n",
      "\n",
      "Model Trained and Saved\n"
     ]
    },
    {
     "name": "stderr",
     "output_type": "stream",
     "text": [
      "/opt/conda/lib/python3.6/site-packages/torch/serialization.py:193: UserWarning: Couldn't retrieve source code for container of type RNN. It won't be checked for correctness upon loading.\n",
      "  \"type \" + obj.__name__ + \". It won't be checked \"\n"
     ]
    }
   ],
   "source": [
    "do not run accidentially\n",
    "\n",
    "# Create model and move to gpu if available\n",
    "rnn = RNN(vocab_size, output_size, embedding_dim, hidden_dim, n_layers, dropout=0.5)\n",
    "if train_on_gpu:\n",
    "    rnn.cuda()\n",
    "\n",
    "# Define loss and optimization functions for training\n",
    "optimizer = torch.optim.Adam(rnn.parameters(), lr=learning_rate)\n",
    "criterion = nn.CrossEntropyLoss()\n",
    "\n",
    "# Train model\n",
    "trained_rnn = train_rnn(trained_rnn, batch_size, optimizer, criterion, num_epochs, show_every_n_batches)\n",
    "\n",
    "# Save trained model\n",
    "helper.save_model('./save/trained_rnn', trained_rnn)\n",
    "print('Model Trained and Saved')"
   ]
  },
  {
   "cell_type": "markdown",
   "metadata": {},
   "source": [
    "### Question: How did you decide on your model hyperparameters? \n",
    "For example, did you try different sequence_lengths and find that one size made the model converge faster? What about your hidden_dim and n_layers; how did you decide on those?"
   ]
  },
  {
   "cell_type": "markdown",
   "metadata": {},
   "source": [
    "**Answer:**\n",
    "\n",
    "\n",
    "Batch Size = 128\n",
    "- Tried 64 to 256 too, but 128 showed best performance.\n",
    "\n",
    "Number of RNN Layers = 2\n",
    "- Did not try more as the results were satisfying.\n",
    "\n",
    "Hidden Dimension = 256\n",
    "- Tried range 128 and 512 too, but but 256 showed best performance.\n",
    "\n",
    "Embedding Dimension = 200\n",
    "- Range between 200 and 500 seems to be common, I aimed for the lower and it worked fine. _(Suggestion review: the vocab contains ~46,367 unique words. Try to cut this down significantly by 98% to 1000 embeddings.)_\n",
    "\n",
    "Learning Rate = 0.001\n",
    "- Standard starting point, worked fine.\n",
    "\n",
    "Sequence Length = 10\n",
    "- Did not want to go too much above the average line length of the original scripts. Higher lighths slowed training considerably. _(Suggestion review: Chose a sequence length of 50 to give the network a context of approximately 10 script lines on average to consider during training.)_ \n",
    "\n",
    "Epochs = 11\n",
    "- Enough to get loss of <3.5. Longer training could have further decreased it, but the curve got quite flat in the end."
   ]
  },
  {
   "cell_type": "markdown",
   "metadata": {},
   "source": [
    "### Checkpoint, re-load trained model"
   ]
  },
  {
   "cell_type": "code",
   "execution_count": 21,
   "metadata": {},
   "outputs": [],
   "source": [
    "# Load model and data\n",
    "_, vocab_to_int, int_to_vocab, token_dict = helper.load_preprocess()\n",
    "trained_rnn = helper.load_model('./save/trained_rnn')"
   ]
  },
  {
   "cell_type": "markdown",
   "metadata": {},
   "source": [
    "## Generate new  TV Script\n",
    "With the network trained and saved, we can use it to generate a new, \"fake\" Seinfeld TV script in this section.\n",
    "\n",
    "**Generate Text:** To generate the text, the network needs to start with a single word and repeat its predictions until it reaches a set length. Also note that the function below uses topk sampling to introduce some randomness in choosing the most likely next word, given an output set of word scores!"
   ]
  },
  {
   "cell_type": "code",
   "execution_count": 22,
   "metadata": {},
   "outputs": [],
   "source": [
    "def generate(rnn, prime_id, int_to_vocab, token_dict, pad_value, predict_len=100):\n",
    "    \"\"\"Generate text using a trained neural network.\n",
    "    \n",
    "    Parameters:\n",
    "    -----------\n",
    "    - decoder: The PyTorch Module that holds the trained neural network\n",
    "    - prime_id: The word id to start the first prediction\n",
    "    - int_to_vocab: Dict of word id keys to word values\n",
    "    - token_dict: Dict of puncuation tokens keys to puncuation values\n",
    "    - pad_value: The value used to pad a sequence\n",
    "    - predict_len: The length of text to generate\n",
    "    \n",
    "    Returns: \n",
    "    --------\n",
    "    The generated text\n",
    "    \"\"\"\n",
    "    rnn.eval()\n",
    "    \n",
    "    # Create a sequence (batch_size=1) with the prime_id\n",
    "    current_seq = np.full((1, sequence_length), pad_value)\n",
    "    current_seq[-1][-1] = prime_id\n",
    "    predicted = [int_to_vocab[prime_id]]\n",
    "    \n",
    "    for _ in range(predict_len):\n",
    "        if train_on_gpu:\n",
    "            current_seq = torch.LongTensor(current_seq).cuda()\n",
    "        else:\n",
    "            current_seq = torch.LongTensor(current_seq)\n",
    "        \n",
    "        # Initialize the hidden state\n",
    "        hidden = rnn.init_hidden(current_seq.size(0))\n",
    "        \n",
    "        # Get the output of the rnn\n",
    "        output, _ = rnn(current_seq, hidden)\n",
    "        \n",
    "        # Get the next word probabilities\n",
    "        p = F.softmax(output, dim=1).data\n",
    "        if(train_on_gpu):\n",
    "            p = p.cpu() # move to cpu\n",
    "         \n",
    "        # Use top_k sampling to get the index of the next word\n",
    "        top_k = 5\n",
    "        p, top_i = p.topk(top_k)\n",
    "        top_i = top_i.numpy().squeeze()\n",
    "        \n",
    "        # Select the likely next word index with some element of randomness\n",
    "        p = p.numpy().squeeze()\n",
    "        word_i = np.random.choice(top_i, p=p/p.sum())\n",
    "        \n",
    "        # Retrieve that word from the dictionary\n",
    "        word = int_to_vocab[word_i]\n",
    "        predicted.append(word)     \n",
    "        \n",
    "        # The generated word becomes the next \"current sequence\" and the cycle can continue\n",
    "        current_seq = np.roll(current_seq, -1, 1)\n",
    "        current_seq[-1][-1] = word_i\n",
    "    \n",
    "    gen_sentences = ' '.join(predicted)\n",
    "    \n",
    "    # Replace punctuation tokens\n",
    "    for key, token in token_dict.items():\n",
    "        ending = ' ' if key in ['\\n', '(', '\"'] else ''\n",
    "        gen_sentences = gen_sentences.replace(' ' + token.lower(), key)\n",
    "    gen_sentences = gen_sentences.replace('\\n ', '\\n')\n",
    "    gen_sentences = gen_sentences.replace('( ', '(')\n",
    "    \n",
    "    # Return all the sentences\n",
    "    return gen_sentences"
   ]
  },
  {
   "cell_type": "code",
   "execution_count": 23,
   "metadata": {},
   "outputs": [
    {
     "name": "stdout",
     "output_type": "stream",
     "text": [
      "jerry:\n",
      "\n",
      "jerry: i think it's all that.\n",
      "\n",
      "jerry: i don't think you can take a ride.\n",
      "\n",
      "elaine: i don't know.\n",
      "\n",
      "george: well, i don't think so. i mean, i have no control on this.\n",
      "\n",
      "jerry: oh, you got that fedex?!\n",
      "\n",
      "jerry: i don't understand, but i don't want it to get out of here.\n",
      "\n",
      "jerry: i think i can...(she turns around and puts his head down)\n",
      "\n",
      "kramer:(to jerry) i don't want you to take a ride.\n",
      "\n",
      "elaine: what is that?\n",
      "\n",
      "kramer: yeah, yeah.\n",
      "\n",
      "george:(to jerry) oh, yeah...(to kramer) you got that straight in the bathroom?(elaine enters)\n",
      "\n",
      "elaine: hey, hey, hey! i got news with him!\n",
      "\n",
      "george: what is that?\n",
      "\n",
      "jerry: no, i didn't say anything.\n",
      "\n",
      "jerry: oh yeah. i know what i'm gonna do, i don't have to be there.\n",
      "\n",
      "jerry: oh, come on, let's see, what do you need?\n",
      "\n",
      "george: no.\n",
      "\n",
      "kramer: hey, jerry, you are gonna do that.\n",
      "\n",
      "jerry: i don't know. i mean, you know, the guy who plays object on.\n",
      "\n",
      "george: oh, i think i can go.\n",
      "\n",
      "jerry: well...\n",
      "\n",
      "kramer:(to elaine) i don't know what you want.\n",
      "\n",
      "elaine: oh, yeah.\n",
      "\n",
      "jerry:(to george) oh my god, i just wanted to go with the bathroom.\n",
      "\n",
      "jerry: oh, i know who i'm gonna do, i don't even want you to do this.\n",
      "\n",
      "elaine: well, i don't think you can...\n",
      "\n",
      "jerry: well, i think we can get it.\n",
      "\n",
      "jerry: i think you were a man.\n",
      "\n",
      "jerry:(to the phone) yeah, yeah.\n",
      "\n",
      "jerry:(looking at his watch) hey.\n"
     ]
    }
   ],
   "source": [
    "# Run the cell multiple times to get different results\n",
    "gen_length = 400 # modify the length to your preference\n",
    "prime_word = 'jerry' # name for starting the script\n",
    "\n",
    "pad_word = helper.SPECIAL_WORDS['PADDING']\n",
    "generated_script = generate(trained_rnn, vocab_to_int[prime_word + ':'], int_to_vocab, token_dict, vocab_to_int[pad_word], gen_length)\n",
    "print(generated_script)"
   ]
  },
  {
   "cell_type": "markdown",
   "metadata": {},
   "source": [
    "### Save your favorite scripts"
   ]
  },
  {
   "cell_type": "code",
   "execution_count": 30,
   "metadata": {},
   "outputs": [],
   "source": [
    "# save script to a text file\n",
    "f =  open(\"generated_script_1.txt\",\"w\")\n",
    "f.write(generated_script)\n",
    "f.close()"
   ]
  },
  {
   "cell_type": "markdown",
   "metadata": {},
   "source": [
    "---"
   ]
  }
 ],
 "metadata": {
  "hide_input": false,
  "kernelspec": {
   "display_name": "Python 3",
   "language": "python",
   "name": "python3"
  },
  "language_info": {
   "codemirror_mode": {
    "name": "ipython",
    "version": 3
   },
   "file_extension": ".py",
   "mimetype": "text/x-python",
   "name": "python",
   "nbconvert_exporter": "python",
   "pygments_lexer": "ipython3",
   "version": "3.7.3"
  },
  "toc": {
   "base_numbering": 1,
   "nav_menu": {},
   "number_sections": true,
   "sideBar": false,
   "skip_h1_title": true,
   "title_cell": "Table of Contents",
   "title_sidebar": "Contents",
   "toc_cell": true,
   "toc_position": {},
   "toc_section_display": true,
   "toc_window_display": false
  },
  "widgets": {
   "state": {},
   "version": "1.1.2"
  }
 },
 "nbformat": 4,
 "nbformat_minor": 1
}
